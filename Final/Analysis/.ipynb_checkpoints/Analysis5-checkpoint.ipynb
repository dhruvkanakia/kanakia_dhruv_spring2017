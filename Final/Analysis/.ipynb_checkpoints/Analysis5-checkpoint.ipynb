{
 "cells": [
  {
   "cell_type": "markdown",
   "metadata": {},
   "source": [
    "## Analysis 5: Finding out final pairs between the main attributes in the dataset"
   ]
  },
  {
   "cell_type": "code",
   "execution_count": 1,
   "metadata": {
    "collapsed": true
   },
   "outputs": [],
   "source": [
    "import os                            #importng os library\n",
    "import pandas as pd\n",
    "import seaborn as sns\n",
    "import matplotlib.pyplot as plt\n",
    "from pandas import DataFrame\n",
    "from pylab import *\n",
    "import numpy as np\n",
    "import matplotlib\n",
    "from wordcloud import WordCloud, STOPWORDS, ImageColorGenerator\n",
    "from matplotlib.ticker import FormatStrFormatter\n",
    "from matplotlib_venn import venn3, venn3_circles"
   ]
  },
  {
   "cell_type": "code",
   "execution_count": 2,
   "metadata": {
    "collapsed": true
   },
   "outputs": [],
   "source": [
    "path=os.chdir(\"..\")                   #Moving back one folder"
   ]
  },
  {
   "cell_type": "code",
   "execution_count": 3,
   "metadata": {
    "collapsed": false
   },
   "outputs": [
    {
     "data": {
      "text/plain": [
       "'C:\\\\DataAnalysis4Python\\\\kanakia_dhruv_spring2017\\\\Final'"
      ]
     },
     "execution_count": 3,
     "metadata": {},
     "output_type": "execute_result"
    }
   ],
   "source": [
    "path=os.getcwd()                          #Checking the path\n",
    "path"
   ]
  },
  {
   "cell_type": "code",
   "execution_count": 4,
   "metadata": {
    "collapsed": true
   },
   "outputs": [],
   "source": [
    "final_path1= path+ \"\\\\Data\\\\movie_metadata.csv\""
   ]
  },
  {
   "cell_type": "code",
   "execution_count": 5,
   "metadata": {
    "collapsed": true
   },
   "outputs": [],
   "source": [
    "final_path= path+\"\\\\Data\\\\genre_sorted.csv\" #setting up the final path in final_path"
   ]
  },
  {
   "cell_type": "code",
   "execution_count": 6,
   "metadata": {
    "collapsed": true
   },
   "outputs": [],
   "source": [
    "df1= pd.read_csv(final_path1)"
   ]
  },
  {
   "cell_type": "code",
   "execution_count": 7,
   "metadata": {
    "collapsed": false,
    "scrolled": true
   },
   "outputs": [],
   "source": [
    "df= pd.read_csv(final_path, encoding='ISO-8859-1')\n",
    "#df.head()"
   ]
  },
  {
   "cell_type": "code",
   "execution_count": 8,
   "metadata": {
    "collapsed": false
   },
   "outputs": [],
   "source": [
    "df_clean = df[['budget', 'genres', 'gross', 'year','actors','director_name','imdb_score','net','net_percentage','movie_title','plot_keyword']].dropna()\n",
    "df_plot_actor = pd.DataFrame(columns = ['actor','genres','plot_keyword' ,'budget', 'gross', 'year','director_name','imdb_score','net','net_percentage','movie_title',\n",
    "                                  'cactor'])\n",
    "\n",
    "def plotActorRemap(row):\n",
    "    global df_plot_actor\n",
    "    d = {}\n",
    "    actors = np.array(row['actors'].split(','))\n",
    "    n = actors.size\n",
    "    d['plot_keyword']= [row['plot_keyword']]*n\n",
    "    d['genres']= [row['genres']]*n\n",
    "    d['budget'] = [row['budget']]*n\n",
    "    d['gross'] = [row['gross']]*n\n",
    "    d['year'] = [row['year']]*n\n",
    "    d['director_name']= [row['director_name']]*n\n",
    "    d['imdb_score']=[row['imdb_score']]*n\n",
    "    d['net']= [row['net']]*n\n",
    "    d['net_percentage']= [row['net_percentage']]*n\n",
    "    d['movie_title']= [row['movie_title']]*n\n",
    "    d['actor'], d['cactor'] = [], []\n",
    "\n",
    "    for actor in actors:\n",
    "        d['actor'].append(actor)\n",
    "        d['cactor'].append(actors[actors != actor])\n",
    "\n",
    "    df_plot_actor = df_plot_actor.append(pd.DataFrame(d), ignore_index = True)\n",
    "\n",
    "df_clean.apply(plotActorRemap, axis = 1)\n",
    "df_plot_actor['year'] = df_plot_actor['year'].astype(np.int16)\n",
    "df_plot_actor = df_plot_actor[['actor','genres','plot_keyword' ,'budget', 'gross', 'year','director_name','imdb_score','net','net_percentage','movie_title',\n",
    "                                  'cactor']]"
   ]
  },
  {
   "cell_type": "code",
   "execution_count": 9,
   "metadata": {
    "collapsed": false
   },
   "outputs": [
    {
     "data": {
      "text/html": [
       "<div>\n",
       "<table border=\"1\" class=\"dataframe\">\n",
       "  <thead>\n",
       "    <tr style=\"text-align: right;\">\n",
       "      <th></th>\n",
       "      <th>actor</th>\n",
       "      <th>genres</th>\n",
       "      <th>plot_keyword</th>\n",
       "      <th>budget</th>\n",
       "      <th>gross</th>\n",
       "      <th>year</th>\n",
       "      <th>director_name</th>\n",
       "      <th>imdb_score</th>\n",
       "      <th>net</th>\n",
       "      <th>net_percentage</th>\n",
       "      <th>movie_title</th>\n",
       "      <th>cactor</th>\n",
       "    </tr>\n",
       "  </thead>\n",
       "  <tbody>\n",
       "    <tr>\n",
       "      <th>0</th>\n",
       "      <td>CCH Pounder</td>\n",
       "      <td>Action|Adventure|Fantasy|Sci-Fi</td>\n",
       "      <td>avatar</td>\n",
       "      <td>237000000.0</td>\n",
       "      <td>760505847.0</td>\n",
       "      <td>2009</td>\n",
       "      <td>James Cameron</td>\n",
       "      <td>7.9</td>\n",
       "      <td>523505847.0</td>\n",
       "      <td>220.888543</td>\n",
       "      <td>Avatar</td>\n",
       "      <td>[Joel David Moore, Wes Studi]</td>\n",
       "    </tr>\n",
       "    <tr>\n",
       "      <th>1</th>\n",
       "      <td>Joel David Moore</td>\n",
       "      <td>Action|Adventure|Fantasy|Sci-Fi</td>\n",
       "      <td>avatar</td>\n",
       "      <td>237000000.0</td>\n",
       "      <td>760505847.0</td>\n",
       "      <td>2009</td>\n",
       "      <td>James Cameron</td>\n",
       "      <td>7.9</td>\n",
       "      <td>523505847.0</td>\n",
       "      <td>220.888543</td>\n",
       "      <td>Avatar</td>\n",
       "      <td>[CCH Pounder, Wes Studi]</td>\n",
       "    </tr>\n",
       "    <tr>\n",
       "      <th>2</th>\n",
       "      <td>Wes Studi</td>\n",
       "      <td>Action|Adventure|Fantasy|Sci-Fi</td>\n",
       "      <td>avatar</td>\n",
       "      <td>237000000.0</td>\n",
       "      <td>760505847.0</td>\n",
       "      <td>2009</td>\n",
       "      <td>James Cameron</td>\n",
       "      <td>7.9</td>\n",
       "      <td>523505847.0</td>\n",
       "      <td>220.888543</td>\n",
       "      <td>Avatar</td>\n",
       "      <td>[CCH Pounder, Joel David Moore]</td>\n",
       "    </tr>\n",
       "    <tr>\n",
       "      <th>3</th>\n",
       "      <td>CCH Pounder</td>\n",
       "      <td>Action|Adventure|Fantasy|Sci-Fi</td>\n",
       "      <td>future</td>\n",
       "      <td>237000000.0</td>\n",
       "      <td>760505847.0</td>\n",
       "      <td>2009</td>\n",
       "      <td>James Cameron</td>\n",
       "      <td>7.9</td>\n",
       "      <td>523505847.0</td>\n",
       "      <td>220.888543</td>\n",
       "      <td>Avatar</td>\n",
       "      <td>[Joel David Moore, Wes Studi]</td>\n",
       "    </tr>\n",
       "    <tr>\n",
       "      <th>4</th>\n",
       "      <td>Joel David Moore</td>\n",
       "      <td>Action|Adventure|Fantasy|Sci-Fi</td>\n",
       "      <td>future</td>\n",
       "      <td>237000000.0</td>\n",
       "      <td>760505847.0</td>\n",
       "      <td>2009</td>\n",
       "      <td>James Cameron</td>\n",
       "      <td>7.9</td>\n",
       "      <td>523505847.0</td>\n",
       "      <td>220.888543</td>\n",
       "      <td>Avatar</td>\n",
       "      <td>[CCH Pounder, Wes Studi]</td>\n",
       "    </tr>\n",
       "  </tbody>\n",
       "</table>\n",
       "</div>"
      ],
      "text/plain": [
       "              actor                           genres plot_keyword  \\\n",
       "0       CCH Pounder  Action|Adventure|Fantasy|Sci-Fi       avatar   \n",
       "1  Joel David Moore  Action|Adventure|Fantasy|Sci-Fi       avatar   \n",
       "2         Wes Studi  Action|Adventure|Fantasy|Sci-Fi       avatar   \n",
       "3       CCH Pounder  Action|Adventure|Fantasy|Sci-Fi       future   \n",
       "4  Joel David Moore  Action|Adventure|Fantasy|Sci-Fi       future   \n",
       "\n",
       "        budget        gross  year  director_name  imdb_score          net  \\\n",
       "0  237000000.0  760505847.0  2009  James Cameron         7.9  523505847.0   \n",
       "1  237000000.0  760505847.0  2009  James Cameron         7.9  523505847.0   \n",
       "2  237000000.0  760505847.0  2009  James Cameron         7.9  523505847.0   \n",
       "3  237000000.0  760505847.0  2009  James Cameron         7.9  523505847.0   \n",
       "4  237000000.0  760505847.0  2009  James Cameron         7.9  523505847.0   \n",
       "\n",
       "   net_percentage movie_title                           cactor  \n",
       "0      220.888543     Avatar     [Joel David Moore, Wes Studi]  \n",
       "1      220.888543     Avatar          [CCH Pounder, Wes Studi]  \n",
       "2      220.888543     Avatar   [CCH Pounder, Joel David Moore]  \n",
       "3      220.888543     Avatar     [Joel David Moore, Wes Studi]  \n",
       "4      220.888543     Avatar          [CCH Pounder, Wes Studi]  "
      ]
     },
     "execution_count": 9,
     "metadata": {},
     "output_type": "execute_result"
    }
   ],
   "source": [
    "df_plot_actor.head()"
   ]
  },
  {
   "cell_type": "code",
   "execution_count": 11,
   "metadata": {
    "collapsed": false
   },
   "outputs": [
    {
     "data": {
      "text/html": [
       "<div>\n",
       "<table border=\"1\" class=\"dataframe\">\n",
       "  <thead>\n",
       "    <tr style=\"text-align: right;\">\n",
       "      <th></th>\n",
       "      <th>actor</th>\n",
       "      <th>genres</th>\n",
       "      <th>plot_keyword</th>\n",
       "      <th>budget</th>\n",
       "      <th>gross</th>\n",
       "      <th>year</th>\n",
       "      <th>director_name</th>\n",
       "      <th>imdb_score</th>\n",
       "      <th>net</th>\n",
       "      <th>net_percentage</th>\n",
       "      <th>movie_title</th>\n",
       "      <th>cactor</th>\n",
       "    </tr>\n",
       "  </thead>\n",
       "  <tbody>\n",
       "    <tr>\n",
       "      <th>0</th>\n",
       "      <td>CCH Pounder</td>\n",
       "      <td>Action|Adventure|Fantasy|Sci-Fi</td>\n",
       "      <td>avatar</td>\n",
       "      <td>237000000.0</td>\n",
       "      <td>760505847.0</td>\n",
       "      <td>2009</td>\n",
       "      <td>James Cameron</td>\n",
       "      <td>7.9</td>\n",
       "      <td>523505847.0</td>\n",
       "      <td>220.888543</td>\n",
       "      <td>Avatar</td>\n",
       "      <td>[Joel David Moore, Wes Studi]</td>\n",
       "    </tr>\n",
       "    <tr>\n",
       "      <th>1</th>\n",
       "      <td>Joel David Moore</td>\n",
       "      <td>Action|Adventure|Fantasy|Sci-Fi</td>\n",
       "      <td>avatar</td>\n",
       "      <td>237000000.0</td>\n",
       "      <td>760505847.0</td>\n",
       "      <td>2009</td>\n",
       "      <td>James Cameron</td>\n",
       "      <td>7.9</td>\n",
       "      <td>523505847.0</td>\n",
       "      <td>220.888543</td>\n",
       "      <td>Avatar</td>\n",
       "      <td>[CCH Pounder, Wes Studi]</td>\n",
       "    </tr>\n",
       "    <tr>\n",
       "      <th>2</th>\n",
       "      <td>Wes Studi</td>\n",
       "      <td>Action|Adventure|Fantasy|Sci-Fi</td>\n",
       "      <td>avatar</td>\n",
       "      <td>237000000.0</td>\n",
       "      <td>760505847.0</td>\n",
       "      <td>2009</td>\n",
       "      <td>James Cameron</td>\n",
       "      <td>7.9</td>\n",
       "      <td>523505847.0</td>\n",
       "      <td>220.888543</td>\n",
       "      <td>Avatar</td>\n",
       "      <td>[CCH Pounder, Joel David Moore]</td>\n",
       "    </tr>\n",
       "    <tr>\n",
       "      <th>3</th>\n",
       "      <td>CCH Pounder</td>\n",
       "      <td>Action|Adventure|Fantasy|Sci-Fi</td>\n",
       "      <td>future</td>\n",
       "      <td>237000000.0</td>\n",
       "      <td>760505847.0</td>\n",
       "      <td>2009</td>\n",
       "      <td>James Cameron</td>\n",
       "      <td>7.9</td>\n",
       "      <td>523505847.0</td>\n",
       "      <td>220.888543</td>\n",
       "      <td>Avatar</td>\n",
       "      <td>[Joel David Moore, Wes Studi]</td>\n",
       "    </tr>\n",
       "    <tr>\n",
       "      <th>4</th>\n",
       "      <td>Joel David Moore</td>\n",
       "      <td>Action|Adventure|Fantasy|Sci-Fi</td>\n",
       "      <td>future</td>\n",
       "      <td>237000000.0</td>\n",
       "      <td>760505847.0</td>\n",
       "      <td>2009</td>\n",
       "      <td>James Cameron</td>\n",
       "      <td>7.9</td>\n",
       "      <td>523505847.0</td>\n",
       "      <td>220.888543</td>\n",
       "      <td>Avatar</td>\n",
       "      <td>[CCH Pounder, Wes Studi]</td>\n",
       "    </tr>\n",
       "  </tbody>\n",
       "</table>\n",
       "</div>"
      ],
      "text/plain": [
       "              actor                           genres plot_keyword  \\\n",
       "0       CCH Pounder  Action|Adventure|Fantasy|Sci-Fi       avatar   \n",
       "1  Joel David Moore  Action|Adventure|Fantasy|Sci-Fi       avatar   \n",
       "2         Wes Studi  Action|Adventure|Fantasy|Sci-Fi       avatar   \n",
       "3       CCH Pounder  Action|Adventure|Fantasy|Sci-Fi       future   \n",
       "4  Joel David Moore  Action|Adventure|Fantasy|Sci-Fi       future   \n",
       "\n",
       "        budget        gross  year  director_name  imdb_score          net  \\\n",
       "0  237000000.0  760505847.0  2009  James Cameron         7.9  523505847.0   \n",
       "1  237000000.0  760505847.0  2009  James Cameron         7.9  523505847.0   \n",
       "2  237000000.0  760505847.0  2009  James Cameron         7.9  523505847.0   \n",
       "3  237000000.0  760505847.0  2009  James Cameron         7.9  523505847.0   \n",
       "4  237000000.0  760505847.0  2009  James Cameron         7.9  523505847.0   \n",
       "\n",
       "   net_percentage movie_title                           cactor  \n",
       "0      220.888543     Avatar     [Joel David Moore, Wes Studi]  \n",
       "1      220.888543     Avatar          [CCH Pounder, Wes Studi]  \n",
       "2      220.888543     Avatar   [CCH Pounder, Joel David Moore]  \n",
       "3      220.888543     Avatar     [Joel David Moore, Wes Studi]  \n",
       "4      220.888543     Avatar          [CCH Pounder, Wes Studi]  "
      ]
     },
     "execution_count": 11,
     "metadata": {},
     "output_type": "execute_result"
    }
   ],
   "source": [
    "df_plot_actor.head()"
   ]
  },
  {
   "cell_type": "code",
   "execution_count": null,
   "metadata": {
    "collapsed": false
   },
   "outputs": [],
   "source": []
  },
  {
   "cell_type": "markdown",
   "metadata": {},
   "source": [
    "## Action vs other Genre's"
   ]
  },
  {
   "cell_type": "code",
   "execution_count": 12,
   "metadata": {
    "collapsed": true
   },
   "outputs": [],
   "source": []
  },
  {
   "cell_type": "code",
   "execution_count": 20,
   "metadata": {
    "collapsed": true
   },
   "outputs": [],
   "source": [
    "%matplotlib inline"
   ]
  },
  {
   "cell_type": "code",
   "execution_count": 28,
   "metadata": {
    "collapsed": false
   },
   "outputs": [
    {
     "data": {
      "text/plain": [
       "<matplotlib.figure.Figure at 0x1df1c24a518>"
      ]
     },
     "execution_count": 28,
     "metadata": {},
     "output_type": "execute_result"
    },
    {
     "data": {
      "image/png": "[encoded data removed]",
      "text/plain": [
       "<matplotlib.figure.Figure at 0x1df15197c18>"
      ]
     },
     "metadata": {},
     "output_type": "display_data"
    },
    {
     "data": {
      "text/plain": [
       "<matplotlib.figure.Figure at 0x1df1c24a518>"
      ]
     },
     "metadata": {},
     "output_type": "display_data"
    }
   ],
   "source": [
    "df_action = df1.loc[df1['genres'].str.contains('Action')]\n",
    "\n",
    "sns.set(style=\"whitegrid\")\n",
    "\n",
    "\n",
    "f, ax = plt.subplots(figsize=(9, 6))\n",
    "\n",
    "sns.set_color_codes(\"pastel\")\n",
    "sns.barplot(x=\"title_year\", y=\"imdb_score\", data=df1,\n",
    "            label=\"All Movies\", color=\"b\")\n",
    "\n",
    "sns.set_color_codes(\"muted\")\n",
    "sns.barplot(x=\"title_year\", y=\"imdb_score\", data=df_action,\n",
    "            label=\"Action Movies\", color=\"b\")\n",
    "\n",
    "ax.legend(loc=\"lower right\", frameon=True)\n",
    "ticks = plt.setp(ax.get_xticklabels(),rotation=90)\n",
    "sns.plt.figure()"
   ]
  },
  {
   "cell_type": "code",
   "execution_count": null,
   "metadata": {
    "collapsed": true
   },
   "outputs": [],
   "source": []
  },
  {
   "cell_type": "code",
   "execution_count": null,
   "metadata": {
    "collapsed": true
   },
   "outputs": [],
   "source": []
  },
  {
   "cell_type": "code",
   "execution_count": null,
   "metadata": {
    "collapsed": true
   },
   "outputs": [],
   "source": []
  },
  {
   "cell_type": "code",
   "execution_count": null,
   "metadata": {
    "collapsed": true
   },
   "outputs": [],
   "source": []
  },
  {
   "cell_type": "markdown",
   "metadata": {},
   "source": [
    "## Which is the most worked Pair in Hollywood in the action Genre?"
   ]
  },
  {
   "cell_type": "code",
   "execution_count": 26,
   "metadata": {
    "collapsed": true
   },
   "outputs": [],
   "source": [
    "df1_action= df1.loc[df1['genres'].str.contains('Action')].dropna()\n",
    "df_dir_act_action = pd.melt(df1_action,id_vars=['director_name'], value_vars=['actor_1_name','actor_2_name','actor_3_name'], value_name='actor').dropna()\n",
    "# df_dir_act_sort_action\n",
    "df_dir_act_sort_action= df_dir_act_action[['director_name','actor']].groupby(['director_name','actor']).size().sort_values(ascending = False).reset_index()[:40]"
   ]
  },
  {
   "cell_type": "code",
   "execution_count": 27,
   "metadata": {
    "collapsed": false
   },
   "outputs": [
    {
     "data": {
      "text/html": [
       "<div>\n",
       "<table border=\"1\" class=\"dataframe\">\n",
       "  <thead>\n",
       "    <tr style=\"text-align: right;\">\n",
       "      <th></th>\n",
       "      <th>director_name</th>\n",
       "      <th>actor</th>\n",
       "      <th>0</th>\n",
       "    </tr>\n",
       "  </thead>\n",
       "  <tbody>\n",
       "    <tr>\n",
       "      <th>0</th>\n",
       "      <td>Robert Rodriguez</td>\n",
       "      <td>Alexa PenaVega</td>\n",
       "      <td>5</td>\n",
       "    </tr>\n",
       "    <tr>\n",
       "      <th>1</th>\n",
       "      <td>Rob Cohen</td>\n",
       "      <td>Vin Diesel</td>\n",
       "      <td>4</td>\n",
       "    </tr>\n",
       "    <tr>\n",
       "      <th>2</th>\n",
       "      <td>Tony Scott</td>\n",
       "      <td>Denzel Washington</td>\n",
       "      <td>4</td>\n",
       "    </tr>\n",
       "    <tr>\n",
       "      <th>3</th>\n",
       "      <td>Sam Raimi</td>\n",
       "      <td>J.K. Simmons</td>\n",
       "      <td>4</td>\n",
       "    </tr>\n",
       "    <tr>\n",
       "      <th>4</th>\n",
       "      <td>Gore Verbinski</td>\n",
       "      <td>Johnny Depp</td>\n",
       "      <td>4</td>\n",
       "    </tr>\n",
       "  </tbody>\n",
       "</table>\n",
       "</div>"
      ],
      "text/plain": [
       "      director_name              actor  0\n",
       "0  Robert Rodriguez     Alexa PenaVega  5\n",
       "1         Rob Cohen         Vin Diesel  4\n",
       "2        Tony Scott  Denzel Washington  4\n",
       "3         Sam Raimi       J.K. Simmons  4\n",
       "4    Gore Verbinski        Johnny Depp  4"
      ]
     },
     "execution_count": 27,
     "metadata": {},
     "output_type": "execute_result"
    }
   ],
   "source": [
    "df_dir_act_sort_action.head()"
   ]
  },
  {
   "cell_type": "code",
   "execution_count": null,
   "metadata": {
    "collapsed": true
   },
   "outputs": [],
   "source": []
  },
  {
   "cell_type": "markdown",
   "metadata": {},
   "source": [
    "## best Action actor director pair?"
   ]
  },
  {
   "cell_type": "code",
   "execution_count": null,
   "metadata": {
    "collapsed": true
   },
   "outputs": [],
   "source": [
    "df_action= df_plot_actor.loc[df_plot_actor['genres'].str.contains('Action')]"
   ]
  },
  {
   "cell_type": "code",
   "execution_count": 577,
   "metadata": {
    "collapsed": true
   },
   "outputs": [],
   "source": [
    "df_pivot_imdb= pd.pivot_table(df_action, index=('director_name','actor'),values='imdb_score', aggfunc=('mean'), fill_value='0').reset_index()\n",
    "df_pivot_imdb_sort= df_pivot.sort_values(by='imdb_score', ascending=False)[:40]\n",
    "df_pivot_imdb_sort_list_action=df_pivot_imdb_sort[['director_name','actor']].values.tolist()"
   ]
  },
  {
   "cell_type": "code",
   "execution_count": 579,
   "metadata": {
    "collapsed": false
   },
   "outputs": [
    {
     "data": {
      "text/plain": [
       "40"
      ]
     },
     "execution_count": 579,
     "metadata": {},
     "output_type": "execute_result"
    }
   ],
   "source": [
    "len(df_pivot_imdb_sort_list_action)"
   ]
  },
  {
   "cell_type": "code",
   "execution_count": null,
   "metadata": {
    "collapsed": true
   },
   "outputs": [],
   "source": []
  },
  {
   "cell_type": "code",
   "execution_count": 580,
   "metadata": {
    "collapsed": false
   },
   "outputs": [
    {
     "data": {
      "text/plain": [
       "40"
      ]
     },
     "execution_count": 580,
     "metadata": {},
     "output_type": "execute_result"
    }
   ],
   "source": [
    "df_pivot_gross= pd.pivot_table(df_action, index=('director_name','actor'),values='gross', aggfunc=('mean'), fill_value='0').reset_index()\n",
    "df_pivot_gross_sort= df_pivot_gross.sort_values(by='gross', ascending=False)[:40]\n",
    "df_pivot_gross_sort_list_action=df_pivot_gross_sort[['director_name','actor']].values.tolist()\n",
    "len(df_pivot_gross_sort_list_action)"
   ]
  },
  {
   "cell_type": "code",
   "execution_count": null,
   "metadata": {
    "collapsed": true
   },
   "outputs": [],
   "source": []
  },
  {
   "cell_type": "code",
   "execution_count": 581,
   "metadata": {
    "collapsed": false
   },
   "outputs": [
    {
     "data": {
      "text/plain": [
       "40"
      ]
     },
     "execution_count": 581,
     "metadata": {},
     "output_type": "execute_result"
    }
   ],
   "source": [
    "df1_action= df1.loc[df1['genres'].str.contains('Action')].dropna()\n",
    "df_dir_act_action = pd.melt(df1_action,id_vars=['director_name'], value_vars=['actor_1_name','actor_2_name','actor_3_name'], value_name='actor').dropna()\n",
    "# df_dir_act_sort_action\n",
    "df_dir_act_sort_action= df_dir_act_action[['director_name','actor']].groupby(['director_name','actor']).size().sort_values(ascending = False).reset_index()[:40]\n",
    "df_dir_act_sort_list_action=df_dir_act_sort_action[['director_name','actor']].values.tolist()\n",
    "len(df_dir_act_sort_list_action)"
   ]
  },
  {
   "cell_type": "code",
   "execution_count": null,
   "metadata": {
    "collapsed": false
   },
   "outputs": [],
   "source": []
  },
  {
   "cell_type": "code",
   "execution_count": 582,
   "metadata": {
    "collapsed": true
   },
   "outputs": [],
   "source": [
    "result_action1=[word for word in df_pivot_gross_sort_list_action if word in df_pivot_imdb_sort_list_action]"
   ]
  },
  {
   "cell_type": "code",
   "execution_count": 591,
   "metadata": {
    "collapsed": false
   },
   "outputs": [
    {
     "data": {
      "text/plain": [
       "9"
      ]
     },
     "execution_count": 591,
     "metadata": {},
     "output_type": "execute_result"
    }
   ],
   "source": [
    "len(result_action1)"
   ]
  },
  {
   "cell_type": "code",
   "execution_count": 584,
   "metadata": {
    "collapsed": false
   },
   "outputs": [],
   "source": [
    "result_final_action= [word for word in df_dir_act_sort_list_action if word in result_action1 ]"
   ]
  },
  {
   "cell_type": "code",
   "execution_count": 586,
   "metadata": {
    "collapsed": false
   },
   "outputs": [
    {
     "data": {
      "text/plain": [
       "[['Christopher Nolan', 'Christian Bale']]"
      ]
     },
     "execution_count": 586,
     "metadata": {},
     "output_type": "execute_result"
    }
   ],
   "source": [
    "(result_final_action)"
   ]
  },
  {
   "cell_type": "code",
   "execution_count": null,
   "metadata": {
    "collapsed": true
   },
   "outputs": [],
   "source": []
  },
  {
   "cell_type": "markdown",
   "metadata": {},
   "source": [
    "## Thriller vs other Genre's"
   ]
  },
  {
   "cell_type": "code",
   "execution_count": 30,
   "metadata": {
    "collapsed": false
   },
   "outputs": [
    {
     "data": {
      "text/plain": [
       "<matplotlib.figure.Figure at 0x1df1ba023c8>"
      ]
     },
     "execution_count": 30,
     "metadata": {},
     "output_type": "execute_result"
    },
    {
     "data": {
      "image/png": "[encoded data removed]",
      "text/plain": [
       "<matplotlib.figure.Figure at 0x1df1a4ca978>"
      ]
     },
     "metadata": {},
     "output_type": "display_data"
    },
    {
     "data": {
      "text/plain": [
       "<matplotlib.figure.Figure at 0x1df1ba023c8>"
      ]
     },
     "metadata": {},
     "output_type": "display_data"
    }
   ],
   "source": [
    "df_thriller = df1.loc[df1['genres'].str.contains('Thriller')]\n",
    "\n",
    "sns.set(style=\"whitegrid\")\n",
    "\n",
    "\n",
    "f, ax = plt.subplots(figsize=(9, 6))\n",
    "\n",
    "sns.set_color_codes(\"pastel\")\n",
    "sns.barplot(x=\"title_year\", y=\"imdb_score\", data=df1,\n",
    "            label=\"All Movies\", color=\"b\")\n",
    "\n",
    "sns.set_color_codes(\"muted\")\n",
    "sns.barplot(x=\"title_year\", y=\"imdb_score\", data=df_thriller,\n",
    "            label=\"Thriller Movies\", color=\"b\")\n",
    "\n",
    "ax.legend(loc=\"lower right\", frameon=True)\n",
    "ticks = plt.setp(ax.get_xticklabels(),rotation=90)\n",
    "sns.plt.figure()"
   ]
  },
  {
   "cell_type": "markdown",
   "metadata": {},
   "source": [
    "##  Which is the most worked Pair in Hollywood in the action Thriller?"
   ]
  },
  {
   "cell_type": "code",
   "execution_count": 31,
   "metadata": {
    "collapsed": false
   },
   "outputs": [
    {
     "data": {
      "text/plain": [
       "60"
      ]
     },
     "execution_count": 31,
     "metadata": {},
     "output_type": "execute_result"
    }
   ],
   "source": [
    "df1_thriller= df1.loc[df1['genres'].str.contains('Thriller')].dropna()\n",
    "df_dir_act_thriller = pd.melt(df1_thriller,id_vars=['director_name'], value_vars=['actor_1_name','actor_2_name','actor_3_name'], value_name='actor').dropna()\n",
    "# df_dir_act_sort_action\n",
    "df_dir_act_sort_thriller= df_dir_act_thriller[['director_name','actor']].groupby(['director_name','actor']).size().sort_values(ascending = False).reset_index()[:60]\n",
    "df_dir_act_sort_list_thriller=df_dir_act_sort_thriller[['director_name','actor']].values.tolist()\n",
    "len(df_dir_act_sort_list_thriller)"
   ]
  },
  {
   "cell_type": "code",
   "execution_count": 32,
   "metadata": {
    "collapsed": false
   },
   "outputs": [
    {
     "data": {
      "text/html": [
       "<div>\n",
       "<table border=\"1\" class=\"dataframe\">\n",
       "  <thead>\n",
       "    <tr style=\"text-align: right;\">\n",
       "      <th></th>\n",
       "      <th>director_name</th>\n",
       "      <th>actor</th>\n",
       "      <th>0</th>\n",
       "    </tr>\n",
       "  </thead>\n",
       "  <tbody>\n",
       "    <tr>\n",
       "      <th>0</th>\n",
       "      <td>Tony Scott</td>\n",
       "      <td>Denzel Washington</td>\n",
       "      <td>4</td>\n",
       "    </tr>\n",
       "    <tr>\n",
       "      <th>1</th>\n",
       "      <td>Paul Greengrass</td>\n",
       "      <td>Matt Damon</td>\n",
       "      <td>4</td>\n",
       "    </tr>\n",
       "    <tr>\n",
       "      <th>2</th>\n",
       "      <td>Rob Cohen</td>\n",
       "      <td>Vin Diesel</td>\n",
       "      <td>4</td>\n",
       "    </tr>\n",
       "    <tr>\n",
       "      <th>3</th>\n",
       "      <td>Rob Cohen</td>\n",
       "      <td>Paul Walker</td>\n",
       "      <td>4</td>\n",
       "    </tr>\n",
       "    <tr>\n",
       "      <th>4</th>\n",
       "      <td>Clint Eastwood</td>\n",
       "      <td>Clint Eastwood</td>\n",
       "      <td>4</td>\n",
       "    </tr>\n",
       "  </tbody>\n",
       "</table>\n",
       "</div>"
      ],
      "text/plain": [
       "     director_name              actor  0\n",
       "0       Tony Scott  Denzel Washington  4\n",
       "1  Paul Greengrass         Matt Damon  4\n",
       "2        Rob Cohen         Vin Diesel  4\n",
       "3        Rob Cohen        Paul Walker  4\n",
       "4   Clint Eastwood     Clint Eastwood  4"
      ]
     },
     "execution_count": 32,
     "metadata": {},
     "output_type": "execute_result"
    }
   ],
   "source": [
    "df_dir_act_sort_thriller.head()"
   ]
  },
  {
   "cell_type": "markdown",
   "metadata": {},
   "source": [
    "## best Thriller Director actor pair?\n"
   ]
  },
  {
   "cell_type": "code",
   "execution_count": 33,
   "metadata": {
    "collapsed": true
   },
   "outputs": [],
   "source": [
    "df_thriller= df_plot_actor.loc[df_plot_actor['genres'].str.contains('Thriller')]"
   ]
  },
  {
   "cell_type": "code",
   "execution_count": 35,
   "metadata": {
    "collapsed": false
   },
   "outputs": [],
   "source": [
    "df_pivot_imdb= pd.pivot_table(df_thriller, index=('director_name','actor'),values='imdb_score', aggfunc=('mean'), fill_value='0').reset_index()\n",
    "df_pivot_imdb_sort= df_pivot_imdb.sort_values(by='imdb_score', ascending=False)[:60]\n",
    "df_pivot_imdb_sort_list_thriller=df_pivot_imdb_sort[['director_name','actor']].values.tolist()"
   ]
  },
  {
   "cell_type": "code",
   "execution_count": null,
   "metadata": {
    "collapsed": true
   },
   "outputs": [],
   "source": []
  },
  {
   "cell_type": "code",
   "execution_count": 36,
   "metadata": {
    "collapsed": false
   },
   "outputs": [
    {
     "data": {
      "text/plain": [
       "60"
      ]
     },
     "execution_count": 36,
     "metadata": {},
     "output_type": "execute_result"
    }
   ],
   "source": [
    "df_pivot_gross= pd.pivot_table(df_thriller, index=('director_name','actor'),values='gross', aggfunc=('mean'), fill_value='0').reset_index()\n",
    "df_pivot_gross_sort= df_pivot_gross.sort_values(by='gross', ascending=False)[:60]\n",
    "df_pivot_gross_sort_list_thriller=df_pivot_gross_sort[['director_name','actor']].values.tolist()\n",
    "len(df_pivot_gross_sort_list_thriller)"
   ]
  },
  {
   "cell_type": "code",
   "execution_count": null,
   "metadata": {
    "collapsed": true
   },
   "outputs": [],
   "source": []
  },
  {
   "cell_type": "code",
   "execution_count": 37,
   "metadata": {
    "collapsed": false
   },
   "outputs": [
    {
     "data": {
      "text/plain": [
       "7"
      ]
     },
     "execution_count": 37,
     "metadata": {},
     "output_type": "execute_result"
    }
   ],
   "source": [
    "result_thriller1=[word for word in df_pivot_gross_sort_list_thriller if word in df_pivot_imdb_sort_list_thriller]\n",
    "len(result_thriller1)"
   ]
  },
  {
   "cell_type": "code",
   "execution_count": null,
   "metadata": {
    "collapsed": false
   },
   "outputs": [],
   "source": []
  },
  {
   "cell_type": "code",
   "execution_count": 38,
   "metadata": {
    "collapsed": true
   },
   "outputs": [],
   "source": [
    "result_final_thriller= [word for word in df_dir_act_sort_list_thriller if word in result_thriller1 ]"
   ]
  },
  {
   "cell_type": "code",
   "execution_count": 39,
   "metadata": {
    "collapsed": false
   },
   "outputs": [
    {
     "data": {
      "text/plain": [
       "[['Christopher Nolan', 'Christian Bale'],\n",
       " ['Christopher Nolan', 'Joseph Gordon-Levitt']]"
      ]
     },
     "execution_count": 39,
     "metadata": {},
     "output_type": "execute_result"
    }
   ],
   "source": [
    "result_final_thriller"
   ]
  },
  {
   "cell_type": "code",
   "execution_count": null,
   "metadata": {
    "collapsed": true
   },
   "outputs": [],
   "source": []
  },
  {
   "cell_type": "code",
   "execution_count": null,
   "metadata": {
    "collapsed": true
   },
   "outputs": [],
   "source": []
  },
  {
   "cell_type": "markdown",
   "metadata": {},
   "source": [
    "## Drama vs other genre"
   ]
  },
  {
   "cell_type": "code",
   "execution_count": 40,
   "metadata": {
    "collapsed": false
   },
   "outputs": [
    {
     "data": {
      "text/plain": [
       "<matplotlib.figure.Figure at 0x1df198fc0b8>"
      ]
     },
     "execution_count": 40,
     "metadata": {},
     "output_type": "execute_result"
    },
    {
     "data": {
      "image/png": "[encoded data removed]",
      "text/plain": [
       "<matplotlib.figure.Figure at 0x1df1bb56dd8>"
      ]
     },
     "metadata": {},
     "output_type": "display_data"
    },
    {
     "data": {
      "text/plain": [
       "<matplotlib.figure.Figure at 0x1df198fc0b8>"
      ]
     },
     "metadata": {},
     "output_type": "display_data"
    }
   ],
   "source": [
    "df_drama = df1.loc[df1['genres'].str.contains('Drama')]\n",
    "\n",
    "sns.set(style=\"whitegrid\")\n",
    "\n",
    "\n",
    "f, ax = plt.subplots(figsize=(9, 6))\n",
    "\n",
    "sns.set_color_codes(\"pastel\")\n",
    "sns.barplot(x=\"title_year\", y=\"imdb_score\", data=df1,\n",
    "            label=\"All Movies\", color=\"b\")\n",
    "\n",
    "sns.set_color_codes(\"muted\")\n",
    "sns.barplot(x=\"title_year\", y=\"imdb_score\", data=df_drama,\n",
    "            label=\"Thriller Movies\", color=\"b\")\n",
    "\n",
    "ax.legend(loc=\"lower right\", frameon=True)\n",
    "ticks = plt.setp(ax.get_xticklabels(),rotation=90)\n",
    "sns.plt.figure()"
   ]
  },
  {
   "cell_type": "markdown",
   "metadata": {},
   "source": [
    "##  Which is the most worked Pair in Hollywood in the action Drama?"
   ]
  },
  {
   "cell_type": "code",
   "execution_count": 596,
   "metadata": {
    "collapsed": false
   },
   "outputs": [
    {
     "data": {
      "text/plain": [
       "40"
      ]
     },
     "execution_count": 596,
     "metadata": {},
     "output_type": "execute_result"
    }
   ],
   "source": [
    "df1_drama= df1.loc[df1['genres'].str.contains('Drama')].dropna()\n",
    "df_dir_act_drama = pd.melt(df1_drama,id_vars=['director_name'], value_vars=['actor_1_name','actor_2_name','actor_3_name'], value_name='actor').dropna()\n",
    "# df_dir_act_sort_action\n",
    "df_dir_act_sort_drama= df_dir_act_drama[['director_name','actor']].groupby(['director_name','actor']).size().sort_values(ascending = False).reset_index()[:40]\n",
    "df_dir_act_sort_list_drama=df_dir_act_sort_drama[['director_name','actor']].values.tolist()\n",
    "len(df_dir_act_sort_list_drama)"
   ]
  },
  {
   "cell_type": "code",
   "execution_count": 597,
   "metadata": {
    "collapsed": false
   },
   "outputs": [
    {
     "data": {
      "text/html": [
       "<div>\n",
       "<table border=\"1\" class=\"dataframe\">\n",
       "  <thead>\n",
       "    <tr style=\"text-align: right;\">\n",
       "      <th></th>\n",
       "      <th>director_name</th>\n",
       "      <th>actor</th>\n",
       "      <th>0</th>\n",
       "    </tr>\n",
       "  </thead>\n",
       "  <tbody>\n",
       "    <tr>\n",
       "      <th>0</th>\n",
       "      <td>Clint Eastwood</td>\n",
       "      <td>Clint Eastwood</td>\n",
       "      <td>6</td>\n",
       "    </tr>\n",
       "    <tr>\n",
       "      <th>1</th>\n",
       "      <td>Wes Anderson</td>\n",
       "      <td>Bill Murray</td>\n",
       "      <td>5</td>\n",
       "    </tr>\n",
       "    <tr>\n",
       "      <th>2</th>\n",
       "      <td>Darren Aronofsky</td>\n",
       "      <td>Mark Margolis</td>\n",
       "      <td>5</td>\n",
       "    </tr>\n",
       "    <tr>\n",
       "      <th>3</th>\n",
       "      <td>Jason Reitman</td>\n",
       "      <td>J.K. Simmons</td>\n",
       "      <td>5</td>\n",
       "    </tr>\n",
       "    <tr>\n",
       "      <th>4</th>\n",
       "      <td>Spike Lee</td>\n",
       "      <td>Denzel Washington</td>\n",
       "      <td>4</td>\n",
       "    </tr>\n",
       "  </tbody>\n",
       "</table>\n",
       "</div>"
      ],
      "text/plain": [
       "      director_name              actor  0\n",
       "0    Clint Eastwood     Clint Eastwood  6\n",
       "1      Wes Anderson        Bill Murray  5\n",
       "2  Darren Aronofsky      Mark Margolis  5\n",
       "3     Jason Reitman       J.K. Simmons  5\n",
       "4         Spike Lee  Denzel Washington  4"
      ]
     },
     "execution_count": 597,
     "metadata": {},
     "output_type": "execute_result"
    }
   ],
   "source": [
    "df_dir_act_sort_drama.head()"
   ]
  },
  {
   "cell_type": "markdown",
   "metadata": {},
   "source": [
    "## best actor director pair in Drama?"
   ]
  },
  {
   "cell_type": "code",
   "execution_count": 599,
   "metadata": {
    "collapsed": true
   },
   "outputs": [],
   "source": [
    "df_drama= df_plot_actor.loc[df_plot_actor['genres'].str.contains('Drama')]"
   ]
  },
  {
   "cell_type": "code",
   "execution_count": 600,
   "metadata": {
    "collapsed": true
   },
   "outputs": [],
   "source": [
    "df_pivot_imdb= pd.pivot_table(df_drama, index=('director_name','actor'),values='imdb_score', aggfunc=('mean'), fill_value='0').reset_index()\n",
    "df_pivot_imdb_sort= df_pivot.sort_values(by='imdb_score', ascending=False)[:40]\n",
    "df_pivot_imdb_sort_list_drama=df_pivot_imdb_sort[['director_name','actor']].values.tolist()"
   ]
  },
  {
   "cell_type": "code",
   "execution_count": null,
   "metadata": {
    "collapsed": true
   },
   "outputs": [],
   "source": [
    " "
   ]
  },
  {
   "cell_type": "code",
   "execution_count": 601,
   "metadata": {
    "collapsed": false
   },
   "outputs": [
    {
     "data": {
      "text/plain": [
       "40"
      ]
     },
     "execution_count": 601,
     "metadata": {},
     "output_type": "execute_result"
    }
   ],
   "source": [
    "df_pivot_gross= pd.pivot_table(df_drama, index=('director_name','actor'),values='gross', aggfunc=('mean'), fill_value='0').reset_index()\n",
    "df_pivot_gross_sort= df_pivot_gross.sort_values(by='gross', ascending=False)[:40]\n",
    "df_pivot_gross_sort_list_drama=df_pivot_gross_sort[['director_name','actor']].values.tolist()\n",
    "len(df_pivot_gross_sort_list_drama)"
   ]
  },
  {
   "cell_type": "code",
   "execution_count": null,
   "metadata": {
    "collapsed": true
   },
   "outputs": [],
   "source": []
  },
  {
   "cell_type": "code",
   "execution_count": 604,
   "metadata": {
    "collapsed": false
   },
   "outputs": [
    {
     "data": {
      "text/plain": [
       "7"
      ]
     },
     "execution_count": 604,
     "metadata": {},
     "output_type": "execute_result"
    }
   ],
   "source": [
    "result_drama1=[word for word in df_pivot_gross_sort_list_drama if word in df_pivot_imdb_sort_list_drama]\n",
    "len(result_drama1)"
   ]
  },
  {
   "cell_type": "code",
   "execution_count": 613,
   "metadata": {
    "collapsed": false
   },
   "outputs": [
    {
     "data": {
      "text/plain": [
       "[['Peter Jackson', 'Billy Boyd'], ['Peter Jackson', 'Orlando Bloom']]"
      ]
     },
     "execution_count": 613,
     "metadata": {},
     "output_type": "execute_result"
    }
   ],
   "source": [
    "result_final_drama= [word for word in df_dir_act_sort_list_drama if word in result_drama1 ]\n",
    "result_final_drama"
   ]
  },
  {
   "cell_type": "code",
   "execution_count": null,
   "metadata": {
    "collapsed": false
   },
   "outputs": [],
   "source": []
  },
  {
   "cell_type": "code",
   "execution_count": null,
   "metadata": {
    "collapsed": true
   },
   "outputs": [],
   "source": []
  },
  {
   "cell_type": "markdown",
   "metadata": {},
   "source": [
    "## Comedy vs other Genre"
   ]
  },
  {
   "cell_type": "code",
   "execution_count": 41,
   "metadata": {
    "collapsed": false
   },
   "outputs": [
    {
     "data": {
      "text/plain": [
       "<matplotlib.figure.Figure at 0x1df19966dd8>"
      ]
     },
     "execution_count": 41,
     "metadata": {},
     "output_type": "execute_result"
    },
    {
     "data": {
      "image/png": "[encoded data removed]",
      "text/plain": [
       "<matplotlib.figure.Figure at 0x1df1983ee48>"
      ]
     },
     "metadata": {},
     "output_type": "display_data"
    },
    {
     "data": {
      "text/plain": [
       "<matplotlib.figure.Figure at 0x1df19966dd8>"
      ]
     },
     "metadata": {},
     "output_type": "display_data"
    }
   ],
   "source": [
    "df_comedy = df1.loc[df1['genres'].str.contains('Drama')]\n",
    "\n",
    "sns.set(style=\"whitegrid\")\n",
    "\n",
    "\n",
    "f, ax = plt.subplots(figsize=(9, 6))\n",
    "\n",
    "sns.set_color_codes(\"pastel\")\n",
    "sns.barplot(x=\"title_year\", y=\"imdb_score\", data=df1,\n",
    "            label=\"All Movies\", color=\"b\")\n",
    "\n",
    "sns.set_color_codes(\"muted\")\n",
    "sns.barplot(x=\"title_year\", y=\"imdb_score\", data=df_comedy,\n",
    "            label=\"Thriller Movies\", color=\"b\")\n",
    "\n",
    "ax.legend(loc=\"lower right\", frameon=True)\n",
    "ticks = plt.setp(ax.get_xticklabels(),rotation=90)\n",
    "sns.plt.figure()"
   ]
  },
  {
   "cell_type": "markdown",
   "metadata": {},
   "source": [
    "## Which pair has worked together most number of times for genre Comedy"
   ]
  },
  {
   "cell_type": "code",
   "execution_count": null,
   "metadata": {
    "collapsed": true
   },
   "outputs": [],
   "source": []
  },
  {
   "cell_type": "code",
   "execution_count": 669,
   "metadata": {
    "collapsed": false
   },
   "outputs": [
    {
     "data": {
      "text/plain": [
       "500"
      ]
     },
     "execution_count": 669,
     "metadata": {},
     "output_type": "execute_result"
    }
   ],
   "source": [
    "df1_comedy= df1.loc[df1['genres'].str.contains('Comedy')].dropna()\n",
    "df_dir_act_comedy = pd.melt(df1_comedy,id_vars=['director_name'], value_vars=['actor_1_name','actor_2_name','actor_3_name'], value_name='actor').dropna()\n",
    "# df_dir_act_sort_action\n",
    "df_dir_act_sort_comedy= df_dir_act_comedy[['director_name','actor']].groupby(['director_name','actor']).size().sort_values(ascending = False).reset_index()[:500]\n",
    "df_dir_act_sort_list_comedy=df_dir_act_sort_comedy[['director_name','actor']].values.tolist()\n",
    "len(df_dir_act_sort_list_comedy)"
   ]
  },
  {
   "cell_type": "code",
   "execution_count": 670,
   "metadata": {
    "collapsed": false
   },
   "outputs": [
    {
     "data": {
      "text/html": [
       "<div>\n",
       "<table border=\"1\" class=\"dataframe\">\n",
       "  <thead>\n",
       "    <tr style=\"text-align: right;\">\n",
       "      <th></th>\n",
       "      <th>director_name</th>\n",
       "      <th>actor</th>\n",
       "      <th>0</th>\n",
       "    </tr>\n",
       "  </thead>\n",
       "  <tbody>\n",
       "    <tr>\n",
       "      <th>0</th>\n",
       "      <td>Woody Allen</td>\n",
       "      <td>Woody Allen</td>\n",
       "      <td>7</td>\n",
       "    </tr>\n",
       "    <tr>\n",
       "      <th>1</th>\n",
       "      <td>Dennis Dugan</td>\n",
       "      <td>Adam Sandler</td>\n",
       "      <td>7</td>\n",
       "    </tr>\n",
       "    <tr>\n",
       "      <th>2</th>\n",
       "      <td>Wes Anderson</td>\n",
       "      <td>Bill Murray</td>\n",
       "      <td>6</td>\n",
       "    </tr>\n",
       "    <tr>\n",
       "      <th>3</th>\n",
       "      <td>Adam McKay</td>\n",
       "      <td>Will Ferrell</td>\n",
       "      <td>5</td>\n",
       "    </tr>\n",
       "    <tr>\n",
       "      <th>4</th>\n",
       "      <td>Garry Marshall</td>\n",
       "      <td>Hector Elizondo</td>\n",
       "      <td>5</td>\n",
       "    </tr>\n",
       "  </tbody>\n",
       "</table>\n",
       "</div>"
      ],
      "text/plain": [
       "    director_name            actor  0\n",
       "0     Woody Allen      Woody Allen  7\n",
       "1    Dennis Dugan     Adam Sandler  7\n",
       "2    Wes Anderson      Bill Murray  6\n",
       "3      Adam McKay     Will Ferrell  5\n",
       "4  Garry Marshall  Hector Elizondo  5"
      ]
     },
     "execution_count": 670,
     "metadata": {},
     "output_type": "execute_result"
    }
   ],
   "source": [
    "df_dir_act_sort_comedy.head()"
   ]
  },
  {
   "cell_type": "code",
   "execution_count": null,
   "metadata": {
    "collapsed": true
   },
   "outputs": [],
   "source": []
  },
  {
   "cell_type": "markdown",
   "metadata": {},
   "source": [
    "## best action director pair in Comedy genre"
   ]
  },
  {
   "cell_type": "code",
   "execution_count": 671,
   "metadata": {
    "collapsed": true
   },
   "outputs": [],
   "source": [
    "df_comedy= df_plot_actor.loc[df_plot_actor['genres'].str.contains('Comedy')]"
   ]
  },
  {
   "cell_type": "code",
   "execution_count": 672,
   "metadata": {
    "collapsed": true
   },
   "outputs": [],
   "source": [
    "df_pivot_imdb= pd.pivot_table(df_comedy, index=('director_name','actor'),values='imdb_score', aggfunc=('mean'), fill_value='0').reset_index()\n",
    "df_pivot_imdb_sort= df_pivot.sort_values(by='imdb_score', ascending=False)[:500]\n",
    "df_pivot_imdb_sort_list_comedy=df_pivot_imdb_sort[['director_name','actor']].values.tolist()"
   ]
  },
  {
   "cell_type": "code",
   "execution_count": null,
   "metadata": {
    "collapsed": true
   },
   "outputs": [],
   "source": []
  },
  {
   "cell_type": "code",
   "execution_count": 673,
   "metadata": {
    "collapsed": false
   },
   "outputs": [
    {
     "data": {
      "text/plain": [
       "500"
      ]
     },
     "execution_count": 673,
     "metadata": {},
     "output_type": "execute_result"
    }
   ],
   "source": [
    "df_pivot_gross= pd.pivot_table(df_comedy, index=('director_name','actor'),values='gross', aggfunc=('mean'), fill_value='0').reset_index()\n",
    "df_pivot_gross_sort= df_pivot_gross.sort_values(by='gross', ascending=False)[:500]\n",
    "df_pivot_gross_sort_list_comedy=df_pivot_gross_sort[['director_name','actor']].values.tolist()\n",
    "len(df_pivot_gross_sort_list_comedy)"
   ]
  },
  {
   "cell_type": "code",
   "execution_count": null,
   "metadata": {
    "collapsed": true
   },
   "outputs": [],
   "source": []
  },
  {
   "cell_type": "code",
   "execution_count": 674,
   "metadata": {
    "collapsed": false
   },
   "outputs": [
    {
     "data": {
      "text/plain": [
       "39"
      ]
     },
     "execution_count": 674,
     "metadata": {},
     "output_type": "execute_result"
    }
   ],
   "source": [
    "result_comedy1=[word for word in df_pivot_gross_sort_list_comedy if word in df_pivot_imdb_sort_list_comedy]\n",
    "len(result_comedy1)"
   ]
  },
  {
   "cell_type": "code",
   "execution_count": 675,
   "metadata": {
    "collapsed": false
   },
   "outputs": [
    {
     "data": {
      "text/plain": [
       "[['Phil Lord', 'Channing Tatum'],\n",
       " ['Gore Verbinski', 'Johnny Depp'],\n",
       " ['George Lucas', 'Harrison Ford']]"
      ]
     },
     "execution_count": 675,
     "metadata": {},
     "output_type": "execute_result"
    }
   ],
   "source": [
    "result_final_comedy= [word for word in df_dir_act_sort_list_comedy if word in result_comedy1 ]\n",
    "result_final_comedy"
   ]
  },
  {
   "cell_type": "code",
   "execution_count": null,
   "metadata": {
    "collapsed": true
   },
   "outputs": [],
   "source": []
  },
  {
   "cell_type": "markdown",
   "metadata": {},
   "source": [
    "## Romance vs other genre"
   ]
  },
  {
   "cell_type": "code",
   "execution_count": 42,
   "metadata": {
    "collapsed": false
   },
   "outputs": [
    {
     "data": {
      "text/plain": [
       "<matplotlib.figure.Figure at 0x1df1bb57160>"
      ]
     },
     "execution_count": 42,
     "metadata": {},
     "output_type": "execute_result"
    },
    {
     "data": {
      "image/png": "[encoded data removed]",
      "text/plain": [
       "<matplotlib.figure.Figure at 0x1df1c1e8da0>"
      ]
     },
     "metadata": {},
     "output_type": "display_data"
    },
    {
     "data": {
      "text/plain": [
       "<matplotlib.figure.Figure at 0x1df1bb57160>"
      ]
     },
     "metadata": {},
     "output_type": "display_data"
    }
   ],
   "source": [
    "df_romance = df1.loc[df1['genres'].str.contains('Drama')]\n",
    "\n",
    "sns.set(style=\"whitegrid\")\n",
    "\n",
    "\n",
    "f, ax = plt.subplots(figsize=(9, 6))\n",
    "\n",
    "sns.set_color_codes(\"pastel\")\n",
    "sns.barplot(x=\"title_year\", y=\"imdb_score\", data=df1,\n",
    "            label=\"All Movies\", color=\"b\")\n",
    "\n",
    "sns.set_color_codes(\"muted\")\n",
    "sns.barplot(x=\"title_year\", y=\"imdb_score\", data=df_romance,\n",
    "            label=\"Thriller Movies\", color=\"b\")\n",
    "\n",
    "ax.legend(loc=\"lower right\", frameon=True)\n",
    "ticks = plt.setp(ax.get_xticklabels(),rotation=90)\n",
    "sns.plt.figure()"
   ]
  },
  {
   "cell_type": "markdown",
   "metadata": {},
   "source": [
    "## Which pair has worked together most number of times for genre Romance?\n"
   ]
  },
  {
   "cell_type": "code",
   "execution_count": 698,
   "metadata": {
    "collapsed": false
   },
   "outputs": [
    {
     "data": {
      "text/plain": [
       "200"
      ]
     },
     "execution_count": 698,
     "metadata": {},
     "output_type": "execute_result"
    }
   ],
   "source": [
    "df1_romance= df1.loc[df1['genres'].str.contains('Romance')].dropna()\n",
    "df_dir_act_romance = pd.melt(df1_romance,id_vars=['director_name'], value_vars=['actor_1_name','actor_2_name','actor_3_name'], value_name='actor').dropna()\n",
    "# df_dir_act_sort_action\n",
    "df_dir_act_sort_romance= df_dir_act_romance[['director_name','actor']].groupby(['director_name','actor']).size().sort_values(ascending = False).reset_index()[:200]\n",
    "df_dir_act_sort_list_romance=df_dir_act_sort_romance[['director_name','actor']].values.tolist()\n",
    "len(df_dir_act_sort_list_romance)"
   ]
  },
  {
   "cell_type": "code",
   "execution_count": 699,
   "metadata": {
    "collapsed": false
   },
   "outputs": [
    {
     "data": {
      "text/html": [
       "<div>\n",
       "<table border=\"1\" class=\"dataframe\">\n",
       "  <thead>\n",
       "    <tr style=\"text-align: right;\">\n",
       "      <th></th>\n",
       "      <th>director_name</th>\n",
       "      <th>actor</th>\n",
       "      <th>0</th>\n",
       "    </tr>\n",
       "  </thead>\n",
       "  <tbody>\n",
       "    <tr>\n",
       "      <th>0</th>\n",
       "      <td>Woody Allen</td>\n",
       "      <td>Woody Allen</td>\n",
       "      <td>5</td>\n",
       "    </tr>\n",
       "    <tr>\n",
       "      <th>1</th>\n",
       "      <td>Sam Raimi</td>\n",
       "      <td>J.K. Simmons</td>\n",
       "      <td>5</td>\n",
       "    </tr>\n",
       "    <tr>\n",
       "      <th>2</th>\n",
       "      <td>Garry Marshall</td>\n",
       "      <td>Hector Elizondo</td>\n",
       "      <td>4</td>\n",
       "    </tr>\n",
       "    <tr>\n",
       "      <th>3</th>\n",
       "      <td>Sam Raimi</td>\n",
       "      <td>James Franco</td>\n",
       "      <td>4</td>\n",
       "    </tr>\n",
       "    <tr>\n",
       "      <th>4</th>\n",
       "      <td>Sam Raimi</td>\n",
       "      <td>Kirsten Dunst</td>\n",
       "      <td>4</td>\n",
       "    </tr>\n",
       "  </tbody>\n",
       "</table>\n",
       "</div>"
      ],
      "text/plain": [
       "    director_name            actor  0\n",
       "0     Woody Allen      Woody Allen  5\n",
       "1       Sam Raimi     J.K. Simmons  5\n",
       "2  Garry Marshall  Hector Elizondo  4\n",
       "3       Sam Raimi     James Franco  4\n",
       "4       Sam Raimi    Kirsten Dunst  4"
      ]
     },
     "execution_count": 699,
     "metadata": {},
     "output_type": "execute_result"
    }
   ],
   "source": [
    "df_dir_act_sort_romance.head()"
   ]
  },
  {
   "cell_type": "code",
   "execution_count": null,
   "metadata": {
    "collapsed": true
   },
   "outputs": [],
   "source": []
  },
  {
   "cell_type": "code",
   "execution_count": 700,
   "metadata": {
    "collapsed": true
   },
   "outputs": [],
   "source": [
    "df_romance= df_plot_actor.loc[df_plot_actor['genres'].str.contains('Romance')]"
   ]
  },
  {
   "cell_type": "code",
   "execution_count": 701,
   "metadata": {
    "collapsed": true
   },
   "outputs": [],
   "source": [
    "df_pivot_imdb= pd.pivot_table(df_romance, index=('director_name','actor'),values='imdb_score', aggfunc=('mean'), fill_value='0').reset_index()\n",
    "df_pivot_imdb_sort= df_pivot.sort_values(by='imdb_score', ascending=False)[:200]\n",
    "df_pivot_imdb_sort_list_romance=df_pivot_imdb_sort[['director_name','actor']].values.tolist()"
   ]
  },
  {
   "cell_type": "code",
   "execution_count": null,
   "metadata": {
    "collapsed": true
   },
   "outputs": [],
   "source": []
  },
  {
   "cell_type": "code",
   "execution_count": 702,
   "metadata": {
    "collapsed": false
   },
   "outputs": [
    {
     "data": {
      "text/plain": [
       "200"
      ]
     },
     "execution_count": 702,
     "metadata": {},
     "output_type": "execute_result"
    }
   ],
   "source": [
    "df_pivot_gross= pd.pivot_table(df_romance, index=('director_name','actor'),values='gross', aggfunc=('mean'), fill_value='0').reset_index()\n",
    "df_pivot_gross_sort= df_pivot_gross.sort_values(by='gross', ascending=False)[:200]\n",
    "df_pivot_gross_sort_list_romance=df_pivot_gross_sort[['director_name','actor']].values.tolist()\n",
    "len(df_pivot_gross_sort_list_romance)"
   ]
  },
  {
   "cell_type": "code",
   "execution_count": null,
   "metadata": {
    "collapsed": true
   },
   "outputs": [],
   "source": []
  },
  {
   "cell_type": "code",
   "execution_count": 703,
   "metadata": {
    "collapsed": false
   },
   "outputs": [
    {
     "data": {
      "text/plain": [
       "10"
      ]
     },
     "execution_count": 703,
     "metadata": {},
     "output_type": "execute_result"
    }
   ],
   "source": [
    "result_romance1=[word for word in df_pivot_gross_sort_list_romance if word in df_pivot_imdb_sort_list_romance]\n",
    "len(result_romance1)"
   ]
  },
  {
   "cell_type": "code",
   "execution_count": 704,
   "metadata": {
    "collapsed": false
   },
   "outputs": [
    {
     "data": {
      "text/plain": [
       "[['Kenneth Branagh', 'Derek Jacobi']]"
      ]
     },
     "execution_count": 704,
     "metadata": {},
     "output_type": "execute_result"
    }
   ],
   "source": [
    "result_final_romance= [word for word in df_dir_act_sort_list_romance if word in result_romance1 ]\n",
    "result_final_romance"
   ]
  },
  {
   "cell_type": "code",
   "execution_count": null,
   "metadata": {
    "collapsed": true
   },
   "outputs": [],
   "source": []
  },
  {
   "cell_type": "code",
   "execution_count": null,
   "metadata": {
    "collapsed": true
   },
   "outputs": [],
   "source": []
  },
  {
   "cell_type": "code",
   "execution_count": null,
   "metadata": {
    "collapsed": true
   },
   "outputs": [],
   "source": []
  },
  {
   "cell_type": "code",
   "execution_count": null,
   "metadata": {
    "collapsed": true
   },
   "outputs": [],
   "source": []
  },
  {
   "cell_type": "code",
   "execution_count": null,
   "metadata": {
    "collapsed": true
   },
   "outputs": [],
   "source": []
  },
  {
   "cell_type": "code",
   "execution_count": null,
   "metadata": {
    "collapsed": true
   },
   "outputs": [],
   "source": []
  },
  {
   "cell_type": "code",
   "execution_count": null,
   "metadata": {
    "collapsed": true
   },
   "outputs": [],
   "source": []
  }
 ],
 "metadata": {
  "kernelspec": {
   "display_name": "Python [conda root]",
   "language": "python",
   "name": "conda-root-py"
  },
  "language_info": {
   "codemirror_mode": {
    "name": "ipython",
    "version": 3
   },
   "file_extension": ".py",
   "mimetype": "text/x-python",
   "name": "python",
   "nbconvert_exporter": "python",
   "pygments_lexer": "ipython3",
   "version": "3.5.2"
  }
 },
 "nbformat": 4,
 "nbformat_minor": 1
}
