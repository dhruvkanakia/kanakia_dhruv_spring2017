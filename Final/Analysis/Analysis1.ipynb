{
 "cells": [
  {
   "cell_type": "markdown",
   "metadata": {},
   "source": [
    "## 1. <font color='red'> "
   ]
  },
  {
   "cell_type": "code",
   "execution_count": 230,
   "metadata": {
    "collapsed": false
   },
   "outputs": [],
   "source": [
    "import os                            #importng os library\n",
    "import pandas as pd\n",
    "import seaborn as sns\n",
    "import matplotlib.pyplot as plt\n",
    "from pandas import DataFrame\n",
    "import numpy as np\n",
    "import matplotlib\n",
    "from matplotlib_venn import venn2, venn2_circles"
   ]
  },
  {
   "cell_type": "code",
   "execution_count": 12,
   "metadata": {
    "collapsed": false
   },
   "outputs": [],
   "source": [
    "path=os.getcwd()                          #Checking the path\n",
    "path"
   ]
  },
  {
   "cell_type": "code",
   "execution_count": 6,
   "metadata": {
    "collapsed": false
   },
   "outputs": [],
   "source": [
    "os.chdir(\"..\")                   #Moving back one folder\n",
    "path"
   ]
  },
  {
   "cell_type": "code",
   "execution_count": 15,
   "metadata": {
    "collapsed": false
   },
   "outputs": [],
   "source": [
    "final_path= path+\"\\\\Data\\\\movie_metadata.csv\" #setting up the final path in final_path"
   ]
  },
  {
   "cell_type": "code",
   "execution_count": 191,
   "metadata": {
    "collapsed": false
   },
   "outputs": [
    {
     "data": {
      "text/html": [
       "<div>\n",
       "<table border=\"1\" class=\"dataframe\">\n",
       "  <thead>\n",
       "    <tr style=\"text-align: right;\">\n",
       "      <th></th>\n",
       "      <th>color</th>\n",
       "      <th>director_name</th>\n",
       "      <th>num_critic_for_reviews</th>\n",
       "      <th>duration</th>\n",
       "      <th>director_facebook_likes</th>\n",
       "      <th>actor_3_facebook_likes</th>\n",
       "      <th>actor_2_name</th>\n",
       "      <th>actor_1_facebook_likes</th>\n",
       "      <th>gross</th>\n",
       "      <th>genres</th>\n",
       "      <th>...</th>\n",
       "      <th>num_user_for_reviews</th>\n",
       "      <th>language</th>\n",
       "      <th>country</th>\n",
       "      <th>content_rating</th>\n",
       "      <th>budget</th>\n",
       "      <th>title_year</th>\n",
       "      <th>actor_2_facebook_likes</th>\n",
       "      <th>imdb_score</th>\n",
       "      <th>aspect_ratio</th>\n",
       "      <th>movie_facebook_likes</th>\n",
       "    </tr>\n",
       "  </thead>\n",
       "  <tbody>\n",
       "    <tr>\n",
       "      <th>0</th>\n",
       "      <td>Color</td>\n",
       "      <td>James Cameron</td>\n",
       "      <td>723.0</td>\n",
       "      <td>178.0</td>\n",
       "      <td>0.0</td>\n",
       "      <td>855.0</td>\n",
       "      <td>Joel David Moore</td>\n",
       "      <td>1000.0</td>\n",
       "      <td>760505847.0</td>\n",
       "      <td>Action|Adventure|Fantasy|Sci-Fi</td>\n",
       "      <td>...</td>\n",
       "      <td>3054.0</td>\n",
       "      <td>English</td>\n",
       "      <td>USA</td>\n",
       "      <td>PG-13</td>\n",
       "      <td>237000000.0</td>\n",
       "      <td>2009.0</td>\n",
       "      <td>936.0</td>\n",
       "      <td>7.9</td>\n",
       "      <td>1.78</td>\n",
       "      <td>33000</td>\n",
       "    </tr>\n",
       "    <tr>\n",
       "      <th>1</th>\n",
       "      <td>Color</td>\n",
       "      <td>Gore Verbinski</td>\n",
       "      <td>302.0</td>\n",
       "      <td>169.0</td>\n",
       "      <td>563.0</td>\n",
       "      <td>1000.0</td>\n",
       "      <td>Orlando Bloom</td>\n",
       "      <td>40000.0</td>\n",
       "      <td>309404152.0</td>\n",
       "      <td>Action|Adventure|Fantasy</td>\n",
       "      <td>...</td>\n",
       "      <td>1238.0</td>\n",
       "      <td>English</td>\n",
       "      <td>USA</td>\n",
       "      <td>PG-13</td>\n",
       "      <td>300000000.0</td>\n",
       "      <td>2007.0</td>\n",
       "      <td>5000.0</td>\n",
       "      <td>7.1</td>\n",
       "      <td>2.35</td>\n",
       "      <td>0</td>\n",
       "    </tr>\n",
       "    <tr>\n",
       "      <th>2</th>\n",
       "      <td>Color</td>\n",
       "      <td>Sam Mendes</td>\n",
       "      <td>602.0</td>\n",
       "      <td>148.0</td>\n",
       "      <td>0.0</td>\n",
       "      <td>161.0</td>\n",
       "      <td>Rory Kinnear</td>\n",
       "      <td>11000.0</td>\n",
       "      <td>200074175.0</td>\n",
       "      <td>Action|Adventure|Thriller</td>\n",
       "      <td>...</td>\n",
       "      <td>994.0</td>\n",
       "      <td>English</td>\n",
       "      <td>UK</td>\n",
       "      <td>PG-13</td>\n",
       "      <td>245000000.0</td>\n",
       "      <td>2015.0</td>\n",
       "      <td>393.0</td>\n",
       "      <td>6.8</td>\n",
       "      <td>2.35</td>\n",
       "      <td>85000</td>\n",
       "    </tr>\n",
       "    <tr>\n",
       "      <th>3</th>\n",
       "      <td>Color</td>\n",
       "      <td>Christopher Nolan</td>\n",
       "      <td>813.0</td>\n",
       "      <td>164.0</td>\n",
       "      <td>22000.0</td>\n",
       "      <td>23000.0</td>\n",
       "      <td>Christian Bale</td>\n",
       "      <td>27000.0</td>\n",
       "      <td>448130642.0</td>\n",
       "      <td>Action|Thriller</td>\n",
       "      <td>...</td>\n",
       "      <td>2701.0</td>\n",
       "      <td>English</td>\n",
       "      <td>USA</td>\n",
       "      <td>PG-13</td>\n",
       "      <td>250000000.0</td>\n",
       "      <td>2012.0</td>\n",
       "      <td>23000.0</td>\n",
       "      <td>8.5</td>\n",
       "      <td>2.35</td>\n",
       "      <td>164000</td>\n",
       "    </tr>\n",
       "    <tr>\n",
       "      <th>4</th>\n",
       "      <td>NaN</td>\n",
       "      <td>Doug Walker</td>\n",
       "      <td>NaN</td>\n",
       "      <td>NaN</td>\n",
       "      <td>131.0</td>\n",
       "      <td>NaN</td>\n",
       "      <td>Rob Walker</td>\n",
       "      <td>131.0</td>\n",
       "      <td>NaN</td>\n",
       "      <td>Documentary</td>\n",
       "      <td>...</td>\n",
       "      <td>NaN</td>\n",
       "      <td>NaN</td>\n",
       "      <td>NaN</td>\n",
       "      <td>NaN</td>\n",
       "      <td>NaN</td>\n",
       "      <td>NaN</td>\n",
       "      <td>12.0</td>\n",
       "      <td>7.1</td>\n",
       "      <td>NaN</td>\n",
       "      <td>0</td>\n",
       "    </tr>\n",
       "  </tbody>\n",
       "</table>\n",
       "<p>5 rows × 28 columns</p>\n",
       "</div>"
      ],
      "text/plain": [
       "   color      director_name  num_critic_for_reviews  duration  \\\n",
       "0  Color      James Cameron                   723.0     178.0   \n",
       "1  Color     Gore Verbinski                   302.0     169.0   \n",
       "2  Color         Sam Mendes                   602.0     148.0   \n",
       "3  Color  Christopher Nolan                   813.0     164.0   \n",
       "4    NaN        Doug Walker                     NaN       NaN   \n",
       "\n",
       "   director_facebook_likes  actor_3_facebook_likes      actor_2_name  \\\n",
       "0                      0.0                   855.0  Joel David Moore   \n",
       "1                    563.0                  1000.0     Orlando Bloom   \n",
       "2                      0.0                   161.0      Rory Kinnear   \n",
       "3                  22000.0                 23000.0    Christian Bale   \n",
       "4                    131.0                     NaN        Rob Walker   \n",
       "\n",
       "   actor_1_facebook_likes        gross                           genres  \\\n",
       "0                  1000.0  760505847.0  Action|Adventure|Fantasy|Sci-Fi   \n",
       "1                 40000.0  309404152.0         Action|Adventure|Fantasy   \n",
       "2                 11000.0  200074175.0        Action|Adventure|Thriller   \n",
       "3                 27000.0  448130642.0                  Action|Thriller   \n",
       "4                   131.0          NaN                      Documentary   \n",
       "\n",
       "          ...          num_user_for_reviews language  country  content_rating  \\\n",
       "0         ...                        3054.0  English      USA           PG-13   \n",
       "1         ...                        1238.0  English      USA           PG-13   \n",
       "2         ...                         994.0  English       UK           PG-13   \n",
       "3         ...                        2701.0  English      USA           PG-13   \n",
       "4         ...                           NaN      NaN      NaN             NaN   \n",
       "\n",
       "        budget  title_year actor_2_facebook_likes imdb_score  aspect_ratio  \\\n",
       "0  237000000.0      2009.0                  936.0        7.9          1.78   \n",
       "1  300000000.0      2007.0                 5000.0        7.1          2.35   \n",
       "2  245000000.0      2015.0                  393.0        6.8          2.35   \n",
       "3  250000000.0      2012.0                23000.0        8.5          2.35   \n",
       "4          NaN         NaN                   12.0        7.1           NaN   \n",
       "\n",
       "  movie_facebook_likes  \n",
       "0                33000  \n",
       "1                    0  \n",
       "2                85000  \n",
       "3               164000  \n",
       "4                    0  \n",
       "\n",
       "[5 rows x 28 columns]"
      ]
     },
     "execution_count": 191,
     "metadata": {},
     "output_type": "execute_result"
    }
   ],
   "source": [
    "df= pd.read_csv(final_path)\n",
    "df.head()"
   ]
  },
  {
   "cell_type": "code",
   "execution_count": 192,
   "metadata": {
    "collapsed": false
   },
   "outputs": [],
   "source": [
    "df1=df.dropna()                         #dropping all the NA values\n",
    "#df1.head()"
   ]
  },
  {
   "cell_type": "code",
   "execution_count": 104,
   "metadata": {
    "collapsed": false
   },
   "outputs": [],
   "source": [
    "df_year=df1.groupby('title_year')['movie_title'].count()"
   ]
  },
  {
   "cell_type": "code",
   "execution_count": 105,
   "metadata": {
    "collapsed": false
   },
   "outputs": [],
   "source": [
    "df_year_count= df_year.to_frame().reset_index()"
   ]
  },
  {
   "cell_type": "code",
   "execution_count": 162,
   "metadata": {
    "collapsed": false
   },
   "outputs": [
    {
     "data": {
      "text/html": [
       "<div>\n",
       "<table border=\"1\" class=\"dataframe\">\n",
       "  <thead>\n",
       "    <tr style=\"text-align: right;\">\n",
       "      <th></th>\n",
       "      <th>title_year</th>\n",
       "      <th>movie_title</th>\n",
       "    </tr>\n",
       "  </thead>\n",
       "  <tbody>\n",
       "    <tr>\n",
       "      <th>0</th>\n",
       "      <td>1927.0</td>\n",
       "      <td>1</td>\n",
       "    </tr>\n",
       "    <tr>\n",
       "      <th>1</th>\n",
       "      <td>1929.0</td>\n",
       "      <td>1</td>\n",
       "    </tr>\n",
       "    <tr>\n",
       "      <th>2</th>\n",
       "      <td>1933.0</td>\n",
       "      <td>1</td>\n",
       "    </tr>\n",
       "    <tr>\n",
       "      <th>3</th>\n",
       "      <td>1935.0</td>\n",
       "      <td>1</td>\n",
       "    </tr>\n",
       "    <tr>\n",
       "      <th>4</th>\n",
       "      <td>1936.0</td>\n",
       "      <td>1</td>\n",
       "    </tr>\n",
       "  </tbody>\n",
       "</table>\n",
       "</div>"
      ],
      "text/plain": [
       "   title_year  movie_title\n",
       "0      1927.0            1\n",
       "1      1929.0            1\n",
       "2      1933.0            1\n",
       "3      1935.0            1\n",
       "4      1936.0            1"
      ]
     },
     "execution_count": 162,
     "metadata": {},
     "output_type": "execute_result"
    }
   ],
   "source": [
    "df_year_count.head()"
   ]
  },
  {
   "cell_type": "markdown",
   "metadata": {},
   "source": [
    "## <font color='red'> 1. Finding out in which year range the number of films in the dataset is the most </font>"
   ]
  },
  {
   "cell_type": "code",
   "execution_count": 114,
   "metadata": {
    "collapsed": false
   },
   "outputs": [
    {
     "data": {
      "text/plain": [
       "<matplotlib.axes._subplots.AxesSubplot at 0x22e5b93e588>"
      ]
     },
     "execution_count": 114,
     "metadata": {},
     "output_type": "execute_result"
    },
    {
     "data": {
      "image/png": "[encoded data removed]",
      "text/plain": [
       "<matplotlib.figure.Figure at 0x22e5bb7af28>"
      ]
     },
     "metadata": {},
     "output_type": "display_data"
    }
   ],
   "source": [
    "df_year_count.plot(x='title_year',y='movie_title',kind='scatter')"
   ]
  },
  {
   "cell_type": "markdown",
   "metadata": {},
   "source": [
    "## <font color='Green'>CONCLUSION:The dataset has the highest number of films between the year 2000-2020  </font> "
   ]
  },
  {
   "cell_type": "markdown",
   "metadata": {},
   "source": [
    "## <font color='red'> 2. For the year range 2000-2020 we will find out what was their gross and budget </font>"
   ]
  },
  {
   "cell_type": "code",
   "execution_count": 195,
   "metadata": {
    "collapsed": false
   },
   "outputs": [],
   "source": [
    "df_gross_years= df1[(df1['title_year']>2000.0)&(df1['title_year']<2020.0)]"
   ]
  },
  {
   "cell_type": "code",
   "execution_count": 163,
   "metadata": {
    "collapsed": true
   },
   "outputs": [],
   "source": [
    "df_gross_years1=df_gross_years.groupby('title_year')['movie_title'].count()"
   ]
  },
  {
   "cell_type": "code",
   "execution_count": 164,
   "metadata": {
    "collapsed": false
   },
   "outputs": [
    {
     "data": {
      "text/plain": [
       "<matplotlib.axes._subplots.AxesSubplot at 0x22e5bf237f0>"
      ]
     },
     "execution_count": 164,
     "metadata": {},
     "output_type": "execute_result"
    },
    {
     "data": {
      "image/png": "[encoded data removed]",
      "text/plain": [
       "<matplotlib.figure.Figure at 0x22e5be7d7b8>"
      ]
     },
     "metadata": {},
     "output_type": "display_data"
    }
   ],
   "source": [
    "df_gross_years1.plot(kind='bar')"
   ]
  },
  {
   "cell_type": "code",
   "execution_count": 147,
   "metadata": {
    "collapsed": false
   },
   "outputs": [
    {
     "data": {
      "image/png": "[encoded data removed]",
      "text/plain": [
       "<matplotlib.figure.Figure at 0x22e5be4b940>"
      ]
     },
     "metadata": {},
     "output_type": "display_data"
    }
   ],
   "source": [
    "df_gross= df_gross_years.groupby('title_year')['budget','gross'].sum().plot.barh(stacked=True)\n",
    "df_gross1= df_gross_years.groupby('title_year')['budget','gross'].sum()"
   ]
  },
  {
   "cell_type": "markdown",
   "metadata": {},
   "source": [
    "##  <font color='green'> Conclusion: Stacked Bar plot shows following results:  \n",
    "1. Number of movies released in 2006 was almost equal to 2002,2004,2005,2008,2009 but the budgetin 2006 was quite    high. Comparing the the gross 2006 had the lowest gross which indicates many high budget films didn't do well in the box office.\n",
    "2. \n",
    "\n",
    "\n",
    "</font>"
   ]
  },
  {
   "cell_type": "markdown",
   "metadata": {},
   "source": [
    "##  <font color='red'>  3. Analyzing 2006 data to get insights </font>"
   ]
  },
  {
   "cell_type": "code",
   "execution_count": 197,
   "metadata": {
    "collapsed": false
   },
   "outputs": [],
   "source": [
    "df_2006= df1[(df1.title_year == 2006)]"
   ]
  },
  {
   "cell_type": "code",
   "execution_count": 200,
   "metadata": {
    "collapsed": false
   },
   "outputs": [
    {
     "data": {
      "text/html": [
       "<div>\n",
       "<table border=\"1\" class=\"dataframe\">\n",
       "  <thead>\n",
       "    <tr style=\"text-align: right;\">\n",
       "      <th></th>\n",
       "      <th>color</th>\n",
       "      <th>director_name</th>\n",
       "      <th>num_critic_for_reviews</th>\n",
       "      <th>duration</th>\n",
       "      <th>director_facebook_likes</th>\n",
       "      <th>actor_3_facebook_likes</th>\n",
       "      <th>actor_2_name</th>\n",
       "      <th>actor_1_facebook_likes</th>\n",
       "      <th>gross</th>\n",
       "      <th>genres</th>\n",
       "      <th>...</th>\n",
       "      <th>num_user_for_reviews</th>\n",
       "      <th>language</th>\n",
       "      <th>country</th>\n",
       "      <th>content_rating</th>\n",
       "      <th>budget</th>\n",
       "      <th>title_year</th>\n",
       "      <th>actor_2_facebook_likes</th>\n",
       "      <th>imdb_score</th>\n",
       "      <th>aspect_ratio</th>\n",
       "      <th>movie_facebook_likes</th>\n",
       "    </tr>\n",
       "  </thead>\n",
       "  <tbody>\n",
       "    <tr>\n",
       "      <th>11</th>\n",
       "      <td>Color</td>\n",
       "      <td>Bryan Singer</td>\n",
       "      <td>434.0</td>\n",
       "      <td>169.0</td>\n",
       "      <td>0.0</td>\n",
       "      <td>903.0</td>\n",
       "      <td>Marlon Brando</td>\n",
       "      <td>18000.0</td>\n",
       "      <td>200069408.0</td>\n",
       "      <td>Action|Adventure|Sci-Fi</td>\n",
       "      <td>...</td>\n",
       "      <td>2367.0</td>\n",
       "      <td>English</td>\n",
       "      <td>USA</td>\n",
       "      <td>PG-13</td>\n",
       "      <td>209000000.0</td>\n",
       "      <td>2006.0</td>\n",
       "      <td>10000.0</td>\n",
       "      <td>6.1</td>\n",
       "      <td>2.35</td>\n",
       "      <td>0</td>\n",
       "    </tr>\n",
       "    <tr>\n",
       "      <th>13</th>\n",
       "      <td>Color</td>\n",
       "      <td>Gore Verbinski</td>\n",
       "      <td>313.0</td>\n",
       "      <td>151.0</td>\n",
       "      <td>563.0</td>\n",
       "      <td>1000.0</td>\n",
       "      <td>Orlando Bloom</td>\n",
       "      <td>40000.0</td>\n",
       "      <td>423032628.0</td>\n",
       "      <td>Action|Adventure|Fantasy</td>\n",
       "      <td>...</td>\n",
       "      <td>1832.0</td>\n",
       "      <td>English</td>\n",
       "      <td>USA</td>\n",
       "      <td>PG-13</td>\n",
       "      <td>225000000.0</td>\n",
       "      <td>2006.0</td>\n",
       "      <td>5000.0</td>\n",
       "      <td>7.3</td>\n",
       "      <td>2.35</td>\n",
       "      <td>5000</td>\n",
       "    </tr>\n",
       "    <tr>\n",
       "      <th>34</th>\n",
       "      <td>Color</td>\n",
       "      <td>Brett Ratner</td>\n",
       "      <td>334.0</td>\n",
       "      <td>104.0</td>\n",
       "      <td>420.0</td>\n",
       "      <td>560.0</td>\n",
       "      <td>Kelsey Grammer</td>\n",
       "      <td>20000.0</td>\n",
       "      <td>234360014.0</td>\n",
       "      <td>Action|Adventure|Fantasy|Sci-Fi|Thriller</td>\n",
       "      <td>...</td>\n",
       "      <td>1912.0</td>\n",
       "      <td>English</td>\n",
       "      <td>Canada</td>\n",
       "      <td>PG-13</td>\n",
       "      <td>210000000.0</td>\n",
       "      <td>2006.0</td>\n",
       "      <td>808.0</td>\n",
       "      <td>6.8</td>\n",
       "      <td>2.35</td>\n",
       "      <td>0</td>\n",
       "    </tr>\n",
       "    <tr>\n",
       "      <th>105</th>\n",
       "      <td>Color</td>\n",
       "      <td>Wolfgang Petersen</td>\n",
       "      <td>231.0</td>\n",
       "      <td>98.0</td>\n",
       "      <td>249.0</td>\n",
       "      <td>702.0</td>\n",
       "      <td>Mike Vogel</td>\n",
       "      <td>87000.0</td>\n",
       "      <td>60655503.0</td>\n",
       "      <td>Action|Adventure|Drama|Thriller</td>\n",
       "      <td>...</td>\n",
       "      <td>629.0</td>\n",
       "      <td>English</td>\n",
       "      <td>USA</td>\n",
       "      <td>PG-13</td>\n",
       "      <td>160000000.0</td>\n",
       "      <td>2006.0</td>\n",
       "      <td>2000.0</td>\n",
       "      <td>5.6</td>\n",
       "      <td>2.35</td>\n",
       "      <td>0</td>\n",
       "    </tr>\n",
       "    <tr>\n",
       "      <th>141</th>\n",
       "      <td>Color</td>\n",
       "      <td>J.J. Abrams</td>\n",
       "      <td>310.0</td>\n",
       "      <td>124.0</td>\n",
       "      <td>14000.0</td>\n",
       "      <td>979.0</td>\n",
       "      <td>Tom Cruise</td>\n",
       "      <td>22000.0</td>\n",
       "      <td>133382309.0</td>\n",
       "      <td>Action|Adventure|Thriller</td>\n",
       "      <td>...</td>\n",
       "      <td>871.0</td>\n",
       "      <td>English</td>\n",
       "      <td>USA</td>\n",
       "      <td>PG-13</td>\n",
       "      <td>150000000.0</td>\n",
       "      <td>2006.0</td>\n",
       "      <td>10000.0</td>\n",
       "      <td>6.9</td>\n",
       "      <td>2.35</td>\n",
       "      <td>0</td>\n",
       "    </tr>\n",
       "  </tbody>\n",
       "</table>\n",
       "<p>5 rows × 28 columns</p>\n",
       "</div>"
      ],
      "text/plain": [
       "     color      director_name  num_critic_for_reviews  duration  \\\n",
       "11   Color       Bryan Singer                   434.0     169.0   \n",
       "13   Color     Gore Verbinski                   313.0     151.0   \n",
       "34   Color       Brett Ratner                   334.0     104.0   \n",
       "105  Color  Wolfgang Petersen                   231.0      98.0   \n",
       "141  Color        J.J. Abrams                   310.0     124.0   \n",
       "\n",
       "     director_facebook_likes  actor_3_facebook_likes    actor_2_name  \\\n",
       "11                       0.0                   903.0   Marlon Brando   \n",
       "13                     563.0                  1000.0   Orlando Bloom   \n",
       "34                     420.0                   560.0  Kelsey Grammer   \n",
       "105                    249.0                   702.0      Mike Vogel   \n",
       "141                  14000.0                   979.0      Tom Cruise   \n",
       "\n",
       "     actor_1_facebook_likes        gross  \\\n",
       "11                  18000.0  200069408.0   \n",
       "13                  40000.0  423032628.0   \n",
       "34                  20000.0  234360014.0   \n",
       "105                 87000.0   60655503.0   \n",
       "141                 22000.0  133382309.0   \n",
       "\n",
       "                                       genres         ...           \\\n",
       "11                    Action|Adventure|Sci-Fi         ...            \n",
       "13                   Action|Adventure|Fantasy         ...            \n",
       "34   Action|Adventure|Fantasy|Sci-Fi|Thriller         ...            \n",
       "105           Action|Adventure|Drama|Thriller         ...            \n",
       "141                 Action|Adventure|Thriller         ...            \n",
       "\n",
       "    num_user_for_reviews language  country  content_rating       budget  \\\n",
       "11                2367.0  English      USA           PG-13  209000000.0   \n",
       "13                1832.0  English      USA           PG-13  225000000.0   \n",
       "34                1912.0  English   Canada           PG-13  210000000.0   \n",
       "105                629.0  English      USA           PG-13  160000000.0   \n",
       "141                871.0  English      USA           PG-13  150000000.0   \n",
       "\n",
       "     title_year actor_2_facebook_likes imdb_score  aspect_ratio  \\\n",
       "11       2006.0                10000.0        6.1          2.35   \n",
       "13       2006.0                 5000.0        7.3          2.35   \n",
       "34       2006.0                  808.0        6.8          2.35   \n",
       "105      2006.0                 2000.0        5.6          2.35   \n",
       "141      2006.0                10000.0        6.9          2.35   \n",
       "\n",
       "    movie_facebook_likes  \n",
       "11                     0  \n",
       "13                  5000  \n",
       "34                     0  \n",
       "105                    0  \n",
       "141                    0  \n",
       "\n",
       "[5 rows x 28 columns]"
      ]
     },
     "execution_count": 200,
     "metadata": {},
     "output_type": "execute_result"
    }
   ],
   "source": [
    "df_2006.head()"
   ]
  },
  {
   "cell_type": "code",
   "execution_count": 201,
   "metadata": {
    "collapsed": false
   },
   "outputs": [
    {
     "name": "stderr",
     "output_type": "stream",
     "text": [
      "C:\\Users\\dhruv\\Anaconda3\\lib\\site-packages\\ipykernel\\__main__.py:1: SettingWithCopyWarning: \n",
      "A value is trying to be set on a copy of a slice from a DataFrame.\n",
      "Try using .loc[row_indexer,col_indexer] = value instead\n",
      "\n",
      "See the caveats in the documentation: http://pandas.pydata.org/pandas-docs/stable/indexing.html#indexing-view-versus-copy\n",
      "  if __name__ == '__main__':\n"
     ]
    }
   ],
   "source": [
    "df_2006['Net']= df_2006['gross']-df_2006['budget']"
   ]
  },
  {
   "cell_type": "code",
   "execution_count": 209,
   "metadata": {
    "collapsed": false
   },
   "outputs": [
    {
     "name": "stderr",
     "output_type": "stream",
     "text": [
      "C:\\Users\\dhruv\\Anaconda3\\lib\\site-packages\\ipykernel\\__main__.py:1: SettingWithCopyWarning: \n",
      "A value is trying to be set on a copy of a slice from a DataFrame.\n",
      "Try using .loc[row_indexer,col_indexer] = value instead\n",
      "\n",
      "See the caveats in the documentation: http://pandas.pydata.org/pandas-docs/stable/indexing.html#indexing-view-versus-copy\n",
      "  if __name__ == '__main__':\n"
     ]
    }
   ],
   "source": [
    "df_2006['Status']= np.where(df_2006['Net']>0, 'Positive', 'Negative')"
   ]
  },
  {
   "cell_type": "code",
   "execution_count": 210,
   "metadata": {
    "collapsed": false
   },
   "outputs": [
    {
     "data": {
      "text/html": [
       "<div>\n",
       "<table border=\"1\" class=\"dataframe\">\n",
       "  <thead>\n",
       "    <tr style=\"text-align: right;\">\n",
       "      <th></th>\n",
       "      <th>color</th>\n",
       "      <th>director_name</th>\n",
       "      <th>num_critic_for_reviews</th>\n",
       "      <th>duration</th>\n",
       "      <th>director_facebook_likes</th>\n",
       "      <th>actor_3_facebook_likes</th>\n",
       "      <th>actor_2_name</th>\n",
       "      <th>actor_1_facebook_likes</th>\n",
       "      <th>gross</th>\n",
       "      <th>genres</th>\n",
       "      <th>...</th>\n",
       "      <th>country</th>\n",
       "      <th>content_rating</th>\n",
       "      <th>budget</th>\n",
       "      <th>title_year</th>\n",
       "      <th>actor_2_facebook_likes</th>\n",
       "      <th>imdb_score</th>\n",
       "      <th>aspect_ratio</th>\n",
       "      <th>movie_facebook_likes</th>\n",
       "      <th>Net</th>\n",
       "      <th>Status</th>\n",
       "    </tr>\n",
       "  </thead>\n",
       "  <tbody>\n",
       "    <tr>\n",
       "      <th>11</th>\n",
       "      <td>Color</td>\n",
       "      <td>Bryan Singer</td>\n",
       "      <td>434.0</td>\n",
       "      <td>169.0</td>\n",
       "      <td>0.0</td>\n",
       "      <td>903.0</td>\n",
       "      <td>Marlon Brando</td>\n",
       "      <td>18000.0</td>\n",
       "      <td>200069408.0</td>\n",
       "      <td>Action|Adventure|Sci-Fi</td>\n",
       "      <td>...</td>\n",
       "      <td>USA</td>\n",
       "      <td>PG-13</td>\n",
       "      <td>209000000.0</td>\n",
       "      <td>2006.0</td>\n",
       "      <td>10000.0</td>\n",
       "      <td>6.1</td>\n",
       "      <td>2.35</td>\n",
       "      <td>0</td>\n",
       "      <td>-8930592.0</td>\n",
       "      <td>Negative</td>\n",
       "    </tr>\n",
       "    <tr>\n",
       "      <th>13</th>\n",
       "      <td>Color</td>\n",
       "      <td>Gore Verbinski</td>\n",
       "      <td>313.0</td>\n",
       "      <td>151.0</td>\n",
       "      <td>563.0</td>\n",
       "      <td>1000.0</td>\n",
       "      <td>Orlando Bloom</td>\n",
       "      <td>40000.0</td>\n",
       "      <td>423032628.0</td>\n",
       "      <td>Action|Adventure|Fantasy</td>\n",
       "      <td>...</td>\n",
       "      <td>USA</td>\n",
       "      <td>PG-13</td>\n",
       "      <td>225000000.0</td>\n",
       "      <td>2006.0</td>\n",
       "      <td>5000.0</td>\n",
       "      <td>7.3</td>\n",
       "      <td>2.35</td>\n",
       "      <td>5000</td>\n",
       "      <td>198032628.0</td>\n",
       "      <td>Positive</td>\n",
       "    </tr>\n",
       "    <tr>\n",
       "      <th>34</th>\n",
       "      <td>Color</td>\n",
       "      <td>Brett Ratner</td>\n",
       "      <td>334.0</td>\n",
       "      <td>104.0</td>\n",
       "      <td>420.0</td>\n",
       "      <td>560.0</td>\n",
       "      <td>Kelsey Grammer</td>\n",
       "      <td>20000.0</td>\n",
       "      <td>234360014.0</td>\n",
       "      <td>Action|Adventure|Fantasy|Sci-Fi|Thriller</td>\n",
       "      <td>...</td>\n",
       "      <td>Canada</td>\n",
       "      <td>PG-13</td>\n",
       "      <td>210000000.0</td>\n",
       "      <td>2006.0</td>\n",
       "      <td>808.0</td>\n",
       "      <td>6.8</td>\n",
       "      <td>2.35</td>\n",
       "      <td>0</td>\n",
       "      <td>24360014.0</td>\n",
       "      <td>Positive</td>\n",
       "    </tr>\n",
       "    <tr>\n",
       "      <th>105</th>\n",
       "      <td>Color</td>\n",
       "      <td>Wolfgang Petersen</td>\n",
       "      <td>231.0</td>\n",
       "      <td>98.0</td>\n",
       "      <td>249.0</td>\n",
       "      <td>702.0</td>\n",
       "      <td>Mike Vogel</td>\n",
       "      <td>87000.0</td>\n",
       "      <td>60655503.0</td>\n",
       "      <td>Action|Adventure|Drama|Thriller</td>\n",
       "      <td>...</td>\n",
       "      <td>USA</td>\n",
       "      <td>PG-13</td>\n",
       "      <td>160000000.0</td>\n",
       "      <td>2006.0</td>\n",
       "      <td>2000.0</td>\n",
       "      <td>5.6</td>\n",
       "      <td>2.35</td>\n",
       "      <td>0</td>\n",
       "      <td>-99344497.0</td>\n",
       "      <td>Negative</td>\n",
       "    </tr>\n",
       "    <tr>\n",
       "      <th>141</th>\n",
       "      <td>Color</td>\n",
       "      <td>J.J. Abrams</td>\n",
       "      <td>310.0</td>\n",
       "      <td>124.0</td>\n",
       "      <td>14000.0</td>\n",
       "      <td>979.0</td>\n",
       "      <td>Tom Cruise</td>\n",
       "      <td>22000.0</td>\n",
       "      <td>133382309.0</td>\n",
       "      <td>Action|Adventure|Thriller</td>\n",
       "      <td>...</td>\n",
       "      <td>USA</td>\n",
       "      <td>PG-13</td>\n",
       "      <td>150000000.0</td>\n",
       "      <td>2006.0</td>\n",
       "      <td>10000.0</td>\n",
       "      <td>6.9</td>\n",
       "      <td>2.35</td>\n",
       "      <td>0</td>\n",
       "      <td>-16617691.0</td>\n",
       "      <td>Negative</td>\n",
       "    </tr>\n",
       "  </tbody>\n",
       "</table>\n",
       "<p>5 rows × 30 columns</p>\n",
       "</div>"
      ],
      "text/plain": [
       "     color      director_name  num_critic_for_reviews  duration  \\\n",
       "11   Color       Bryan Singer                   434.0     169.0   \n",
       "13   Color     Gore Verbinski                   313.0     151.0   \n",
       "34   Color       Brett Ratner                   334.0     104.0   \n",
       "105  Color  Wolfgang Petersen                   231.0      98.0   \n",
       "141  Color        J.J. Abrams                   310.0     124.0   \n",
       "\n",
       "     director_facebook_likes  actor_3_facebook_likes    actor_2_name  \\\n",
       "11                       0.0                   903.0   Marlon Brando   \n",
       "13                     563.0                  1000.0   Orlando Bloom   \n",
       "34                     420.0                   560.0  Kelsey Grammer   \n",
       "105                    249.0                   702.0      Mike Vogel   \n",
       "141                  14000.0                   979.0      Tom Cruise   \n",
       "\n",
       "     actor_1_facebook_likes        gross  \\\n",
       "11                  18000.0  200069408.0   \n",
       "13                  40000.0  423032628.0   \n",
       "34                  20000.0  234360014.0   \n",
       "105                 87000.0   60655503.0   \n",
       "141                 22000.0  133382309.0   \n",
       "\n",
       "                                       genres    ...    country  \\\n",
       "11                    Action|Adventure|Sci-Fi    ...        USA   \n",
       "13                   Action|Adventure|Fantasy    ...        USA   \n",
       "34   Action|Adventure|Fantasy|Sci-Fi|Thriller    ...     Canada   \n",
       "105           Action|Adventure|Drama|Thriller    ...        USA   \n",
       "141                 Action|Adventure|Thriller    ...        USA   \n",
       "\n",
       "    content_rating       budget  title_year actor_2_facebook_likes  \\\n",
       "11           PG-13  209000000.0      2006.0                10000.0   \n",
       "13           PG-13  225000000.0      2006.0                 5000.0   \n",
       "34           PG-13  210000000.0      2006.0                  808.0   \n",
       "105          PG-13  160000000.0      2006.0                 2000.0   \n",
       "141          PG-13  150000000.0      2006.0                10000.0   \n",
       "\n",
       "     imdb_score aspect_ratio movie_facebook_likes          Net    Status  \n",
       "11          6.1         2.35                    0   -8930592.0  Negative  \n",
       "13          7.3         2.35                 5000  198032628.0  Positive  \n",
       "34          6.8         2.35                    0   24360014.0  Positive  \n",
       "105         5.6         2.35                    0  -99344497.0  Negative  \n",
       "141         6.9         2.35                    0  -16617691.0  Negative  \n",
       "\n",
       "[5 rows x 30 columns]"
      ]
     },
     "execution_count": 210,
     "metadata": {},
     "output_type": "execute_result"
    }
   ],
   "source": [
    "df_2006.head()"
   ]
  },
  {
   "cell_type": "code",
   "execution_count": 211,
   "metadata": {
    "collapsed": true
   },
   "outputs": [],
   "source": []
  },
  {
   "cell_type": "code",
   "execution_count": 219,
   "metadata": {
    "collapsed": true
   },
   "outputs": [],
   "source": [
    "df_pos=df_2006.loc[df_2006['Status']=='Positive',['director_name']]"
   ]
  },
  {
   "cell_type": "code",
   "execution_count": 222,
   "metadata": {
    "collapsed": false
   },
   "outputs": [],
   "source": [
    "df_neg=df_2006.loc[df_2006['Status']=='Negative',['director_name']]"
   ]
  },
  {
   "cell_type": "code",
   "execution_count": 223,
   "metadata": {
    "collapsed": false
   },
   "outputs": [
    {
     "data": {
      "text/plain": [
       "Int64Index([  11,  105,  141,  144,  301,  307,  408,  412,  418,  503,\n",
       "            ...\n",
       "            4463, 4493, 4581, 4587, 4601, 4603, 4606, 4784, 4832, 4915],\n",
       "           dtype='int64', length=101)"
      ]
     },
     "execution_count": 223,
     "metadata": {},
     "output_type": "execute_result"
    }
   ],
   "source": [
    "df_pos.index\n",
    "df_neg.index"
   ]
  },
  {
   "cell_type": "code",
   "execution_count": 224,
   "metadata": {
    "collapsed": true
   },
   "outputs": [],
   "source": [
    "bestdir = df_pos.index.intersection(df_neg.index)"
   ]
  },
  {
   "cell_type": "code",
   "execution_count": 235,
   "metadata": {
    "collapsed": false
   },
   "outputs": [
    {
     "data": {
      "image/png": "[encoded data removed]",
      "text/plain": [
       "<matplotlib.figure.Figure at 0x22e5c0ae400>"
      ]
     },
     "metadata": {},
     "output_type": "display_data"
    }
   ],
   "source": [
    "set1 = set(df_neg.index.values)\n",
    "set2 = set(df_pos.index.values)\n",
    "v = venn2([set1, set2],('Negative', 'Positive'))\n",
    "          \n",
    "plt.title(\"Director's Data Analysis\", fontsize=16,fontweight='bold',family='serif')\n",
    "bestdirstr = ''.join(bestdir)\n"
   ]
  },
  {
   "cell_type": "code",
   "execution_count": null,
   "metadata": {
    "collapsed": true
   },
   "outputs": [],
   "source": []
  }
 ],
 "metadata": {
  "anaconda-cloud": {},
  "kernelspec": {
   "display_name": "Python [default]",
   "language": "python",
   "name": "python3"
  },
  "language_info": {
   "codemirror_mode": {
    "name": "ipython",
    "version": 3
   },
   "file_extension": ".py",
   "mimetype": "text/x-python",
   "name": "python",
   "nbconvert_exporter": "python",
   "pygments_lexer": "ipython3",
   "version": "3.5.2"
  }
 },
 "nbformat": 4,
 "nbformat_minor": 1
}
