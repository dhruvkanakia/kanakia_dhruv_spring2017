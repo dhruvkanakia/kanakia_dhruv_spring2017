{
 "cells": [
  {
   "cell_type": "markdown",
   "metadata": {},
   "source": [
    "##    1.  FIRST ANALYSIS : UNDERSTANDING THE DATA "
   ]
  },
  {
   "cell_type": "markdown",
   "metadata": {},
   "source": [
    "### 1.1 Finding out in which year has the most number of films\n",
    "### 1.2 Visualizing IMDb over the years\n",
    "### 1.3 Analysing the gross trend over the years  \n",
    "### 1.4 REVENUE PLOT \n",
    "### 1.5  3-d plot for IMDB vs Budget vs Gross<\n",
    "### 1.6 Q. Is budget directly related to profit? \n",
    "### 1.7  WITH WHICH FACTOS IS PROFIT ACTUALLY RELATED IN THE DATASET? \n",
    "### 1.8 Which country has the highest number of movies?\n",
    "### 1.9 Which language has the highest number of movies ?"
   ]
  },
  {
   "cell_type": "code",
   "execution_count": 1,
   "metadata": {
    "collapsed": true
   },
   "outputs": [],
   "source": [
    "#importing required libraries"
   ]
  },
  {
   "cell_type": "code",
   "execution_count": 2,
   "metadata": {
    "collapsed": false
   },
   "outputs": [],
   "source": [
    "import os                            #importng os library\n",
    "import pandas as pd\n",
    "import seaborn as sns\n",
    "import matplotlib.pyplot as plt\n",
    "from pandas import DataFrame\n",
    "import numpy as np\n",
    "import matplotlib\n",
    "from matplotlib_venn import venn2, venn2_circles\n",
    "from matplotlib_venn import venn3, venn3_circles\n",
    "%matplotlib inline"
   ]
  },
  {
   "cell_type": "code",
   "execution_count": 3,
   "metadata": {
    "collapsed": false
   },
   "outputs": [],
   "source": [
    "\n",
    "path=os.chdir(\"..\")                   #Moving back one folder\n"
   ]
  },
  {
   "cell_type": "code",
   "execution_count": 4,
   "metadata": {
    "collapsed": false
   },
   "outputs": [
    {
     "data": {
      "text/plain": [
       "'C:\\\\DataAnalysis4Python\\\\kanakia_dhruv_spring2017\\\\Final'"
      ]
     },
     "execution_count": 4,
     "metadata": {},
     "output_type": "execute_result"
    }
   ],
   "source": [
    "path=os.getcwd()                          #Checking the path\n",
    "path"
   ]
  },
  {
   "cell_type": "code",
   "execution_count": 5,
   "metadata": {
    "collapsed": false
   },
   "outputs": [],
   "source": [
    "final_path= path+\"\\\\Data\\\\movie_metadata.csv\" #setting up the final path in final_path"
   ]
  },
  {
   "cell_type": "code",
   "execution_count": 6,
   "metadata": {
    "collapsed": false
   },
   "outputs": [],
   "source": [
    "df= pd.read_csv(final_path)\n",
    "#df.head()"
   ]
  },
  {
   "cell_type": "code",
   "execution_count": 7,
   "metadata": {
    "collapsed": false
   },
   "outputs": [],
   "source": [
    "df1=df.dropna()                         #dropping all the NA values\n",
    "#df1.head()"
   ]
  },
  {
   "cell_type": "markdown",
   "metadata": {
    "collapsed": false
   },
   "source": [
    "## 1. Finding out in which year range the number of films in the dataset is the most"
   ]
  },
  {
   "cell_type": "code",
   "execution_count": 8,
   "metadata": {
    "collapsed": false
   },
   "outputs": [],
   "source": [
    "df_year=df1.groupby('title_year')['movie_title'].count()  #grouping by title_year to count year of movies in each year"
   ]
  },
  {
   "cell_type": "code",
   "execution_count": 9,
   "metadata": {
    "collapsed": false
   },
   "outputs": [],
   "source": [
    "df_year_count= df_year.to_frame().reset_index()"
   ]
  },
  {
   "cell_type": "code",
   "execution_count": 10,
   "metadata": {
    "collapsed": false
   },
   "outputs": [],
   "source": [
    "#df_year_count.head()"
   ]
  },
  {
   "cell_type": "code",
   "execution_count": 11,
   "metadata": {
    "collapsed": false
   },
   "outputs": [
    {
     "data": {
      "text/plain": [
       "<matplotlib.axes._subplots.AxesSubplot at 0x2990ab55358>"
      ]
     },
     "execution_count": 11,
     "metadata": {},
     "output_type": "execute_result"
    },
    {
     "data": {
      "image/png": "[encoded data removed]",
      "text/plain": [
       "<matplotlib.figure.Figure at 0x2990b64c828>"
      ]
     },
     "metadata": {},
     "output_type": "display_data"
    }
   ],
   "source": [
    "df_year_count.plot(x='title_year',y='movie_title',kind='line', color='green')"
   ]
  },
  {
   "cell_type": "markdown",
   "metadata": {},
   "source": [
    "## CONCLUSION:The dataset has the highest number of films between the year 2000-2010\n"
   ]
  },
  {
   "cell_type": "markdown",
   "metadata": {},
   "source": [
    "## 1.2 Visualizing IMDb over the years."
   ]
  },
  {
   "cell_type": "code",
   "execution_count": 12,
   "metadata": {
    "collapsed": true
   },
   "outputs": [],
   "source": [
    "df_imdb_year=df1.groupby('title_year' ,as_index=False)['imdb_score'].mean()"
   ]
  },
  {
   "cell_type": "code",
   "execution_count": 13,
   "metadata": {
    "collapsed": false,
    "scrolled": false
   },
   "outputs": [
    {
     "data": {
      "text/plain": [
       "<matplotlib.axes._subplots.AxesSubplot at 0x2990ab74e80>"
      ]
     },
     "execution_count": 13,
     "metadata": {},
     "output_type": "execute_result"
    },
    {
     "data": {
      "image/png": "[encoded data removed]",
      "text/plain": [
       "<matplotlib.figure.Figure at 0x2990af676a0>"
      ]
     },
     "metadata": {},
     "output_type": "display_data"
    }
   ],
   "source": [
    "df_imdb_year.plot(x='title_year', y='imdb_score', kind='line', color='#9fff80')"
   ]
  },
  {
   "cell_type": "markdown",
   "metadata": {},
   "source": [
    "## It has no direct pattern but we can surely see that increase in number of films has decreased the quality and can that with increase in Quantity, Quality has decreased "
   ]
  },
  {
   "cell_type": "markdown",
   "metadata": {},
   "source": [
    "## 1.3 Visualizing the trend of GROSS over the YEAR's"
   ]
  },
  {
   "cell_type": "code",
   "execution_count": 14,
   "metadata": {
    "collapsed": false
   },
   "outputs": [],
   "source": [
    "df_movies_year_gross = df1.groupby(['title_year'], as_index=False)['gross'].sum()\n",
    "#df_movies_year_gross.head()"
   ]
  },
  {
   "cell_type": "code",
   "execution_count": 15,
   "metadata": {
    "collapsed": false
   },
   "outputs": [],
   "source": [
    "df_year_count= df_year_count.merge(df_movies_year_gross)"
   ]
  },
  {
   "cell_type": "code",
   "execution_count": 16,
   "metadata": {
    "collapsed": false
   },
   "outputs": [],
   "source": [
    "#df_year_count.head()"
   ]
  },
  {
   "cell_type": "code",
   "execution_count": 17,
   "metadata": {
    "collapsed": false
   },
   "outputs": [],
   "source": [
    "df_year_count[['title_year','gross']] = df_year_count[['title_year','gross']].apply(pd.to_numeric)"
   ]
  },
  {
   "cell_type": "code",
   "execution_count": 18,
   "metadata": {
    "collapsed": false
   },
   "outputs": [],
   "source": [
    "# df_year_count.head()"
   ]
  },
  {
   "cell_type": "code",
   "execution_count": 19,
   "metadata": {
    "collapsed": false
   },
   "outputs": [],
   "source": [
    "df_year_count['Average']= df_year_count['gross']/df_year_count['movie_title'] "
   ]
  },
  {
   "cell_type": "code",
   "execution_count": 20,
   "metadata": {
    "collapsed": false
   },
   "outputs": [],
   "source": [
    "df_year_count= df_year_count[(df_year_count.title_year> 1980)]"
   ]
  },
  {
   "cell_type": "code",
   "execution_count": 21,
   "metadata": {
    "collapsed": false
   },
   "outputs": [],
   "source": [
    "# df_year_count.head()"
   ]
  },
  {
   "cell_type": "code",
   "execution_count": 22,
   "metadata": {
    "collapsed": false
   },
   "outputs": [
    {
     "data": {
      "text/plain": [
       "<matplotlib.axes._subplots.AxesSubplot at 0x2990afbb898>"
      ]
     },
     "execution_count": 22,
     "metadata": {},
     "output_type": "execute_result"
    },
    {
     "data": {
      "image/png": "[encoded data removed]",
      "text/plain": [
       "<matplotlib.figure.Figure at 0x2990b492198>"
      ]
     },
     "metadata": {},
     "output_type": "display_data"
    }
   ],
   "source": [
    "df_year_count.plot(x='title_year', y='gross', kind='line', color='#4d9900' )"
   ]
  },
  {
   "cell_type": "markdown",
   "metadata": {},
   "source": [
    "## Gross increased over the years but is declining in the current years "
   ]
  },
  {
   "cell_type": "markdown",
   "metadata": {
    "collapsed": true
   },
   "source": [
    "## 1.4 REVENUE PLOT"
   ]
  },
  {
   "cell_type": "code",
   "execution_count": 23,
   "metadata": {
    "collapsed": false
   },
   "outputs": [],
   "source": [
    "df_movies_year_budget = df1.groupby(['title_year'], as_index=False)['budget'].sum()\n",
    "# df_movies_year_budget.head()\n"
   ]
  },
  {
   "cell_type": "code",
   "execution_count": 24,
   "metadata": {
    "collapsed": true
   },
   "outputs": [],
   "source": [
    "df_year_count_budget= df_year_count.merge(df_movies_year_budget)"
   ]
  },
  {
   "cell_type": "code",
   "execution_count": 25,
   "metadata": {
    "collapsed": false
   },
   "outputs": [
    {
     "data": {
      "text/html": [
       "<div>\n",
       "<table border=\"1\" class=\"dataframe\">\n",
       "  <thead>\n",
       "    <tr style=\"text-align: right;\">\n",
       "      <th></th>\n",
       "      <th>title_year</th>\n",
       "      <th>movie_title</th>\n",
       "      <th>gross</th>\n",
       "      <th>Average</th>\n",
       "      <th>budget</th>\n",
       "    </tr>\n",
       "  </thead>\n",
       "  <tbody>\n",
       "    <tr>\n",
       "      <th>0</th>\n",
       "      <td>1981.0</td>\n",
       "      <td>17</td>\n",
       "      <td>7.048333e+08</td>\n",
       "      <td>4.146078e+07</td>\n",
       "      <td>182150000.0</td>\n",
       "    </tr>\n",
       "    <tr>\n",
       "      <th>1</th>\n",
       "      <td>1982.0</td>\n",
       "      <td>16</td>\n",
       "      <td>1.200601e+09</td>\n",
       "      <td>7.503755e+07</td>\n",
       "      <td>251400000.0</td>\n",
       "    </tr>\n",
       "    <tr>\n",
       "      <th>2</th>\n",
       "      <td>1983.0</td>\n",
       "      <td>13</td>\n",
       "      <td>8.922934e+08</td>\n",
       "      <td>6.863795e+07</td>\n",
       "      <td>255000000.0</td>\n",
       "    </tr>\n",
       "    <tr>\n",
       "      <th>3</th>\n",
       "      <td>1984.0</td>\n",
       "      <td>23</td>\n",
       "      <td>1.447611e+09</td>\n",
       "      <td>6.293960e+07</td>\n",
       "      <td>354300000.0</td>\n",
       "    </tr>\n",
       "    <tr>\n",
       "      <th>4</th>\n",
       "      <td>1985.0</td>\n",
       "      <td>15</td>\n",
       "      <td>8.883470e+08</td>\n",
       "      <td>5.922313e+07</td>\n",
       "      <td>246605523.0</td>\n",
       "    </tr>\n",
       "  </tbody>\n",
       "</table>\n",
       "</div>"
      ],
      "text/plain": [
       "   title_year  movie_title         gross       Average       budget\n",
       "0      1981.0           17  7.048333e+08  4.146078e+07  182150000.0\n",
       "1      1982.0           16  1.200601e+09  7.503755e+07  251400000.0\n",
       "2      1983.0           13  8.922934e+08  6.863795e+07  255000000.0\n",
       "3      1984.0           23  1.447611e+09  6.293960e+07  354300000.0\n",
       "4      1985.0           15  8.883470e+08  5.922313e+07  246605523.0"
      ]
     },
     "execution_count": 25,
     "metadata": {},
     "output_type": "execute_result"
    }
   ],
   "source": [
    "df_year_count_budget.head()"
   ]
  },
  {
   "cell_type": "code",
   "execution_count": 26,
   "metadata": {
    "collapsed": false
   },
   "outputs": [],
   "source": [
    "df_year_count_budget[['title_year','budget']] = df_year_count_budget[['title_year','budget']].apply(pd.to_numeric)"
   ]
  },
  {
   "cell_type": "code",
   "execution_count": 27,
   "metadata": {
    "collapsed": false
   },
   "outputs": [],
   "source": [
    "df_year_count_budget['Average_Budget']= df_year_count_budget['budget']/df_year_count['movie_title'] "
   ]
  },
  {
   "cell_type": "code",
   "execution_count": 28,
   "metadata": {
    "collapsed": true
   },
   "outputs": [],
   "source": [
    "df_year_count_budget= df_year_count_budget[(df_year_count_budget.title_year> 1980)]"
   ]
  },
  {
   "cell_type": "code",
   "execution_count": 29,
   "metadata": {
    "collapsed": false
   },
   "outputs": [
    {
     "data": {
      "text/plain": [
       "<matplotlib.axes._subplots.AxesSubplot at 0x2990b4d9320>"
      ]
     },
     "execution_count": 29,
     "metadata": {},
     "output_type": "execute_result"
    },
    {
     "data": {
      "image/png": "[encoded data removed]",
      "text/plain": [
       "<matplotlib.figure.Figure at 0x2990b4d9f60>"
      ]
     },
     "metadata": {},
     "output_type": "display_data"
    }
   ],
   "source": [
    "df_year_count_budget.plot(x='title_year', y='budget', kind='line', color='#408000')"
   ]
  },
  {
   "cell_type": "markdown",
   "metadata": {},
   "source": [
    "## Can see there is a pattern between the three plots i.e IMDB_Score vs Budget vs Gross pver the years. To get a better idea we will plot a 3-d interactive plot"
   ]
  },
  {
   "cell_type": "markdown",
   "metadata": {},
   "source": [
    "## 1.5  3-d plot for IMDB vs Budget vs Gross"
   ]
  },
  {
   "cell_type": "code",
   "execution_count": 30,
   "metadata": {
    "collapsed": true
   },
   "outputs": [],
   "source": [
    "%matplotlib notebook"
   ]
  },
  {
   "cell_type": "code",
   "execution_count": 31,
   "metadata": {
    "collapsed": true
   },
   "outputs": [],
   "source": [
    "%matplotlib notebook"
   ]
  },
  {
   "cell_type": "code",
   "execution_count": 32,
   "metadata": {
    "collapsed": false
   },
   "outputs": [
    {
     "data": {
      "application/javascript": [
       "/* Put everything inside the global mpl namespace */\n",
       "window.mpl = {};\n",
       "\n",
       "mpl.get_websocket_type = function() {\n",
       "    if (typeof(WebSocket) !== 'undefined') {\n",
       "        return WebSocket;\n",
       "    } else if (typeof(MozWebSocket) !== 'undefined') {\n",
       "        return MozWebSocket;\n",
       "    } else {\n",
       "        alert('Your browser does not have WebSocket support.' +\n",
       "              'Please try Chrome, Safari or Firefox ≥ 6. ' +\n",
       "              'Firefox 4 and 5 are also supported but you ' +\n",
       "              'have to enable WebSockets in about:config.');\n",
       "    };\n",
       "}\n",
       "\n",
       "mpl.figure = function(figure_id, websocket, ondownload, parent_element) {\n",
       "    this.id = figure_id;\n",
       "\n",
       "    this.ws = websocket;\n",
       "\n",
       "    this.supports_binary = (this.ws.binaryType != undefined);\n",
       "\n",
       "    if (!this.supports_binary) {\n",
       "        var warnings = document.getElementById(\"mpl-warnings\");\n",
       "        if (warnings) {\n",
       "            warnings.style.display = 'block';\n",
       "            warnings.textContent = (\n",
       "                \"This browser does not support binary websocket messages. \" +\n",
       "                    \"Performance may be slow.\");\n",
       "        }\n",
       "    }\n",
       "\n",
       "    this.imageObj = new Image();\n",
       "\n",
       "    this.context = undefined;\n",
       "    this.message = undefined;\n",
       "    this.canvas = undefined;\n",
       "    this.rubberband_canvas = undefined;\n",
       "    this.rubberband_context = undefined;\n",
       "    this.format_dropdown = undefined;\n",
       "\n",
       "    this.image_mode = 'full';\n",
       "\n",
       "    this.root = $('<div/>');\n",
       "    this._root_extra_style(this.root)\n",
       "    this.root.attr('style', 'display: inline-block');\n",
       "\n",
       "    $(parent_element).append(this.root);\n",
       "\n",
       "    this._init_header(this);\n",
       "    this._init_canvas(this);\n",
       "    this._init_toolbar(this);\n",
       "\n",
       "    var fig = this;\n",
       "\n",
       "    this.waiting = false;\n",
       "\n",
       "    this.ws.onopen =  function () {\n",
       "            fig.send_message(\"supports_binary\", {value: fig.supports_binary});\n",
       "            fig.send_message(\"send_image_mode\", {});\n",
       "            fig.send_message(\"refresh\", {});\n",
       "        }\n",
       "\n",
       "    this.imageObj.onload = function() {\n",
       "            if (fig.image_mode == 'full') {\n",
       "                // Full images could contain transparency (where diff images\n",
       "                // almost always do), so we need to clear the canvas so that\n",
       "                // there is no ghosting.\n",
       "                fig.context.clearRect(0, 0, fig.canvas.width, fig.canvas.height);\n",
       "            }\n",
       "            fig.context.drawImage(fig.imageObj, 0, 0);\n",
       "        };\n",
       "\n",
       "    this.imageObj.onunload = function() {\n",
       "        this.ws.close();\n",
       "    }\n",
       "\n",
       "    this.ws.onmessage = this._make_on_message_function(this);\n",
       "\n",
       "    this.ondownload = ondownload;\n",
       "}\n",
       "\n",
       "mpl.figure.prototype._init_header = function() {\n",
       "    var titlebar = $(\n",
       "        '<div class=\"ui-dialog-titlebar ui-widget-header ui-corner-all ' +\n",
       "        'ui-helper-clearfix\"/>');\n",
       "    var titletext = $(\n",
       "        '<div class=\"ui-dialog-title\" style=\"width: 100%; ' +\n",
       "        'text-align: center; padding: 3px;\"/>');\n",
       "    titlebar.append(titletext)\n",
       "    this.root.append(titlebar);\n",
       "    this.header = titletext[0];\n",
       "}\n",
       "\n",
       "\n",
       "\n",
       "mpl.figure.prototype._canvas_extra_style = function(canvas_div) {\n",
       "\n",
       "}\n",
       "\n",
       "\n",
       "mpl.figure.prototype._root_extra_style = function(canvas_div) {\n",
       "\n",
       "}\n",
       "\n",
       "mpl.figure.prototype._init_canvas = function() {\n",
       "    var fig = this;\n",
       "\n",
       "    var canvas_div = $('<div/>');\n",
       "\n",
       "    canvas_div.attr('style', 'position: relative; clear: both; outline: 0');\n",
       "\n",
       "    function canvas_keyboard_event(event) {\n",
       "        return fig.key_event(event, event['data']);\n",
       "    }\n",
       "\n",
       "    canvas_div.keydown('key_press', canvas_keyboard_event);\n",
       "    canvas_div.keyup('key_release', canvas_keyboard_event);\n",
       "    this.canvas_div = canvas_div\n",
       "    this._canvas_extra_style(canvas_div)\n",
       "    this.root.append(canvas_div);\n",
       "\n",
       "    var canvas = $('<canvas/>');\n",
       "    canvas.addClass('mpl-canvas');\n",
       "    canvas.attr('style', \"left: 0; top: 0; z-index: 0; outline: 0\")\n",
       "\n",
       "    this.canvas = canvas[0];\n",
       "    this.context = canvas[0].getContext(\"2d\");\n",
       "\n",
       "    var rubberband = $('<canvas/>');\n",
       "    rubberband.attr('style', \"position: absolute; left: 0; top: 0; z-index: 1;\")\n",
       "\n",
       "    var pass_mouse_events = true;\n",
       "\n",
       "    canvas_div.resizable({\n",
       "        start: function(event, ui) {\n",
       "            pass_mouse_events = false;\n",
       "        },\n",
       "        resize: function(event, ui) {\n",
       "            fig.request_resize(ui.size.width, ui.size.height);\n",
       "        },\n",
       "        stop: function(event, ui) {\n",
       "            pass_mouse_events = true;\n",
       "            fig.request_resize(ui.size.width, ui.size.height);\n",
       "        },\n",
       "    });\n",
       "\n",
       "    function mouse_event_fn(event) {\n",
       "        if (pass_mouse_events)\n",
       "            return fig.mouse_event(event, event['data']);\n",
       "    }\n",
       "\n",
       "    rubberband.mousedown('button_press', mouse_event_fn);\n",
       "    rubberband.mouseup('button_release', mouse_event_fn);\n",
       "    // Throttle sequential mouse events to 1 every 20ms.\n",
       "    rubberband.mousemove('motion_notify', mouse_event_fn);\n",
       "\n",
       "    rubberband.mouseenter('figure_enter', mouse_event_fn);\n",
       "    rubberband.mouseleave('figure_leave', mouse_event_fn);\n",
       "\n",
       "    canvas_div.on(\"wheel\", function (event) {\n",
       "        event = event.originalEvent;\n",
       "        event['data'] = 'scroll'\n",
       "        if (event.deltaY < 0) {\n",
       "            event.step = 1;\n",
       "        } else {\n",
       "            event.step = -1;\n",
       "        }\n",
       "        mouse_event_fn(event);\n",
       "    });\n",
       "\n",
       "    canvas_div.append(canvas);\n",
       "    canvas_div.append(rubberband);\n",
       "\n",
       "    this.rubberband = rubberband;\n",
       "    this.rubberband_canvas = rubberband[0];\n",
       "    this.rubberband_context = rubberband[0].getContext(\"2d\");\n",
       "    this.rubberband_context.strokeStyle = \"#000000\";\n",
       "\n",
       "    this._resize_canvas = function(width, height) {\n",
       "        // Keep the size of the canvas, canvas container, and rubber band\n",
       "        // canvas in synch.\n",
       "        canvas_div.css('width', width)\n",
       "        canvas_div.css('height', height)\n",
       "\n",
       "        canvas.attr('width', width);\n",
       "        canvas.attr('height', height);\n",
       "\n",
       "        rubberband.attr('width', width);\n",
       "        rubberband.attr('height', height);\n",
       "    }\n",
       "\n",
       "    // Set the figure to an initial 600x600px, this will subsequently be updated\n",
       "    // upon first draw.\n",
       "    this._resize_canvas(600, 600);\n",
       "\n",
       "    // Disable right mouse context menu.\n",
       "    $(this.rubberband_canvas).bind(\"contextmenu\",function(e){\n",
       "        return false;\n",
       "    });\n",
       "\n",
       "    function set_focus () {\n",
       "        canvas.focus();\n",
       "        canvas_div.focus();\n",
       "    }\n",
       "\n",
       "    window.setTimeout(set_focus, 100);\n",
       "}\n",
       "\n",
       "mpl.figure.prototype._init_toolbar = function() {\n",
       "    var fig = this;\n",
       "\n",
       "    var nav_element = $('<div/>')\n",
       "    nav_element.attr('style', 'width: 100%');\n",
       "    this.root.append(nav_element);\n",
       "\n",
       "    // Define a callback function for later on.\n",
       "    function toolbar_event(event) {\n",
       "        return fig.toolbar_button_onclick(event['data']);\n",
       "    }\n",
       "    function toolbar_mouse_event(event) {\n",
       "        return fig.toolbar_button_onmouseover(event['data']);\n",
       "    }\n",
       "\n",
       "    for(var toolbar_ind in mpl.toolbar_items) {\n",
       "        var name = mpl.toolbar_items[toolbar_ind][0];\n",
       "        var tooltip = mpl.toolbar_items[toolbar_ind][1];\n",
       "        var image = mpl.toolbar_items[toolbar_ind][2];\n",
       "        var method_name = mpl.toolbar_items[toolbar_ind][3];\n",
       "\n",
       "        if (!name) {\n",
       "            // put a spacer in here.\n",
       "            continue;\n",
       "        }\n",
       "        var button = $('<button/>');\n",
       "        button.addClass('ui-button ui-widget ui-state-default ui-corner-all ' +\n",
       "                        'ui-button-icon-only');\n",
       "        button.attr('role', 'button');\n",
       "        button.attr('aria-disabled', 'false');\n",
       "        button.click(method_name, toolbar_event);\n",
       "        button.mouseover(tooltip, toolbar_mouse_event);\n",
       "\n",
       "        var icon_img = $('<span/>');\n",
       "        icon_img.addClass('ui-button-icon-primary ui-icon');\n",
       "        icon_img.addClass(image);\n",
       "        icon_img.addClass('ui-corner-all');\n",
       "\n",
       "        var tooltip_span = $('<span/>');\n",
       "        tooltip_span.addClass('ui-button-text');\n",
       "        tooltip_span.html(tooltip);\n",
       "\n",
       "        button.append(icon_img);\n",
       "        button.append(tooltip_span);\n",
       "\n",
       "        nav_element.append(button);\n",
       "    }\n",
       "\n",
       "    var fmt_picker_span = $('<span/>');\n",
       "\n",
       "    var fmt_picker = $('<select/>');\n",
       "    fmt_picker.addClass('mpl-toolbar-option ui-widget ui-widget-content');\n",
       "    fmt_picker_span.append(fmt_picker);\n",
       "    nav_element.append(fmt_picker_span);\n",
       "    this.format_dropdown = fmt_picker[0];\n",
       "\n",
       "    for (var ind in mpl.extensions) {\n",
       "        var fmt = mpl.extensions[ind];\n",
       "        var option = $(\n",
       "            '<option/>', {selected: fmt === mpl.default_extension}).html(fmt);\n",
       "        fmt_picker.append(option)\n",
       "    }\n",
       "\n",
       "    // Add hover states to the ui-buttons\n",
       "    $( \".ui-button\" ).hover(\n",
       "        function() { $(this).addClass(\"ui-state-hover\");},\n",
       "        function() { $(this).removeClass(\"ui-state-hover\");}\n",
       "    );\n",
       "\n",
       "    var status_bar = $('<span class=\"mpl-message\"/>');\n",
       "    nav_element.append(status_bar);\n",
       "    this.message = status_bar[0];\n",
       "}\n",
       "\n",
       "mpl.figure.prototype.request_resize = function(x_pixels, y_pixels) {\n",
       "    // Request matplotlib to resize the figure. Matplotlib will then trigger a resize in the client,\n",
       "    // which will in turn request a refresh of the image.\n",
       "    this.send_message('resize', {'width': x_pixels, 'height': y_pixels});\n",
       "}\n",
       "\n",
       "mpl.figure.prototype.send_message = function(type, properties) {\n",
       "    properties['type'] = type;\n",
       "    properties['figure_id'] = this.id;\n",
       "    this.ws.send(JSON.stringify(properties));\n",
       "}\n",
       "\n",
       "mpl.figure.prototype.send_draw_message = function() {\n",
       "    if (!this.waiting) {\n",
       "        this.waiting = true;\n",
       "        this.ws.send(JSON.stringify({type: \"draw\", figure_id: this.id}));\n",
       "    }\n",
       "}\n",
       "\n",
       "\n",
       "mpl.figure.prototype.handle_save = function(fig, msg) {\n",
       "    var format_dropdown = fig.format_dropdown;\n",
       "    var format = format_dropdown.options[format_dropdown.selectedIndex].value;\n",
       "    fig.ondownload(fig, format);\n",
       "}\n",
       "\n",
       "\n",
       "mpl.figure.prototype.handle_resize = function(fig, msg) {\n",
       "    var size = msg['size'];\n",
       "    if (size[0] != fig.canvas.width || size[1] != fig.canvas.height) {\n",
       "        fig._resize_canvas(size[0], size[1]);\n",
       "        fig.send_message(\"refresh\", {});\n",
       "    };\n",
       "}\n",
       "\n",
       "mpl.figure.prototype.handle_rubberband = function(fig, msg) {\n",
       "    var x0 = msg['x0'];\n",
       "    var y0 = fig.canvas.height - msg['y0'];\n",
       "    var x1 = msg['x1'];\n",
       "    var y1 = fig.canvas.height - msg['y1'];\n",
       "    x0 = Math.floor(x0) + 0.5;\n",
       "    y0 = Math.floor(y0) + 0.5;\n",
       "    x1 = Math.floor(x1) + 0.5;\n",
       "    y1 = Math.floor(y1) + 0.5;\n",
       "    var min_x = Math.min(x0, x1);\n",
       "    var min_y = Math.min(y0, y1);\n",
       "    var width = Math.abs(x1 - x0);\n",
       "    var height = Math.abs(y1 - y0);\n",
       "\n",
       "    fig.rubberband_context.clearRect(\n",
       "        0, 0, fig.canvas.width, fig.canvas.height);\n",
       "\n",
       "    fig.rubberband_context.strokeRect(min_x, min_y, width, height);\n",
       "}\n",
       "\n",
       "mpl.figure.prototype.handle_figure_label = function(fig, msg) {\n",
       "    // Updates the figure title.\n",
       "    fig.header.textContent = msg['label'];\n",
       "}\n",
       "\n",
       "mpl.figure.prototype.handle_cursor = function(fig, msg) {\n",
       "    var cursor = msg['cursor'];\n",
       "    switch(cursor)\n",
       "    {\n",
       "    case 0:\n",
       "        cursor = 'pointer';\n",
       "        break;\n",
       "    case 1:\n",
       "        cursor = 'default';\n",
       "        break;\n",
       "    case 2:\n",
       "        cursor = 'crosshair';\n",
       "        break;\n",
       "    case 3:\n",
       "        cursor = 'move';\n",
       "        break;\n",
       "    }\n",
       "    fig.rubberband_canvas.style.cursor = cursor;\n",
       "}\n",
       "\n",
       "mpl.figure.prototype.handle_message = function(fig, msg) {\n",
       "    fig.message.textContent = msg['message'];\n",
       "}\n",
       "\n",
       "mpl.figure.prototype.handle_draw = function(fig, msg) {\n",
       "    // Request the server to send over a new figure.\n",
       "    fig.send_draw_message();\n",
       "}\n",
       "\n",
       "mpl.figure.prototype.handle_image_mode = function(fig, msg) {\n",
       "    fig.image_mode = msg['mode'];\n",
       "}\n",
       "\n",
       "mpl.figure.prototype.updated_canvas_event = function() {\n",
       "    // Called whenever the canvas gets updated.\n",
       "    this.send_message(\"ack\", {});\n",
       "}\n",
       "\n",
       "// A function to construct a web socket function for onmessage handling.\n",
       "// Called in the figure constructor.\n",
       "mpl.figure.prototype._make_on_message_function = function(fig) {\n",
       "    return function socket_on_message(evt) {\n",
       "        if (evt.data instanceof Blob) {\n",
       "            /* FIXME: We get \"Resource interpreted as Image but\n",
       "             * transferred with MIME type text/plain:\" errors on\n",
       "             * Chrome.  But how to set the MIME type?  It doesn't seem\n",
       "             * to be part of the websocket stream */\n",
       "            evt.data.type = \"image/png\";\n",
       "\n",
       "            /* Free the memory for the previous frames */\n",
       "            if (fig.imageObj.src) {\n",
       "                (window.URL || window.webkitURL).revokeObjectURL(\n",
       "                    fig.imageObj.src);\n",
       "            }\n",
       "\n",
       "            fig.imageObj.src = (window.URL || window.webkitURL).createObjectURL(\n",
       "                evt.data);\n",
       "            fig.updated_canvas_event();\n",
       "            fig.waiting = false;\n",
       "            return;\n",
       "        }\n",
       "        else if (typeof evt.data === 'string' && evt.data.slice(0, 21) == \"data:image/png;base64\") {\n",
       "            fig.imageObj.src = evt.data;\n",
       "            fig.updated_canvas_event();\n",
       "            fig.waiting = false;\n",
       "            return;\n",
       "        }\n",
       "\n",
       "        var msg = JSON.parse(evt.data);\n",
       "        var msg_type = msg['type'];\n",
       "\n",
       "        // Call the  \"handle_{type}\" callback, which takes\n",
       "        // the figure and JSON message as its only arguments.\n",
       "        try {\n",
       "            var callback = fig[\"handle_\" + msg_type];\n",
       "        } catch (e) {\n",
       "            console.log(\"No handler for the '\" + msg_type + \"' message type: \", msg);\n",
       "            return;\n",
       "        }\n",
       "\n",
       "        if (callback) {\n",
       "            try {\n",
       "                // console.log(\"Handling '\" + msg_type + \"' message: \", msg);\n",
       "                callback(fig, msg);\n",
       "            } catch (e) {\n",
       "                console.log(\"Exception inside the 'handler_\" + msg_type + \"' callback:\", e, e.stack, msg);\n",
       "            }\n",
       "        }\n",
       "    };\n",
       "}\n",
       "\n",
       "// from http://stackoverflow.com/questions/1114465/getting-mouse-location-in-canvas\n",
       "mpl.findpos = function(e) {\n",
       "    //this section is from http://www.quirksmode.org/js/events_properties.html\n",
       "    var targ;\n",
       "    if (!e)\n",
       "        e = window.event;\n",
       "    if (e.target)\n",
       "        targ = e.target;\n",
       "    else if (e.srcElement)\n",
       "        targ = e.srcElement;\n",
       "    if (targ.nodeType == 3) // defeat Safari bug\n",
       "        targ = targ.parentNode;\n",
       "\n",
       "    // jQuery normalizes the pageX and pageY\n",
       "    // pageX,Y are the mouse positions relative to the document\n",
       "    // offset() returns the position of the element relative to the document\n",
       "    var x = e.pageX - $(targ).offset().left;\n",
       "    var y = e.pageY - $(targ).offset().top;\n",
       "\n",
       "    return {\"x\": x, \"y\": y};\n",
       "};\n",
       "\n",
       "/*\n",
       " * return a copy of an object with only non-object keys\n",
       " * we need this to avoid circular references\n",
       " * http://stackoverflow.com/a/24161582/3208463\n",
       " */\n",
       "function simpleKeys (original) {\n",
       "  return Object.keys(original).reduce(function (obj, key) {\n",
       "    if (typeof original[key] !== 'object')\n",
       "        obj[key] = original[key]\n",
       "    return obj;\n",
       "  }, {});\n",
       "}\n",
       "\n",
       "mpl.figure.prototype.mouse_event = function(event, name) {\n",
       "    var canvas_pos = mpl.findpos(event)\n",
       "\n",
       "    if (name === 'button_press')\n",
       "    {\n",
       "        this.canvas.focus();\n",
       "        this.canvas_div.focus();\n",
       "    }\n",
       "\n",
       "    var x = canvas_pos.x;\n",
       "    var y = canvas_pos.y;\n",
       "\n",
       "    this.send_message(name, {x: x, y: y, button: event.button,\n",
       "                             step: event.step,\n",
       "                             guiEvent: simpleKeys(event)});\n",
       "\n",
       "    /* This prevents the web browser from automatically changing to\n",
       "     * the text insertion cursor when the button is pressed.  We want\n",
       "     * to control all of the cursor setting manually through the\n",
       "     * 'cursor' event from matplotlib */\n",
       "    event.preventDefault();\n",
       "    return false;\n",
       "}\n",
       "\n",
       "mpl.figure.prototype._key_event_extra = function(event, name) {\n",
       "    // Handle any extra behaviour associated with a key event\n",
       "}\n",
       "\n",
       "mpl.figure.prototype.key_event = function(event, name) {\n",
       "\n",
       "    // Prevent repeat events\n",
       "    if (name == 'key_press')\n",
       "    {\n",
       "        if (event.which === this._key)\n",
       "            return;\n",
       "        else\n",
       "            this._key = event.which;\n",
       "    }\n",
       "    if (name == 'key_release')\n",
       "        this._key = null;\n",
       "\n",
       "    var value = '';\n",
       "    if (event.ctrlKey && event.which != 17)\n",
       "        value += \"ctrl+\";\n",
       "    if (event.altKey && event.which != 18)\n",
       "        value += \"alt+\";\n",
       "    if (event.shiftKey && event.which != 16)\n",
       "        value += \"shift+\";\n",
       "\n",
       "    value += 'k';\n",
       "    value += event.which.toString();\n",
       "\n",
       "    this._key_event_extra(event, name);\n",
       "\n",
       "    this.send_message(name, {key: value,\n",
       "                             guiEvent: simpleKeys(event)});\n",
       "    return false;\n",
       "}\n",
       "\n",
       "mpl.figure.prototype.toolbar_button_onclick = function(name) {\n",
       "    if (name == 'download') {\n",
       "        this.handle_save(this, null);\n",
       "    } else {\n",
       "        this.send_message(\"toolbar_button\", {name: name});\n",
       "    }\n",
       "};\n",
       "\n",
       "mpl.figure.prototype.toolbar_button_onmouseover = function(tooltip) {\n",
       "    this.message.textContent = tooltip;\n",
       "};\n",
       "mpl.toolbar_items = [[\"Home\", \"Reset original view\", \"fa fa-home icon-home\", \"home\"], [\"Back\", \"Back to  previous view\", \"fa fa-arrow-left icon-arrow-left\", \"back\"], [\"Forward\", \"Forward to next view\", \"fa fa-arrow-right icon-arrow-right\", \"forward\"], [\"\", \"\", \"\", \"\"], [\"Pan\", \"Pan axes with left mouse, zoom with right\", \"fa fa-arrows icon-move\", \"pan\"], [\"Zoom\", \"Zoom to rectangle\", \"fa fa-square-o icon-check-empty\", \"zoom\"], [\"\", \"\", \"\", \"\"], [\"Download\", \"Download plot\", \"fa fa-floppy-o icon-save\", \"download\"]];\n",
       "\n",
       "mpl.extensions = [\"eps\", \"jpeg\", \"pdf\", \"png\", \"ps\", \"raw\", \"svg\", \"tif\"];\n",
       "\n",
       "mpl.default_extension = \"png\";var comm_websocket_adapter = function(comm) {\n",
       "    // Create a \"websocket\"-like object which calls the given IPython comm\n",
       "    // object with the appropriate methods. Currently this is a non binary\n",
       "    // socket, so there is still some room for performance tuning.\n",
       "    var ws = {};\n",
       "\n",
       "    ws.close = function() {\n",
       "        comm.close()\n",
       "    };\n",
       "    ws.send = function(m) {\n",
       "        //console.log('sending', m);\n",
       "        comm.send(m);\n",
       "    };\n",
       "    // Register the callback with on_msg.\n",
       "    comm.on_msg(function(msg) {\n",
       "        //console.log('receiving', msg['content']['data'], msg);\n",
       "        // Pass the mpl event to the overriden (by mpl) onmessage function.\n",
       "        ws.onmessage(msg['content']['data'])\n",
       "    });\n",
       "    return ws;\n",
       "}\n",
       "\n",
       "mpl.mpl_figure_comm = function(comm, msg) {\n",
       "    // This is the function which gets called when the mpl process\n",
       "    // starts-up an IPython Comm through the \"matplotlib\" channel.\n",
       "\n",
       "    var id = msg.content.data.id;\n",
       "    // Get hold of the div created by the display call when the Comm\n",
       "    // socket was opened in Python.\n",
       "    var element = $(\"#\" + id);\n",
       "    var ws_proxy = comm_websocket_adapter(comm)\n",
       "\n",
       "    function ondownload(figure, format) {\n",
       "        window.open(figure.imageObj.src);\n",
       "    }\n",
       "\n",
       "    var fig = new mpl.figure(id, ws_proxy,\n",
       "                           ondownload,\n",
       "                           element.get(0));\n",
       "\n",
       "    // Call onopen now - mpl needs it, as it is assuming we've passed it a real\n",
       "    // web socket which is closed, not our websocket->open comm proxy.\n",
       "    ws_proxy.onopen();\n",
       "\n",
       "    fig.parent_element = element.get(0);\n",
       "    fig.cell_info = mpl.find_output_cell(\"<div id='\" + id + \"'></div>\");\n",
       "    if (!fig.cell_info) {\n",
       "        console.error(\"Failed to find cell for figure\", id, fig);\n",
       "        return;\n",
       "    }\n",
       "\n",
       "    var output_index = fig.cell_info[2]\n",
       "    var cell = fig.cell_info[0];\n",
       "\n",
       "};\n",
       "\n",
       "mpl.figure.prototype.handle_close = function(fig, msg) {\n",
       "    fig.root.unbind('remove')\n",
       "\n",
       "    // Update the output cell to use the data from the current canvas.\n",
       "    fig.push_to_output();\n",
       "    var dataURL = fig.canvas.toDataURL();\n",
       "    // Re-enable the keyboard manager in IPython - without this line, in FF,\n",
       "    // the notebook keyboard shortcuts fail.\n",
       "    IPython.keyboard_manager.enable()\n",
       "    $(fig.parent_element).html('<img src=\"' + dataURL + '\">');\n",
       "    fig.close_ws(fig, msg);\n",
       "}\n",
       "\n",
       "mpl.figure.prototype.close_ws = function(fig, msg){\n",
       "    fig.send_message('closing', msg);\n",
       "    // fig.ws.close()\n",
       "}\n",
       "\n",
       "mpl.figure.prototype.push_to_output = function(remove_interactive) {\n",
       "    // Turn the data on the canvas into data in the output cell.\n",
       "    var dataURL = this.canvas.toDataURL();\n",
       "    this.cell_info[1]['text/html'] = '<img src=\"' + dataURL + '\">';\n",
       "}\n",
       "\n",
       "mpl.figure.prototype.updated_canvas_event = function() {\n",
       "    // Tell IPython that the notebook contents must change.\n",
       "    IPython.notebook.set_dirty(true);\n",
       "    this.send_message(\"ack\", {});\n",
       "    var fig = this;\n",
       "    // Wait a second, then push the new image to the DOM so\n",
       "    // that it is saved nicely (might be nice to debounce this).\n",
       "    setTimeout(function () { fig.push_to_output() }, 1000);\n",
       "}\n",
       "\n",
       "mpl.figure.prototype._init_toolbar = function() {\n",
       "    var fig = this;\n",
       "\n",
       "    var nav_element = $('<div/>')\n",
       "    nav_element.attr('style', 'width: 100%');\n",
       "    this.root.append(nav_element);\n",
       "\n",
       "    // Define a callback function for later on.\n",
       "    function toolbar_event(event) {\n",
       "        return fig.toolbar_button_onclick(event['data']);\n",
       "    }\n",
       "    function toolbar_mouse_event(event) {\n",
       "        return fig.toolbar_button_onmouseover(event['data']);\n",
       "    }\n",
       "\n",
       "    for(var toolbar_ind in mpl.toolbar_items){\n",
       "        var name = mpl.toolbar_items[toolbar_ind][0];\n",
       "        var tooltip = mpl.toolbar_items[toolbar_ind][1];\n",
       "        var image = mpl.toolbar_items[toolbar_ind][2];\n",
       "        var method_name = mpl.toolbar_items[toolbar_ind][3];\n",
       "\n",
       "        if (!name) { continue; };\n",
       "\n",
       "        var button = $('<button class=\"btn btn-default\" href=\"#\" title=\"' + name + '\"><i class=\"fa ' + image + ' fa-lg\"></i></button>');\n",
       "        button.click(method_name, toolbar_event);\n",
       "        button.mouseover(tooltip, toolbar_mouse_event);\n",
       "        nav_element.append(button);\n",
       "    }\n",
       "\n",
       "    // Add the status bar.\n",
       "    var status_bar = $('<span class=\"mpl-message\" style=\"text-align:right; float: right;\"/>');\n",
       "    nav_element.append(status_bar);\n",
       "    this.message = status_bar[0];\n",
       "\n",
       "    // Add the close button to the window.\n",
       "    var buttongrp = $('<div class=\"btn-group inline pull-right\"></div>');\n",
       "    var button = $('<button class=\"btn btn-mini btn-primary\" href=\"#\" title=\"Stop Interaction\"><i class=\"fa fa-power-off icon-remove icon-large\"></i></button>');\n",
       "    button.click(function (evt) { fig.handle_close(fig, {}); } );\n",
       "    button.mouseover('Stop Interaction', toolbar_mouse_event);\n",
       "    buttongrp.append(button);\n",
       "    var titlebar = this.root.find($('.ui-dialog-titlebar'));\n",
       "    titlebar.prepend(buttongrp);\n",
       "}\n",
       "\n",
       "mpl.figure.prototype._root_extra_style = function(el){\n",
       "    var fig = this\n",
       "    el.on(\"remove\", function(){\n",
       "\tfig.close_ws(fig, {});\n",
       "    });\n",
       "}\n",
       "\n",
       "mpl.figure.prototype._canvas_extra_style = function(el){\n",
       "    // this is important to make the div 'focusable\n",
       "    el.attr('tabindex', 0)\n",
       "    // reach out to IPython and tell the keyboard manager to turn it's self\n",
       "    // off when our div gets focus\n",
       "\n",
       "    // location in version 3\n",
       "    if (IPython.notebook.keyboard_manager) {\n",
       "        IPython.notebook.keyboard_manager.register_events(el);\n",
       "    }\n",
       "    else {\n",
       "        // location in version 2\n",
       "        IPython.keyboard_manager.register_events(el);\n",
       "    }\n",
       "\n",
       "}\n",
       "\n",
       "mpl.figure.prototype._key_event_extra = function(event, name) {\n",
       "    var manager = IPython.notebook.keyboard_manager;\n",
       "    if (!manager)\n",
       "        manager = IPython.keyboard_manager;\n",
       "\n",
       "    // Check for shift+enter\n",
       "    if (event.shiftKey && event.which == 13) {\n",
       "        this.canvas_div.blur();\n",
       "        // select the cell after this one\n",
       "        var index = IPython.notebook.find_cell_index(this.cell_info[0]);\n",
       "        IPython.notebook.select(index + 1);\n",
       "    }\n",
       "}\n",
       "\n",
       "mpl.figure.prototype.handle_save = function(fig, msg) {\n",
       "    fig.ondownload(fig, null);\n",
       "}\n",
       "\n",
       "\n",
       "mpl.find_output_cell = function(html_output) {\n",
       "    // Return the cell and output element which can be found *uniquely* in the notebook.\n",
       "    // Note - this is a bit hacky, but it is done because the \"notebook_saving.Notebook\"\n",
       "    // IPython event is triggered only after the cells have been serialised, which for\n",
       "    // our purposes (turning an active figure into a static one), is too late.\n",
       "    var cells = IPython.notebook.get_cells();\n",
       "    var ncells = cells.length;\n",
       "    for (var i=0; i<ncells; i++) {\n",
       "        var cell = cells[i];\n",
       "        if (cell.cell_type === 'code'){\n",
       "            for (var j=0; j<cell.output_area.outputs.length; j++) {\n",
       "                var data = cell.output_area.outputs[j];\n",
       "                if (data.data) {\n",
       "                    // IPython >= 3 moved mimebundle to data attribute of output\n",
       "                    data = data.data;\n",
       "                }\n",
       "                if (data['text/html'] == html_output) {\n",
       "                    return [cell, data, j];\n",
       "                }\n",
       "            }\n",
       "        }\n",
       "    }\n",
       "}\n",
       "\n",
       "// Register the function which deals with the matplotlib target/channel.\n",
       "// The kernel may be null if the page has been refreshed.\n",
       "if (IPython.notebook.kernel != null) {\n",
       "    IPython.notebook.kernel.comm_manager.register_target('matplotlib', mpl.mpl_figure_comm);\n",
       "}\n"
      ],
      "text/plain": [
       "<IPython.core.display.Javascript object>"
      ]
     },
     "metadata": {},
     "output_type": "display_data"
    },
    {
     "data": {
      "text/html": [
       "<img src=\"data:image/png;base64,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\">"
      ],
      "text/plain": [
       "<IPython.core.display.HTML object>"
      ]
     },
     "metadata": {},
     "output_type": "display_data"
    }
   ],
   "source": [
    "from mpl_toolkits.mplot3d import Axes3D\n",
    "import matplotlib.pyplot as plt\n",
    "\n",
    "\n",
    "fig = plt.figure(figsize=(10,5)).gca(projection='3d')\n",
    "#ax = fig.add_subplot(111, projection='3d')\n",
    "x =df1['imdb_score']\n",
    "y =df1['budget']\n",
    "z =df1['gross']\n",
    "\n",
    "\n",
    "\n",
    "fig.scatter(x, y, z)\n",
    "\n",
    "fig.set_xlabel('imdb score')\n",
    "fig.set_ylabel('Budget')\n",
    "fig.set_zlabel('Gross')\n",
    "\n",
    "plt.show()"
   ]
  },
  {
   "cell_type": "markdown",
   "metadata": {},
   "source": [
    "## The above plot clearly indicates that imdb and gross(revenue) are directly related. With increase in gross the IMDb increases"
   ]
  },
  {
   "cell_type": "code",
   "execution_count": 33,
   "metadata": {
    "collapsed": true
   },
   "outputs": [],
   "source": [
    "%matplotlib inline"
   ]
  },
  {
   "cell_type": "markdown",
   "metadata": {},
   "source": [
    "## 1.6 Q. Is budget directly related to profit? "
   ]
  },
  {
   "cell_type": "code",
   "execution_count": 34,
   "metadata": {
    "collapsed": false
   },
   "outputs": [],
   "source": [
    "df2 = df[np.isfinite(df['budget'])]"
   ]
  },
  {
   "cell_type": "code",
   "execution_count": 35,
   "metadata": {
    "collapsed": true
   },
   "outputs": [],
   "source": [
    "df2=df2[np.isfinite(df2['gross'])]"
   ]
  },
  {
   "cell_type": "code",
   "execution_count": 36,
   "metadata": {
    "collapsed": true
   },
   "outputs": [],
   "source": [
    "df2['net']= df2['gross']-df2['budget']\n",
    "#df_2006['Net']= df_2006['gross']-df_2006['budget']\n",
    "df2['net_percentage']= df2['net']/df2['budget']\n",
    "df2['net_percentage']= df2['net_percentage']*100"
   ]
  },
  {
   "cell_type": "code",
   "execution_count": 37,
   "metadata": {
    "collapsed": false
   },
   "outputs": [],
   "source": [
    "# df2.head()"
   ]
  },
  {
   "cell_type": "code",
   "execution_count": 38,
   "metadata": {
    "collapsed": true
   },
   "outputs": [],
   "source": [
    "%matplotlib inline"
   ]
  },
  {
   "cell_type": "code",
   "execution_count": 39,
   "metadata": {
    "collapsed": false
   },
   "outputs": [
    {
     "data": {
      "text/plain": [
       "<matplotlib.axes._subplots.AxesSubplot at 0x2990b852cf8>"
      ]
     },
     "execution_count": 39,
     "metadata": {},
     "output_type": "execute_result"
    },
    {
     "data": {
      "image/png": "[encoded data removed]",
      "text/plain": [
       "<matplotlib.figure.Figure at 0x2990b873c50>"
      ]
     },
     "metadata": {},
     "output_type": "display_data"
    }
   ],
   "source": [
    "df2.plot(x='budget',y='net',kind='scatter', xlim=(0000000000,500000000), ylim=(-200000000,700000000))"
   ]
  },
  {
   "cell_type": "code",
   "execution_count": 41,
   "metadata": {
    "collapsed": false
   },
   "outputs": [
    {
     "data": {
      "text/html": [
       "<div>\n",
       "<table border=\"1\" class=\"dataframe\">\n",
       "  <thead>\n",
       "    <tr style=\"text-align: right;\">\n",
       "      <th></th>\n",
       "      <th>net</th>\n",
       "      <th>budget</th>\n",
       "    </tr>\n",
       "  </thead>\n",
       "  <tbody>\n",
       "    <tr>\n",
       "      <th>net</th>\n",
       "      <td>1.000000</td>\n",
       "      <td>-0.951709</td>\n",
       "    </tr>\n",
       "    <tr>\n",
       "      <th>budget</th>\n",
       "      <td>-0.951709</td>\n",
       "      <td>1.000000</td>\n",
       "    </tr>\n",
       "  </tbody>\n",
       "</table>\n",
       "</div>"
      ],
      "text/plain": [
       "             net    budget\n",
       "net     1.000000 -0.951709\n",
       "budget -0.951709  1.000000"
      ]
     },
     "execution_count": 41,
     "metadata": {},
     "output_type": "execute_result"
    }
   ],
   "source": [
    "df_budget_net=( df2[['net','budget']].corr())\n",
    "df_budget_net"
   ]
  },
  {
   "cell_type": "markdown",
   "metadata": {},
   "source": [
    "###  CONCLUSION\n",
    "### 1. FROM the above graph you can clearly see that's not the case. YES, there are instances when net profit has reached    highest point for few high budget movies. But, the general trend shows that it mostly decreases with increase in budget\n",
    "###  2. Even the Coorelation proves that net and budget are nit directly related  \n"
   ]
  },
  {
   "cell_type": "markdown",
   "metadata": {},
   "source": [
    "## 1.7  WITH WHICH FACTOS IS PROFIT ACTUALLY RELATED IN THE DATASET?"
   ]
  },
  {
   "cell_type": "code",
   "execution_count": 87,
   "metadata": {
    "collapsed": true
   },
   "outputs": [],
   "source": [
    "corr = df2.corr()"
   ]
  },
  {
   "cell_type": "code",
   "execution_count": 54,
   "metadata": {
    "collapsed": false
   },
   "outputs": [
    {
     "data": {
      "text/html": [
       "<div>\n",
       "<table border=\"1\" class=\"dataframe\">\n",
       "  <thead>\n",
       "    <tr style=\"text-align: right;\">\n",
       "      <th></th>\n",
       "      <th>num_critic_for_reviews</th>\n",
       "      <th>duration</th>\n",
       "      <th>director_facebook_likes</th>\n",
       "      <th>actor_3_facebook_likes</th>\n",
       "      <th>actor_1_facebook_likes</th>\n",
       "      <th>gross</th>\n",
       "      <th>num_voted_users</th>\n",
       "      <th>cast_total_facebook_likes</th>\n",
       "      <th>facenumber_in_poster</th>\n",
       "      <th>num_user_for_reviews</th>\n",
       "      <th>budget</th>\n",
       "      <th>title_year</th>\n",
       "      <th>actor_2_facebook_likes</th>\n",
       "      <th>imdb_score</th>\n",
       "      <th>aspect_ratio</th>\n",
       "      <th>movie_facebook_likes</th>\n",
       "      <th>net</th>\n",
       "      <th>net_percentage</th>\n",
       "    </tr>\n",
       "  </thead>\n",
       "  <tbody>\n",
       "    <tr>\n",
       "      <th>num_critic_for_reviews</th>\n",
       "      <td>1.000000</td>\n",
       "      <td>0.239282</td>\n",
       "      <td>0.179252</td>\n",
       "      <td>0.256934</td>\n",
       "      <td>0.172216</td>\n",
       "      <td>0.477022</td>\n",
       "      <td>0.600473</td>\n",
       "      <td>0.243990</td>\n",
       "      <td>-0.033828</td>\n",
       "      <td>0.573610</td>\n",
       "      <td>0.107666</td>\n",
       "      <td>0.392422</td>\n",
       "      <td>0.258969</td>\n",
       "      <td>0.340219</td>\n",
       "      <td>0.181808</td>\n",
       "      <td>0.703414</td>\n",
       "      <td>0.041345</td>\n",
       "      <td>0.033150</td>\n",
       "    </tr>\n",
       "    <tr>\n",
       "      <th>duration</th>\n",
       "      <td>0.239282</td>\n",
       "      <td>1.000000</td>\n",
       "      <td>0.180797</td>\n",
       "      <td>0.127678</td>\n",
       "      <td>0.087185</td>\n",
       "      <td>0.252781</td>\n",
       "      <td>0.344151</td>\n",
       "      <td>0.124478</td>\n",
       "      <td>0.032307</td>\n",
       "      <td>0.356218</td>\n",
       "      <td>0.069574</td>\n",
       "      <td>-0.128198</td>\n",
       "      <td>0.131826</td>\n",
       "      <td>0.358253</td>\n",
       "      <td>0.154932</td>\n",
       "      <td>0.221718</td>\n",
       "      <td>0.009599</td>\n",
       "      <td>-0.032498</td>\n",
       "    </tr>\n",
       "    <tr>\n",
       "      <th>director_facebook_likes</th>\n",
       "      <td>0.179252</td>\n",
       "      <td>0.180797</td>\n",
       "      <td>1.000000</td>\n",
       "      <td>0.119413</td>\n",
       "      <td>0.091590</td>\n",
       "      <td>0.142158</td>\n",
       "      <td>0.301847</td>\n",
       "      <td>0.121031</td>\n",
       "      <td>-0.047202</td>\n",
       "      <td>0.220459</td>\n",
       "      <td>0.019235</td>\n",
       "      <td>-0.045781</td>\n",
       "      <td>0.118357</td>\n",
       "      <td>0.189293</td>\n",
       "      <td>0.038173</td>\n",
       "      <td>0.162555</td>\n",
       "      <td>0.024960</td>\n",
       "      <td>-0.006292</td>\n",
       "    </tr>\n",
       "    <tr>\n",
       "      <th>actor_3_facebook_likes</th>\n",
       "      <td>0.256934</td>\n",
       "      <td>0.127678</td>\n",
       "      <td>0.119413</td>\n",
       "      <td>1.000000</td>\n",
       "      <td>0.253884</td>\n",
       "      <td>0.303080</td>\n",
       "      <td>0.271188</td>\n",
       "      <td>0.490246</td>\n",
       "      <td>0.104290</td>\n",
       "      <td>0.209776</td>\n",
       "      <td>0.041219</td>\n",
       "      <td>0.112255</td>\n",
       "      <td>0.554580</td>\n",
       "      <td>0.064991</td>\n",
       "      <td>0.047161</td>\n",
       "      <td>0.271943</td>\n",
       "      <td>0.052960</td>\n",
       "      <td>-0.012182</td>\n",
       "    </tr>\n",
       "    <tr>\n",
       "      <th>actor_1_facebook_likes</th>\n",
       "      <td>0.172216</td>\n",
       "      <td>0.087185</td>\n",
       "      <td>0.091590</td>\n",
       "      <td>0.253884</td>\n",
       "      <td>1.000000</td>\n",
       "      <td>0.148880</td>\n",
       "      <td>0.183599</td>\n",
       "      <td>0.945227</td>\n",
       "      <td>0.064623</td>\n",
       "      <td>0.127462</td>\n",
       "      <td>0.017544</td>\n",
       "      <td>0.091297</td>\n",
       "      <td>0.392058</td>\n",
       "      <td>0.091960</td>\n",
       "      <td>0.058401</td>\n",
       "      <td>0.131591</td>\n",
       "      <td>0.028688</td>\n",
       "      <td>-0.015639</td>\n",
       "    </tr>\n",
       "    <tr>\n",
       "      <th>gross</th>\n",
       "      <td>0.477022</td>\n",
       "      <td>0.252781</td>\n",
       "      <td>0.142158</td>\n",
       "      <td>0.303080</td>\n",
       "      <td>0.148880</td>\n",
       "      <td>1.000000</td>\n",
       "      <td>0.631404</td>\n",
       "      <td>0.240982</td>\n",
       "      <td>-0.030618</td>\n",
       "      <td>0.552499</td>\n",
       "      <td>0.102179</td>\n",
       "      <td>0.046575</td>\n",
       "      <td>0.256579</td>\n",
       "      <td>0.211525</td>\n",
       "      <td>0.066456</td>\n",
       "      <td>0.375455</td>\n",
       "      <td>0.208148</td>\n",
       "      <td>0.018516</td>\n",
       "    </tr>\n",
       "    <tr>\n",
       "      <th>num_voted_users</th>\n",
       "      <td>0.600473</td>\n",
       "      <td>0.344151</td>\n",
       "      <td>0.301847</td>\n",
       "      <td>0.271188</td>\n",
       "      <td>0.183599</td>\n",
       "      <td>0.631404</td>\n",
       "      <td>1.000000</td>\n",
       "      <td>0.254050</td>\n",
       "      <td>-0.031936</td>\n",
       "      <td>0.782493</td>\n",
       "      <td>0.068834</td>\n",
       "      <td>0.016773</td>\n",
       "      <td>0.248970</td>\n",
       "      <td>0.473209</td>\n",
       "      <td>0.086580</td>\n",
       "      <td>0.522649</td>\n",
       "      <td>0.127181</td>\n",
       "      <td>0.010566</td>\n",
       "    </tr>\n",
       "    <tr>\n",
       "      <th>cast_total_facebook_likes</th>\n",
       "      <td>0.243990</td>\n",
       "      <td>0.124478</td>\n",
       "      <td>0.121031</td>\n",
       "      <td>0.490246</td>\n",
       "      <td>0.945227</td>\n",
       "      <td>0.240982</td>\n",
       "      <td>0.254050</td>\n",
       "      <td>1.000000</td>\n",
       "      <td>0.086973</td>\n",
       "      <td>0.185527</td>\n",
       "      <td>0.030189</td>\n",
       "      <td>0.120310</td>\n",
       "      <td>0.642958</td>\n",
       "      <td>0.104546</td>\n",
       "      <td>0.070671</td>\n",
       "      <td>0.206783</td>\n",
       "      <td>0.044688</td>\n",
       "      <td>-0.018608</td>\n",
       "    </tr>\n",
       "    <tr>\n",
       "      <th>facenumber_in_poster</th>\n",
       "      <td>-0.033828</td>\n",
       "      <td>0.032307</td>\n",
       "      <td>-0.047202</td>\n",
       "      <td>0.104290</td>\n",
       "      <td>0.064623</td>\n",
       "      <td>-0.030618</td>\n",
       "      <td>-0.031936</td>\n",
       "      <td>0.086973</td>\n",
       "      <td>1.000000</td>\n",
       "      <td>-0.078663</td>\n",
       "      <td>-0.021967</td>\n",
       "      <td>0.070279</td>\n",
       "      <td>0.072989</td>\n",
       "      <td>-0.067941</td>\n",
       "      <td>0.017088</td>\n",
       "      <td>0.015792</td>\n",
       "      <td>0.012166</td>\n",
       "      <td>-0.013509</td>\n",
       "    </tr>\n",
       "    <tr>\n",
       "      <th>num_user_for_reviews</th>\n",
       "      <td>0.573610</td>\n",
       "      <td>0.356218</td>\n",
       "      <td>0.220459</td>\n",
       "      <td>0.209776</td>\n",
       "      <td>0.127462</td>\n",
       "      <td>0.552499</td>\n",
       "      <td>0.782493</td>\n",
       "      <td>0.185527</td>\n",
       "      <td>-0.078663</td>\n",
       "      <td>1.000000</td>\n",
       "      <td>0.073352</td>\n",
       "      <td>0.011868</td>\n",
       "      <td>0.192746</td>\n",
       "      <td>0.320005</td>\n",
       "      <td>0.099637</td>\n",
       "      <td>0.376885</td>\n",
       "      <td>0.098387</td>\n",
       "      <td>0.068651</td>\n",
       "    </tr>\n",
       "    <tr>\n",
       "      <th>budget</th>\n",
       "      <td>0.107666</td>\n",
       "      <td>0.069574</td>\n",
       "      <td>0.019235</td>\n",
       "      <td>0.041219</td>\n",
       "      <td>0.017544</td>\n",
       "      <td>0.102179</td>\n",
       "      <td>0.068834</td>\n",
       "      <td>0.030189</td>\n",
       "      <td>-0.021967</td>\n",
       "      <td>0.073352</td>\n",
       "      <td>1.000000</td>\n",
       "      <td>0.044990</td>\n",
       "      <td>0.036937</td>\n",
       "      <td>0.029135</td>\n",
       "      <td>0.026114</td>\n",
       "      <td>0.054696</td>\n",
       "      <td>-0.951709</td>\n",
       "      <td>-0.008039</td>\n",
       "    </tr>\n",
       "    <tr>\n",
       "      <th>title_year</th>\n",
       "      <td>0.392422</td>\n",
       "      <td>-0.128198</td>\n",
       "      <td>-0.045781</td>\n",
       "      <td>0.112255</td>\n",
       "      <td>0.091297</td>\n",
       "      <td>0.046575</td>\n",
       "      <td>0.016773</td>\n",
       "      <td>0.120310</td>\n",
       "      <td>0.070279</td>\n",
       "      <td>0.011868</td>\n",
       "      <td>0.044990</td>\n",
       "      <td>1.000000</td>\n",
       "      <td>0.115970</td>\n",
       "      <td>-0.130236</td>\n",
       "      <td>0.223212</td>\n",
       "      <td>0.295541</td>\n",
       "      <td>-0.029862</td>\n",
       "      <td>-0.017054</td>\n",
       "    </tr>\n",
       "    <tr>\n",
       "      <th>actor_2_facebook_likes</th>\n",
       "      <td>0.258969</td>\n",
       "      <td>0.131826</td>\n",
       "      <td>0.118357</td>\n",
       "      <td>0.554580</td>\n",
       "      <td>0.392058</td>\n",
       "      <td>0.256579</td>\n",
       "      <td>0.248970</td>\n",
       "      <td>0.642958</td>\n",
       "      <td>0.072989</td>\n",
       "      <td>0.192746</td>\n",
       "      <td>0.036937</td>\n",
       "      <td>0.115970</td>\n",
       "      <td>1.000000</td>\n",
       "      <td>0.101829</td>\n",
       "      <td>0.064593</td>\n",
       "      <td>0.233031</td>\n",
       "      <td>0.042841</td>\n",
       "      <td>-0.013788</td>\n",
       "    </tr>\n",
       "    <tr>\n",
       "      <th>imdb_score</th>\n",
       "      <td>0.340219</td>\n",
       "      <td>0.358253</td>\n",
       "      <td>0.189293</td>\n",
       "      <td>0.064991</td>\n",
       "      <td>0.091960</td>\n",
       "      <td>0.211525</td>\n",
       "      <td>0.473209</td>\n",
       "      <td>0.104546</td>\n",
       "      <td>-0.067941</td>\n",
       "      <td>0.320005</td>\n",
       "      <td>0.029135</td>\n",
       "      <td>-0.130236</td>\n",
       "      <td>0.101829</td>\n",
       "      <td>1.000000</td>\n",
       "      <td>0.027046</td>\n",
       "      <td>0.277349</td>\n",
       "      <td>0.036634</td>\n",
       "      <td>0.010300</td>\n",
       "    </tr>\n",
       "    <tr>\n",
       "      <th>aspect_ratio</th>\n",
       "      <td>0.181808</td>\n",
       "      <td>0.154932</td>\n",
       "      <td>0.038173</td>\n",
       "      <td>0.047161</td>\n",
       "      <td>0.058401</td>\n",
       "      <td>0.066456</td>\n",
       "      <td>0.086580</td>\n",
       "      <td>0.070671</td>\n",
       "      <td>0.017088</td>\n",
       "      <td>0.099637</td>\n",
       "      <td>0.026114</td>\n",
       "      <td>0.223212</td>\n",
       "      <td>0.064593</td>\n",
       "      <td>0.027046</td>\n",
       "      <td>1.000000</td>\n",
       "      <td>0.111375</td>\n",
       "      <td>-0.005242</td>\n",
       "      <td>-0.041672</td>\n",
       "    </tr>\n",
       "    <tr>\n",
       "      <th>movie_facebook_likes</th>\n",
       "      <td>0.703414</td>\n",
       "      <td>0.221718</td>\n",
       "      <td>0.162555</td>\n",
       "      <td>0.271943</td>\n",
       "      <td>0.131591</td>\n",
       "      <td>0.375455</td>\n",
       "      <td>0.522649</td>\n",
       "      <td>0.206783</td>\n",
       "      <td>0.015792</td>\n",
       "      <td>0.376885</td>\n",
       "      <td>0.054696</td>\n",
       "      <td>0.295541</td>\n",
       "      <td>0.233031</td>\n",
       "      <td>0.277349</td>\n",
       "      <td>0.111375</td>\n",
       "      <td>1.000000</td>\n",
       "      <td>0.062092</td>\n",
       "      <td>-0.002832</td>\n",
       "    </tr>\n",
       "    <tr>\n",
       "      <th>net</th>\n",
       "      <td>0.041345</td>\n",
       "      <td>0.009599</td>\n",
       "      <td>0.024960</td>\n",
       "      <td>0.052960</td>\n",
       "      <td>0.028688</td>\n",
       "      <td>0.208148</td>\n",
       "      <td>0.127181</td>\n",
       "      <td>0.044688</td>\n",
       "      <td>0.012166</td>\n",
       "      <td>0.098387</td>\n",
       "      <td>-0.951709</td>\n",
       "      <td>-0.029862</td>\n",
       "      <td>0.042841</td>\n",
       "      <td>0.036634</td>\n",
       "      <td>-0.005242</td>\n",
       "      <td>0.062092</td>\n",
       "      <td>1.000000</td>\n",
       "      <td>0.013619</td>\n",
       "    </tr>\n",
       "    <tr>\n",
       "      <th>net_percentage</th>\n",
       "      <td>0.033150</td>\n",
       "      <td>-0.032498</td>\n",
       "      <td>-0.006292</td>\n",
       "      <td>-0.012182</td>\n",
       "      <td>-0.015639</td>\n",
       "      <td>0.018516</td>\n",
       "      <td>0.010566</td>\n",
       "      <td>-0.018608</td>\n",
       "      <td>-0.013509</td>\n",
       "      <td>0.068651</td>\n",
       "      <td>-0.008039</td>\n",
       "      <td>-0.017054</td>\n",
       "      <td>-0.013788</td>\n",
       "      <td>0.010300</td>\n",
       "      <td>-0.041672</td>\n",
       "      <td>-0.002832</td>\n",
       "      <td>0.013619</td>\n",
       "      <td>1.000000</td>\n",
       "    </tr>\n",
       "  </tbody>\n",
       "</table>\n",
       "</div>"
      ],
      "text/plain": [
       "                           num_critic_for_reviews  duration  \\\n",
       "num_critic_for_reviews                   1.000000  0.239282   \n",
       "duration                                 0.239282  1.000000   \n",
       "director_facebook_likes                  0.179252  0.180797   \n",
       "actor_3_facebook_likes                   0.256934  0.127678   \n",
       "actor_1_facebook_likes                   0.172216  0.087185   \n",
       "gross                                    0.477022  0.252781   \n",
       "num_voted_users                          0.600473  0.344151   \n",
       "cast_total_facebook_likes                0.243990  0.124478   \n",
       "facenumber_in_poster                    -0.033828  0.032307   \n",
       "num_user_for_reviews                     0.573610  0.356218   \n",
       "budget                                   0.107666  0.069574   \n",
       "title_year                               0.392422 -0.128198   \n",
       "actor_2_facebook_likes                   0.258969  0.131826   \n",
       "imdb_score                               0.340219  0.358253   \n",
       "aspect_ratio                             0.181808  0.154932   \n",
       "movie_facebook_likes                     0.703414  0.221718   \n",
       "net                                      0.041345  0.009599   \n",
       "net_percentage                           0.033150 -0.032498   \n",
       "\n",
       "                           director_facebook_likes  actor_3_facebook_likes  \\\n",
       "num_critic_for_reviews                    0.179252                0.256934   \n",
       "duration                                  0.180797                0.127678   \n",
       "director_facebook_likes                   1.000000                0.119413   \n",
       "actor_3_facebook_likes                    0.119413                1.000000   \n",
       "actor_1_facebook_likes                    0.091590                0.253884   \n",
       "gross                                     0.142158                0.303080   \n",
       "num_voted_users                           0.301847                0.271188   \n",
       "cast_total_facebook_likes                 0.121031                0.490246   \n",
       "facenumber_in_poster                     -0.047202                0.104290   \n",
       "num_user_for_reviews                      0.220459                0.209776   \n",
       "budget                                    0.019235                0.041219   \n",
       "title_year                               -0.045781                0.112255   \n",
       "actor_2_facebook_likes                    0.118357                0.554580   \n",
       "imdb_score                                0.189293                0.064991   \n",
       "aspect_ratio                              0.038173                0.047161   \n",
       "movie_facebook_likes                      0.162555                0.271943   \n",
       "net                                       0.024960                0.052960   \n",
       "net_percentage                           -0.006292               -0.012182   \n",
       "\n",
       "                           actor_1_facebook_likes     gross  num_voted_users  \\\n",
       "num_critic_for_reviews                   0.172216  0.477022         0.600473   \n",
       "duration                                 0.087185  0.252781         0.344151   \n",
       "director_facebook_likes                  0.091590  0.142158         0.301847   \n",
       "actor_3_facebook_likes                   0.253884  0.303080         0.271188   \n",
       "actor_1_facebook_likes                   1.000000  0.148880         0.183599   \n",
       "gross                                    0.148880  1.000000         0.631404   \n",
       "num_voted_users                          0.183599  0.631404         1.000000   \n",
       "cast_total_facebook_likes                0.945227  0.240982         0.254050   \n",
       "facenumber_in_poster                     0.064623 -0.030618        -0.031936   \n",
       "num_user_for_reviews                     0.127462  0.552499         0.782493   \n",
       "budget                                   0.017544  0.102179         0.068834   \n",
       "title_year                               0.091297  0.046575         0.016773   \n",
       "actor_2_facebook_likes                   0.392058  0.256579         0.248970   \n",
       "imdb_score                               0.091960  0.211525         0.473209   \n",
       "aspect_ratio                             0.058401  0.066456         0.086580   \n",
       "movie_facebook_likes                     0.131591  0.375455         0.522649   \n",
       "net                                      0.028688  0.208148         0.127181   \n",
       "net_percentage                          -0.015639  0.018516         0.010566   \n",
       "\n",
       "                           cast_total_facebook_likes  facenumber_in_poster  \\\n",
       "num_critic_for_reviews                      0.243990             -0.033828   \n",
       "duration                                    0.124478              0.032307   \n",
       "director_facebook_likes                     0.121031             -0.047202   \n",
       "actor_3_facebook_likes                      0.490246              0.104290   \n",
       "actor_1_facebook_likes                      0.945227              0.064623   \n",
       "gross                                       0.240982             -0.030618   \n",
       "num_voted_users                             0.254050             -0.031936   \n",
       "cast_total_facebook_likes                   1.000000              0.086973   \n",
       "facenumber_in_poster                        0.086973              1.000000   \n",
       "num_user_for_reviews                        0.185527             -0.078663   \n",
       "budget                                      0.030189             -0.021967   \n",
       "title_year                                  0.120310              0.070279   \n",
       "actor_2_facebook_likes                      0.642958              0.072989   \n",
       "imdb_score                                  0.104546             -0.067941   \n",
       "aspect_ratio                                0.070671              0.017088   \n",
       "movie_facebook_likes                        0.206783              0.015792   \n",
       "net                                         0.044688              0.012166   \n",
       "net_percentage                             -0.018608             -0.013509   \n",
       "\n",
       "                           num_user_for_reviews    budget  title_year  \\\n",
       "num_critic_for_reviews                 0.573610  0.107666    0.392422   \n",
       "duration                               0.356218  0.069574   -0.128198   \n",
       "director_facebook_likes                0.220459  0.019235   -0.045781   \n",
       "actor_3_facebook_likes                 0.209776  0.041219    0.112255   \n",
       "actor_1_facebook_likes                 0.127462  0.017544    0.091297   \n",
       "gross                                  0.552499  0.102179    0.046575   \n",
       "num_voted_users                        0.782493  0.068834    0.016773   \n",
       "cast_total_facebook_likes              0.185527  0.030189    0.120310   \n",
       "facenumber_in_poster                  -0.078663 -0.021967    0.070279   \n",
       "num_user_for_reviews                   1.000000  0.073352    0.011868   \n",
       "budget                                 0.073352  1.000000    0.044990   \n",
       "title_year                             0.011868  0.044990    1.000000   \n",
       "actor_2_facebook_likes                 0.192746  0.036937    0.115970   \n",
       "imdb_score                             0.320005  0.029135   -0.130236   \n",
       "aspect_ratio                           0.099637  0.026114    0.223212   \n",
       "movie_facebook_likes                   0.376885  0.054696    0.295541   \n",
       "net                                    0.098387 -0.951709   -0.029862   \n",
       "net_percentage                         0.068651 -0.008039   -0.017054   \n",
       "\n",
       "                           actor_2_facebook_likes  imdb_score  aspect_ratio  \\\n",
       "num_critic_for_reviews                   0.258969    0.340219      0.181808   \n",
       "duration                                 0.131826    0.358253      0.154932   \n",
       "director_facebook_likes                  0.118357    0.189293      0.038173   \n",
       "actor_3_facebook_likes                   0.554580    0.064991      0.047161   \n",
       "actor_1_facebook_likes                   0.392058    0.091960      0.058401   \n",
       "gross                                    0.256579    0.211525      0.066456   \n",
       "num_voted_users                          0.248970    0.473209      0.086580   \n",
       "cast_total_facebook_likes                0.642958    0.104546      0.070671   \n",
       "facenumber_in_poster                     0.072989   -0.067941      0.017088   \n",
       "num_user_for_reviews                     0.192746    0.320005      0.099637   \n",
       "budget                                   0.036937    0.029135      0.026114   \n",
       "title_year                               0.115970   -0.130236      0.223212   \n",
       "actor_2_facebook_likes                   1.000000    0.101829      0.064593   \n",
       "imdb_score                               0.101829    1.000000      0.027046   \n",
       "aspect_ratio                             0.064593    0.027046      1.000000   \n",
       "movie_facebook_likes                     0.233031    0.277349      0.111375   \n",
       "net                                      0.042841    0.036634     -0.005242   \n",
       "net_percentage                          -0.013788    0.010300     -0.041672   \n",
       "\n",
       "                           movie_facebook_likes       net  net_percentage  \n",
       "num_critic_for_reviews                 0.703414  0.041345        0.033150  \n",
       "duration                               0.221718  0.009599       -0.032498  \n",
       "director_facebook_likes                0.162555  0.024960       -0.006292  \n",
       "actor_3_facebook_likes                 0.271943  0.052960       -0.012182  \n",
       "actor_1_facebook_likes                 0.131591  0.028688       -0.015639  \n",
       "gross                                  0.375455  0.208148        0.018516  \n",
       "num_voted_users                        0.522649  0.127181        0.010566  \n",
       "cast_total_facebook_likes              0.206783  0.044688       -0.018608  \n",
       "facenumber_in_poster                   0.015792  0.012166       -0.013509  \n",
       "num_user_for_reviews                   0.376885  0.098387        0.068651  \n",
       "budget                                 0.054696 -0.951709       -0.008039  \n",
       "title_year                             0.295541 -0.029862       -0.017054  \n",
       "actor_2_facebook_likes                 0.233031  0.042841       -0.013788  \n",
       "imdb_score                             0.277349  0.036634        0.010300  \n",
       "aspect_ratio                           0.111375 -0.005242       -0.041672  \n",
       "movie_facebook_likes                   1.000000  0.062092       -0.002832  \n",
       "net                                    0.062092  1.000000        0.013619  \n",
       "net_percentage                        -0.002832  0.013619        1.000000  "
      ]
     },
     "execution_count": 54,
     "metadata": {},
     "output_type": "execute_result"
    }
   ],
   "source": [
    "df_budget_profit=( df2.corr())\n",
    "df_budget_profit"
   ]
  },
  {
   "cell_type": "markdown",
   "metadata": {},
   "source": [
    "##  Conclusion: Net and Net percentage does not have any direct relation with any of the other element"
   ]
  },
  {
   "cell_type": "markdown",
   "metadata": {
    "collapsed": true
   },
   "source": [
    "## 1.8 Which country has the highest number of movies?"
   ]
  },
  {
   "cell_type": "code",
   "execution_count": 44,
   "metadata": {
    "collapsed": false
   },
   "outputs": [],
   "source": [
    "df_num_movies_country= df1.groupby(['country'])['movie_title'].count().reset_index()"
   ]
  },
  {
   "cell_type": "code",
   "execution_count": 45,
   "metadata": {
    "collapsed": false
   },
   "outputs": [
    {
     "data": {
      "text/html": [
       "<div>\n",
       "<table border=\"1\" class=\"dataframe\">\n",
       "  <thead>\n",
       "    <tr style=\"text-align: right;\">\n",
       "      <th></th>\n",
       "      <th>country</th>\n",
       "      <th>movie_title</th>\n",
       "    </tr>\n",
       "  </thead>\n",
       "  <tbody>\n",
       "    <tr>\n",
       "      <th>0</th>\n",
       "      <td>Afghanistan</td>\n",
       "      <td>1</td>\n",
       "    </tr>\n",
       "    <tr>\n",
       "      <th>1</th>\n",
       "      <td>Argentina</td>\n",
       "      <td>3</td>\n",
       "    </tr>\n",
       "    <tr>\n",
       "      <th>2</th>\n",
       "      <td>Aruba</td>\n",
       "      <td>1</td>\n",
       "    </tr>\n",
       "    <tr>\n",
       "      <th>3</th>\n",
       "      <td>Australia</td>\n",
       "      <td>39</td>\n",
       "    </tr>\n",
       "    <tr>\n",
       "      <th>4</th>\n",
       "      <td>Belgium</td>\n",
       "      <td>1</td>\n",
       "    </tr>\n",
       "  </tbody>\n",
       "</table>\n",
       "</div>"
      ],
      "text/plain": [
       "       country  movie_title\n",
       "0  Afghanistan            1\n",
       "1    Argentina            3\n",
       "2        Aruba            1\n",
       "3    Australia           39\n",
       "4      Belgium            1"
      ]
     },
     "execution_count": 45,
     "metadata": {},
     "output_type": "execute_result"
    }
   ],
   "source": [
    "df_num_movies_country.head()"
   ]
  },
  {
   "cell_type": "code",
   "execution_count": 46,
   "metadata": {
    "collapsed": false
   },
   "outputs": [
    {
     "data": {
      "text/plain": [
       "<matplotlib.axes._subplots.AxesSubplot at 0x2990ca0fcf8>"
      ]
     },
     "execution_count": 46,
     "metadata": {},
     "output_type": "execute_result"
    },
    {
     "data": {
      "image/png": "[encoded data removed]",
      "text/plain": [
       "<matplotlib.figure.Figure at 0x2990ca1c898>"
      ]
     },
     "metadata": {},
     "output_type": "display_data"
    }
   ],
   "source": [
    "df_num_movies_country.plot(x='country',y ='movie_title', kind='bar', ylim=(0,400), figsize=(10,5), color='green')"
   ]
  },
  {
   "cell_type": "markdown",
   "metadata": {
    "collapsed": true
   },
   "source": [
    "## USA leads with the most number of films in the dataset. The big 5 are USA, UK, Germany, France and Canada. We will now figure out which language is the most used in the database"
   ]
  },
  {
   "cell_type": "markdown",
   "metadata": {},
   "source": [
    "## 1.10 Which language has the highest number of movies ? "
   ]
  },
  {
   "cell_type": "code",
   "execution_count": 47,
   "metadata": {
    "collapsed": false
   },
   "outputs": [],
   "source": [
    "df_num_lan= df1.groupby(['language'])['movie_title'].count().reset_index()"
   ]
  },
  {
   "cell_type": "code",
   "execution_count": 48,
   "metadata": {
    "collapsed": false
   },
   "outputs": [
    {
     "data": {
      "text/plain": [
       "<matplotlib.axes._subplots.AxesSubplot at 0x2990ca28828>"
      ]
     },
     "execution_count": 48,
     "metadata": {},
     "output_type": "execute_result"
    },
    {
     "data": {
      "image/png": "[encoded data removed]",
      "text/plain": [
       "<matplotlib.figure.Figure at 0x2990ca69cc0>"
      ]
     },
     "metadata": {},
     "output_type": "display_data"
    }
   ],
   "source": [
    "df_num_lan.plot(x='language',y='movie_title', kind='bar', ylim=(0,400), color='green')"
   ]
  },
  {
   "cell_type": "markdown",
   "metadata": {
    "collapsed": true
   },
   "source": [
    "## ENglish is the highest use language in the dataset followed by French, Spanish, Mandarian and Japanese"
   ]
  },
  {
   "cell_type": "code",
   "execution_count": null,
   "metadata": {
    "collapsed": true
   },
   "outputs": [],
   "source": []
  }
 ],
 "metadata": {
  "anaconda-cloud": {},
  "kernelspec": {
   "display_name": "Python [default]",
   "language": "python",
   "name": "python3"
  },
  "language_info": {
   "codemirror_mode": {
    "name": "ipython",
    "version": 3
   },
   "file_extension": ".py",
   "mimetype": "text/x-python",
   "name": "python",
   "nbconvert_exporter": "python",
   "pygments_lexer": "ipython3",
   "version": "3.5.2"
  }
 },
 "nbformat": 4,
 "nbformat_minor": 1
}
