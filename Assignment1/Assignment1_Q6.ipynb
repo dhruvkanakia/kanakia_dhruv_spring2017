{
 "cells": [
  {
   "cell_type": "code",
   "execution_count": 44,
   "metadata": {
    "collapsed": false,
    "scrolled": true
   },
   "outputs": [
    {
     "name": "stdout",
     "output_type": "stream",
     "text": [
      "['M', 'a', 'd', 'i', 's', 'o', 'n']\n"
     ]
    }
   ],
   "source": [
    "from nltk.corpus import inaugural\n",
    "inaugural.fileids()\n",
    "presidents= set([n[5:][:-4] for n in inaugural.fileids()])\n",
    "print(list(name))"
   ]
  },
  {
   "cell_type": "code",
   "execution_count": 45,
   "metadata": {
    "collapsed": false
   },
   "outputs": [],
   "source": [
    "\n",
    "# Creating a function that returns the list of unique words used in inaugural address\n",
    "def unique_words_for_president(name):\n",
    "    files = [f for f in inaugural.fileids() if name in f]\n",
    "    # print(files)\n",
    "    unique_words = set([w.lower() for w in inaugural.words(files) if w.isalpha()])\n",
    "    return unique_words\n"
   ]
  },
  {
   "cell_type": "code",
   "execution_count": 46,
   "metadata": {
    "collapsed": false
   },
   "outputs": [
    {
     "name": "stdout",
     "output_type": "stream",
     "text": [
      "[{'Name': 'Harrison', 'Unique Words': 2538}, {'Name': 'Monroe', 'Unique Words': 1675}, {'Name': 'Roosevelt', 'Unique Words': 1598}, {'Name': 'McKinley', 'Unique Words': 1588}, {'Name': 'Bush', 'Unique Words': 1471}, {'Name': 'Adams', 'Unique Words': 1439}, {'Name': 'Taft', 'Unique Words': 1372}, {'Name': 'Reagan', 'Unique Words': 1352}, {'Name': 'Polk', 'Unique Words': 1256}, {'Name': 'VanBuren', 'Unique Words': 1252}, {'Name': 'Jefferson', 'Unique Words': 1207}, {'Name': 'Eisenhower', 'Unique Words': 1174}, {'Name': 'Lincoln', 'Unique Words': 1173}, {'Name': 'Cleveland', 'Unique Words': 1166}, {'Name': 'Coolidge', 'Unique Words': 1159}, {'Name': 'Harding', 'Unique Words': 1117}, {'Name': 'Pierce', 'Unique Words': 1114}, {'Name': 'Clinton', 'Unique Words': 1052}, {'Name': 'Hoover', 'Unique Words': 992}, {'Name': 'Nixon', 'Unique Words': 976}, {'Name': 'Garfield', 'Unique Words': 965}, {'Name': 'Wilson', 'Unique Words': 948}, {'Name': 'Buchanan', 'Unique Words': 890}, {'Name': 'Obama', 'Unique Words': 889}, {'Name': 'Madison', 'Unique Words': 864}, {'Name': 'Grant', 'Unique Words': 812}, {'Name': 'Jackson', 'Unique Words': 807}, {'Name': 'Hayes', 'Unique Words': 798}, {'Name': 'Truman', 'Unique Words': 739}, {'Name': 'Washington', 'Unique Words': 625}, {'Name': 'Kennedy', 'Unique Words': 532}, {'Name': 'Johnson', 'Unique Words': 524}, {'Name': 'Carter', 'Unique Words': 490}, {'Name': 'Taylor', 'Unique Words': 481}]\n"
     ]
    }
   ],
   "source": [
    "#Passing each President into our function\n",
    "president_unique_words_list = []\n",
    "for name in presidents:\n",
    "    unique_words = unique_words_for_president(name)\n",
    "    president_unique_words_list.append({\"Name\":name,\"Unique Words\":len(unique_words)})\n",
    "\n",
    "\n",
    "sorted_presidential_words = sorted(president_unique_words_list, key=lambda item : item[\"Unique Words\"], reverse=True)\n",
    "print(sorted_presidential_words)"
   ]
  },
  {
   "cell_type": "code",
   "execution_count": 47,
   "metadata": {
    "collapsed": false
   },
   "outputs": [
    {
     "name": "stdout",
     "output_type": "stream",
     "text": [
      "\n",
      "Number of unique words  are:\n",
      "Harrison: 2538\n",
      "Monroe: 1675\n",
      "Roosevelt: 1598\n",
      "McKinley: 1588\n",
      "Bush: 1471\n",
      "Adams: 1439\n",
      "Taft: 1372\n",
      "Reagan: 1352\n",
      "Polk: 1256\n",
      "VanBuren: 1252\n",
      "Jefferson: 1207\n",
      "Eisenhower: 1174\n",
      "Lincoln: 1173\n",
      "Cleveland: 1166\n",
      "Coolidge: 1159\n",
      "Harding: 1117\n",
      "Pierce: 1114\n",
      "Clinton: 1052\n",
      "Hoover: 992\n",
      "Nixon: 976\n",
      "Garfield: 965\n",
      "Wilson: 948\n",
      "Buchanan: 890\n",
      "Obama: 889\n",
      "Madison: 864\n",
      "Grant: 812\n",
      "Jackson: 807\n",
      "Hayes: 798\n",
      "Truman: 739\n",
      "Washington: 625\n",
      "Kennedy: 532\n",
      "Johnson: 524\n",
      "Carter: 490\n",
      "Taylor: 481\n"
     ]
    }
   ],
   "source": [
    "print(\"\\nNumber of unique words  are:\")\n",
    "for item in sorted_presidential_words:\n",
    "    print(item[\"Name\"] + \": \" + str(item[\"Unique Words\"]))"
   ]
  },
  {
   "cell_type": "code",
   "execution_count": null,
   "metadata": {
    "collapsed": true
   },
   "outputs": [],
   "source": []
  },
  {
   "cell_type": "code",
   "execution_count": null,
   "metadata": {
    "collapsed": true
   },
   "outputs": [],
   "source": []
  }
 ],
 "metadata": {
  "kernelspec": {
   "display_name": "Python [conda root]",
   "language": "python",
   "name": "conda-root-py"
  },
  "language_info": {
   "codemirror_mode": {
    "name": "ipython",
    "version": 3
   },
   "file_extension": ".py",
   "mimetype": "text/x-python",
   "name": "python",
   "nbconvert_exporter": "python",
   "pygments_lexer": "ipython3",
   "version": "3.5.2"
  }
 },
 "nbformat": 4,
 "nbformat_minor": 1
}
