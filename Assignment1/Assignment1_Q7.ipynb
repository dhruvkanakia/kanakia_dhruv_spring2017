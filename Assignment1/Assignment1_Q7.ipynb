{
 "cells": [
  {
   "cell_type": "markdown",
   "metadata": {},
   "source": [
    "Question 7\n",
    "Use Name corpus, calculate the probability of a name being of a male or female base on the last character(s) of name.\n",
    "Sample steps:\n",
    "(1) For char ‘a’:\n",
    "total_names = sum(names ending with ‘a’)\n",
    "male_names = sum(male names ending with ‘a’)\n",
    "female_names = sum(female names ending with ‘a’)\n",
    "Probability of name being male = 100 * male_names / total_names\n",
    "(2) Do this for all characters.\n",
    "Output must come with proper title (e.g. [a] male: 25%, female: 60%)"
   ]
  },
  {
   "cell_type": "code",
   "execution_count": 20,
   "metadata": {
    "collapsed": false
   },
   "outputs": [
    {
     "name": "stdout",
     "output_type": "stream",
     "text": [
      "['female.txt', 'male.txt']\n"
     ]
    }
   ],
   "source": [
    "from nltk.corpus import names\n",
    "print(names.fileids())\n",
    "#print(names.raw('female.txt')[0:100])\n",
    "#print(names.words('female.txt')[0:50])"
   ]
  },
  {
   "cell_type": "code",
   "execution_count": 21,
   "metadata": {
    "collapsed": false
   },
   "outputs": [
    {
     "name": "stdout",
     "output_type": "stream",
     "text": [
      "['Aamir', 'Aaron', 'Abagael', 'Abagail', 'Abbe', 'Abbey', 'Abbey', 'Abbi', 'Abbie', 'Abbie', 'Abbot', 'Abbott', 'Abby', 'Abby', 'Abdel', 'Abdul', 'Abdulkarim', 'Abdullah', 'Abe', 'Abel', 'Abelard', 'Abigael', 'Abigail', 'Abigale', 'Abner', 'Abra', 'Abraham', 'Abram', 'Acacia', 'Ace', 'Ada', 'Adah', 'Adair', 'Adaline', 'Adam', 'Adams', 'Adara', 'Addie', 'Addie', 'Addis', 'Adel', 'Adela', 'Adelaide', 'Adele', 'Adelice', 'Adelina', 'Adelind', 'Adeline', 'Adella', 'Adelle']\n"
     ]
    }
   ],
   "source": [
    "names_female = names.words('female.txt')\n",
    "names_male = names.words('male.txt')\n",
    "names_all = sorted(names_female + names_male)\n",
    "\n",
    "# Display 50 names of male and female\n",
    "print(names_all[0:50])"
   ]
  },
  {
   "cell_type": "code",
   "execution_count": 14,
   "metadata": {
    "collapsed": true
   },
   "outputs": [],
   "source": [
    "# Creating a function that gives the raw numbers for names ending with a given letter\n",
    "def names_ending_with(letter):\n",
    "    female_name_count = len([n.lower() for n in names_female if n.lower().endswith(letter)])\n",
    "    male_name_count = len([n.lower() for n in names_male if n.lower().endswith(letter)])\n",
    "    total_name_count = len([n.lower() for n in names_all if n.lower().endswith(letter)])\n",
    "\n",
    "    return {\"letter\":letter, \"female\":female_name_count, \"male\":male_name_count, \"total\": total_name_count}"
   ]
  },
  {
   "cell_type": "code",
   "execution_count": 17,
   "metadata": {
    "collapsed": false
   },
   "outputs": [
    {
     "name": "stdout",
     "output_type": "stream",
     "text": [
      "[{'female': 1773, 'male': 29, 'total': 1802, 'letter': 'a'}, {'female': 9, 'male': 21, 'total': 30, 'letter': 'b'}, {'female': 0, 'male': 25, 'total': 25, 'letter': 'c'}, {'female': 39, 'male': 228, 'total': 267, 'letter': 'd'}, {'female': 1432, 'male': 468, 'total': 1900, 'letter': 'e'}, {'female': 2, 'male': 25, 'total': 27, 'letter': 'f'}, {'female': 10, 'male': 32, 'total': 42, 'letter': 'g'}, {'female': 105, 'male': 93, 'total': 198, 'letter': 'h'}, {'female': 317, 'male': 50, 'total': 367, 'letter': 'i'}, {'female': 1, 'male': 3, 'total': 4, 'letter': 'j'}, {'female': 3, 'male': 69, 'total': 72, 'letter': 'k'}, {'female': 179, 'male': 187, 'total': 366, 'letter': 'l'}, {'female': 13, 'male': 70, 'total': 83, 'letter': 'm'}, {'female': 386, 'male': 478, 'total': 864, 'letter': 'n'}, {'female': 33, 'male': 165, 'total': 198, 'letter': 'o'}, {'female': 2, 'male': 18, 'total': 20, 'letter': 'p'}, {'female': 0, 'male': 0, 'total': 0, 'letter': 'q'}, {'female': 47, 'male': 190, 'total': 237, 'letter': 'r'}, {'female': 93, 'male': 230, 'total': 323, 'letter': 's'}, {'female': 68, 'male': 164, 'total': 232, 'letter': 't'}, {'female': 6, 'male': 12, 'total': 18, 'letter': 'u'}, {'female': 2, 'male': 16, 'total': 18, 'letter': 'v'}, {'female': 5, 'male': 17, 'total': 22, 'letter': 'w'}, {'female': 10, 'male': 10, 'total': 20, 'letter': 'x'}, {'female': 461, 'male': 332, 'total': 793, 'letter': 'y'}, {'female': 4, 'male': 11, 'total': 15, 'letter': 'z'}]\n",
      "26\n"
     ]
    }
   ],
   "source": [
    "import string\n",
    "\n",
    "# Creating a list containing raw numbers for every letter of the alphabet\n",
    "names_ending_with_list = []\n",
    "for letter in string.ascii_lowercase:\n",
    "    names_ending_with_list.append(names_ending_with(letter))\n",
    "print(names_ending_with_list)\n",
    "print(len(names_ending_with_list))"
   ]
  },
  {
   "cell_type": "code",
   "execution_count": 19,
   "metadata": {
    "collapsed": false
   },
   "outputs": [
    {
     "ename": "TypeError",
     "evalue": "'int' object is not iterable",
     "output_type": "error",
     "traceback": [
      "\u001b[0;31m---------------------------------------------------------------------------\u001b[0m",
      "\u001b[0;31mTypeError\u001b[0m                                 Traceback (most recent call last)",
      "\u001b[0;32m<ipython-input-19-91c404df2306>\u001b[0m in \u001b[0;36m<module>\u001b[0;34m()\u001b[0m\n\u001b[0;32m----> 1\u001b[0;31m \u001b[1;32mfor\u001b[0m \u001b[0mchar\u001b[0m \u001b[1;32min\u001b[0m \u001b[1;33m(\u001b[0m\u001b[0mlen\u001b[0m\u001b[1;33m(\u001b[0m\u001b[0mnames_ending_with_list\u001b[0m\u001b[1;33m)\u001b[0m\u001b[1;33m)\u001b[0m\u001b[1;33m:\u001b[0m\u001b[1;33m\u001b[0m\u001b[0m\n\u001b[0m\u001b[1;32m      2\u001b[0m     \u001b[1;32mif\u001b[0m \u001b[1;32mnot\u001b[0m \u001b[1;33m(\u001b[0m\u001b[0mper_count\u001b[0m\u001b[1;33m[\u001b[0m\u001b[0mchar\u001b[0m\u001b[1;33m]\u001b[0m\u001b[1;33m[\u001b[0m\u001b[1;36m0\u001b[0m\u001b[1;33m]\u001b[0m \u001b[1;33m==\u001b[0m \u001b[1;36m0\u001b[0m\u001b[1;33m)\u001b[0m\u001b[1;33m:\u001b[0m\u001b[1;33m\u001b[0m\u001b[0m\n\u001b[1;32m      3\u001b[0m         \u001b[0mprint\u001b[0m \u001b[1;33m(\u001b[0m\u001b[1;34m\"Last letter: \"\u001b[0m \u001b[1;33m+\u001b[0m \u001b[0mchar\u001b[0m \u001b[1;33m+\u001b[0m \u001b[1;34m\" Male percent: \"\u001b[0m \u001b[1;33m+\u001b[0m \u001b[0mstr\u001b[0m\u001b[1;33m(\u001b[0m\u001b[0mper_count\u001b[0m\u001b[1;33m[\u001b[0m\u001b[0mchar\u001b[0m\u001b[1;33m]\u001b[0m\u001b[1;33m[\u001b[0m\u001b[1;36m2\u001b[0m\u001b[1;33m]\u001b[0m\u001b[1;33m/\u001b[0m\u001b[0mper_count\u001b[0m\u001b[1;33m[\u001b[0m\u001b[0mchar\u001b[0m\u001b[1;33m]\u001b[0m\u001b[1;33m[\u001b[0m\u001b[1;36m0\u001b[0m\u001b[1;33m]\u001b[0m\u001b[1;33m)\u001b[0m \u001b[1;33m+\u001b[0m \u001b[1;34m\" Female percent: \"\u001b[0m \u001b[1;33m+\u001b[0m \u001b[0mstr\u001b[0m\u001b[1;33m(\u001b[0m\u001b[0mper_count\u001b[0m\u001b[1;33m[\u001b[0m\u001b[0mchar\u001b[0m\u001b[1;33m]\u001b[0m\u001b[1;33m[\u001b[0m\u001b[1;36m1\u001b[0m\u001b[1;33m]\u001b[0m\u001b[1;33m/\u001b[0m\u001b[0mper_count\u001b[0m\u001b[1;33m[\u001b[0m\u001b[0mchar\u001b[0m\u001b[1;33m]\u001b[0m\u001b[1;33m[\u001b[0m\u001b[1;36m0\u001b[0m\u001b[1;33m]\u001b[0m\u001b[1;33m)\u001b[0m\u001b[1;33m)\u001b[0m\u001b[1;33m\u001b[0m\u001b[0m\n\u001b[1;32m      4\u001b[0m     \u001b[1;32melse\u001b[0m\u001b[1;33m:\u001b[0m\u001b[1;33m\u001b[0m\u001b[0m\n\u001b[1;32m      5\u001b[0m         \u001b[0mprint\u001b[0m \u001b[1;33m(\u001b[0m\u001b[1;34m\"Last letter: \"\u001b[0m \u001b[1;33m+\u001b[0m \u001b[0mchar\u001b[0m \u001b[1;33m+\u001b[0m \u001b[1;34m\" Male percent: \"\u001b[0m \u001b[1;33m+\u001b[0m \u001b[1;36m0\u001b[0m \u001b[1;33m+\u001b[0m \u001b[1;34m\" Female percent: \"\u001b[0m \u001b[1;33m+\u001b[0m \u001b[1;36m0\u001b[0m\u001b[1;33m)\u001b[0m\u001b[1;33m\u001b[0m\u001b[0m\n",
      "\u001b[0;31mTypeError\u001b[0m: 'int' object is not iterable"
     ]
    }
   ],
   "source": []
  },
  {
   "cell_type": "code",
   "execution_count": null,
   "metadata": {
    "collapsed": true
   },
   "outputs": [],
   "source": []
  }
 ],
 "metadata": {
  "kernelspec": {
   "display_name": "Python [conda root]",
   "language": "python",
   "name": "conda-root-py"
  },
  "language_info": {
   "codemirror_mode": {
    "name": "ipython",
    "version": 3
   },
   "file_extension": ".py",
   "mimetype": "text/x-python",
   "name": "python",
   "nbconvert_exporter": "python",
   "pygments_lexer": "ipython3",
   "version": "3.5.2"
  }
 },
 "nbformat": 4,
 "nbformat_minor": 1
}
