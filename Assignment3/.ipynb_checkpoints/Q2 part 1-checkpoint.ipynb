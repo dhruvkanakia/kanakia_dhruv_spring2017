{
 "cells": [
  {
   "cell_type": "markdown",
   "metadata": {
    "collapsed": true
   },
   "source": [
    "#  # Question2_Part1\n",
    "•Use 'employee_compensation' data set.\n",
    " •Find out the highest paid departments in each organization group by calculating mean of total compensation for every  department.\n",
    " •Output should contain the organization group and the departments in each organization group with the total compensationfrom highest to lowest value.\n",
    " •Display a few rows of the outputuse df.head().\n",
    " •Generate a csv output.\n"
   ]
  },
  {
   "cell_type": "code",
   "execution_count": 5,
   "metadata": {
    "collapsed": false
   },
   "outputs": [],
   "source": [
    "import os\n",
    "path=os.getcwd()"
   ]
  },
  {
   "cell_type": "code",
   "execution_count": 6,
   "metadata": {
    "collapsed": false
   },
   "outputs": [],
   "source": [
    "final_path=path+ \"\\\\Data\\\\employee_compensation.csv\""
   ]
  },
  {
   "cell_type": "code",
   "execution_count": 9,
   "metadata": {
    "collapsed": false
   },
   "outputs": [],
   "source": [
    "#Reading csv file\n",
    "import pandas as pd\n",
    "from pandas import DataFrame\n",
    "import datetime\n",
    "fields=['Organization Group','Department', 'Total Compensation']\n",
    "df=pd.read_csv(final_path, skipinitialspace=True, usecols=fields)\n",
    "#print(df.head())"
   ]
  },
  {
   "cell_type": "code",
   "execution_count": 10,
   "metadata": {
    "collapsed": false
   },
   "outputs": [],
   "source": [
    "#Grouping by Organization Group and Department\n",
    "df_borough= df.groupby(['Organization Group', 'Department']).mean()"
   ]
  },
  {
   "cell_type": "code",
   "execution_count": 11,
   "metadata": {
    "collapsed": false
   },
   "outputs": [],
   "source": [
    "#Sorting in descending order\n",
    "df_borough_sorted=df_borough.sort_values('Total Compensation', ascending=False)"
   ]
  },
  {
   "cell_type": "code",
   "execution_count": 12,
   "metadata": {
    "collapsed": false
   },
   "outputs": [],
   "source": [
    "#df_borough_sorted.head()"
   ]
  },
  {
   "cell_type": "code",
   "execution_count": 13,
   "metadata": {
    "collapsed": false
   },
   "outputs": [],
   "source": [
    "df_borough_sorted.to_csv('Q2_Part1.csv', sep=',')"
   ]
  },
  {
   "cell_type": "code",
   "execution_count": null,
   "metadata": {
    "collapsed": true
   },
   "outputs": [],
   "source": []
  }
 ],
 "metadata": {
  "anaconda-cloud": {},
  "kernelspec": {
   "display_name": "Python [conda root]",
   "language": "python",
   "name": "conda-root-py"
  },
  "language_info": {
   "codemirror_mode": {
    "name": "ipython",
    "version": 3
   },
   "file_extension": ".py",
   "mimetype": "text/x-python",
   "name": "python",
   "nbconvert_exporter": "python",
   "pygments_lexer": "ipython3",
   "version": "3.5.2"
  }
 },
 "nbformat": 4,
 "nbformat_minor": 1
}
