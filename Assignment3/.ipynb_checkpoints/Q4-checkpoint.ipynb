{
 "cells": [
  {
   "cell_type": "markdown",
   "metadata": {},
   "source": [
    "# #  Question4\n",
    "  \n",
    "• Use ‘movies_awards’ data set.\n",
    "  • You are supposed to extract data from the awards column in this dataset and split it into several columns. An example is given below.\n",
    "  • The awards has details of wins, nominations in general and also wins and nominations in certain categories(e.g. Oscar, BAFTA etc.)\n",
    "  • You are supposed to create a win and nominated column (these 2 columns contain total number of wins and nominations) and other columns that extract the number of wins and nominations for each category of award. \n",
    "  • If a movie has 2 Oscar nominations and 4 Oscar won, the columns Oscar_Awards_Won should have value 4 and Oscar_Awards_Nominated should have value 2. You should also have a total won and nominated column which aggregates all the awards (won or nominated). \n",
    "  • Create two separate columns for each award category (won and nominated).\n",
    "  • Write your output to a csv file."
   ]
  },
  {
   "cell_type": "code",
   "execution_count": 57,
   "metadata": {
    "collapsed": false
   },
   "outputs": [],
   "source": [
    "import numpy as np\n",
    "import pandas as pd\n",
    "from pandas import DataFrame\n"
   ]
  },
  {
   "cell_type": "code",
   "execution_count": 58,
   "metadata": {
    "collapsed": true
   },
   "outputs": [],
   "source": [
    "import os\n",
    "path=os.getcwd()"
   ]
  },
  {
   "cell_type": "code",
   "execution_count": 59,
   "metadata": {
    "collapsed": false
   },
   "outputs": [],
   "source": [
    "final_path=path+ \"\\\\Data\\\\movies_awards.csv\""
   ]
  },
  {
   "cell_type": "code",
   "execution_count": 60,
   "metadata": {
    "collapsed": false
   },
   "outputs": [],
   "source": [
    "#Reading csv file\n",
    "df= pd.read_csv(final_path, skipinitialspace=True)"
   ]
  },
  {
   "cell_type": "code",
   "execution_count": 61,
   "metadata": {
    "collapsed": true
   },
   "outputs": [],
   "source": [
    "df = df.fillna(0)\n"
   ]
  },
  {
   "cell_type": "code",
   "execution_count": 62,
   "metadata": {
    "collapsed": false
   },
   "outputs": [],
   "source": [
    "df['Prime_Awards_Won']= df['Awards'].str.extract('Won (\\d+) Primetime', expand=True).apply(pd.to_numeric)\n",
    "df['Bafta_Awards_Won']= df['Awards'].str.extract('Won (\\d+) BAFTA', expand=True).apply(pd.to_numeric)"
   ]
  },
  {
   "cell_type": "code",
   "execution_count": 63,
   "metadata": {
    "collapsed": true
   },
   "outputs": [],
   "source": [
    "df['Prime_Awards_Nominated']= df['Awards'].str.extract('Nomination in (\\d+) Primetime', expand=True).apply(pd.to_numeric)\n",
    "df['Bafta_Awards_Nominated']= df['Awards'].str.extract('Nomination in (\\d+) BAFTA', expand=True).apply(pd.to_numeric)\n"
   ]
  },
  {
   "cell_type": "code",
   "execution_count": 64,
   "metadata": {
    "collapsed": true
   },
   "outputs": [],
   "source": [
    "df['Oscar_Awards_Won']= df['Awards'].str.extract('Won (\\d+) Oscar', expand=True).apply(pd.to_numeric)\n",
    "df['GoldenGlobeAwards_Won']= df['Awards'].str.extract('Won (\\d+) Golden Globe', expand=True).apply(pd.to_numeric)"
   ]
  },
  {
   "cell_type": "code",
   "execution_count": 65,
   "metadata": {
    "collapsed": true
   },
   "outputs": [],
   "source": [
    "df['Oscar_Awards_Nominated']= df['Awards'].str.extract('Nomination in (\\d+) Oscar', expand=True).apply(pd.to_numeric)\n",
    "df['GoldenGlobeAwards_Nominated']= df['Awards'].str.extract('Nomination in (\\d+) Golden Globe', expand=True).apply(pd.to_numeric)"
   ]
  },
  {
   "cell_type": "code",
   "execution_count": 66,
   "metadata": {
    "collapsed": true
   },
   "outputs": [],
   "source": [
    "df['Total_Awards_Won'] = df['Awards'].str.extract('(\\d+) win', expand=True).apply(pd.to_numeric)\n",
    "df['Total_Awards_Nominated'] = df['Awards'].str.extract('(\\d+) Nominated', expand=True).apply(pd.to_numeric)"
   ]
  },
  {
   "cell_type": "code",
   "execution_count": 67,
   "metadata": {
    "collapsed": false
   },
   "outputs": [],
   "source": [
    "#Replacing Nan with 0\n",
    "df = df.fillna(0)"
   ]
  },
  {
   "cell_type": "code",
   "execution_count": 68,
   "metadata": {
    "collapsed": false
   },
   "outputs": [],
   "source": [
    "# calculating total awards won\n",
    "df['Total_Awards_Won'] = df['Total_Awards_Won']+df['Prime_Awards_Won']+df['Bafta_Awards_Won']+df['Oscar_Awards_Won']+df['GoldenGlobeAwards_Won']"
   ]
  },
  {
   "cell_type": "code",
   "execution_count": 69,
   "metadata": {
    "collapsed": false
   },
   "outputs": [],
   "source": [
    "df['Total_Awards_Nominated']=df['Total_Awards_Nominated']+df['Prime_Awards_Nominated']+df['Bafta_Awards_Nominated']+df['Oscar_Awards_Nominated']+df['GoldenGlobeAwards_Nominated']\n"
   ]
  },
  {
   "cell_type": "code",
   "execution_count": 70,
   "metadata": {
    "collapsed": false
   },
   "outputs": [],
   "source": [
    "df2=df[['Awards','Total_Awards_Won','Total_Awards_Nominated','Prime_Awards_Nominated','Oscar_Awards_Nominated','GoldenGlobeAwards_Nominated','Bafta_Awards_Nominated','Prime_Awards_Won','Oscar_Awards_Won','GoldenGlobeAwards_Won','Bafta_Awards_Won']]\n"
   ]
  },
  {
   "cell_type": "code",
   "execution_count": 71,
   "metadata": {
    "collapsed": false
   },
   "outputs": [],
   "source": [
    "#df2.head()"
   ]
  },
  {
   "cell_type": "code",
   "execution_count": 72,
   "metadata": {
    "collapsed": false
   },
   "outputs": [],
   "source": [
    "df2 = df2[df2.Awards != 0] "
   ]
  },
  {
   "cell_type": "code",
   "execution_count": 73,
   "metadata": {
    "collapsed": false
   },
   "outputs": [
    {
     "data": {
      "text/html": [
       "<div>\n",
       "<table border=\"1\" class=\"dataframe\">\n",
       "  <thead>\n",
       "    <tr style=\"text-align: right;\">\n",
       "      <th></th>\n",
       "      <th>Awards</th>\n",
       "      <th>Total_Awards_Won</th>\n",
       "      <th>Total_Awards_Nominated</th>\n",
       "      <th>Prime_Awards_Nominated</th>\n",
       "      <th>Oscar_Awards_Nominated</th>\n",
       "      <th>GoldenGlobeAwards_Nominated</th>\n",
       "      <th>Bafta_Awards_Nominated</th>\n",
       "      <th>Prime_Awards_Won</th>\n",
       "      <th>Oscar_Awards_Won</th>\n",
       "      <th>GoldenGlobeAwards_Won</th>\n",
       "      <th>Bafta_Awards_Won</th>\n",
       "    </tr>\n",
       "  </thead>\n",
       "  <tbody>\n",
       "    <tr>\n",
       "      <th>3</th>\n",
       "      <td>1 win &amp; 2 nominations.</td>\n",
       "      <td>1.0</td>\n",
       "      <td>0.0</td>\n",
       "      <td>0.0</td>\n",
       "      <td>0.0</td>\n",
       "      <td>0.0</td>\n",
       "      <td>0.0</td>\n",
       "      <td>0.0</td>\n",
       "      <td>0.0</td>\n",
       "      <td>0.0</td>\n",
       "      <td>0.0</td>\n",
       "    </tr>\n",
       "    <tr>\n",
       "      <th>4</th>\n",
       "      <td>1 win.</td>\n",
       "      <td>1.0</td>\n",
       "      <td>0.0</td>\n",
       "      <td>0.0</td>\n",
       "      <td>0.0</td>\n",
       "      <td>0.0</td>\n",
       "      <td>0.0</td>\n",
       "      <td>0.0</td>\n",
       "      <td>0.0</td>\n",
       "      <td>0.0</td>\n",
       "      <td>0.0</td>\n",
       "    </tr>\n",
       "    <tr>\n",
       "      <th>5</th>\n",
       "      <td>1 nomination.</td>\n",
       "      <td>0.0</td>\n",
       "      <td>0.0</td>\n",
       "      <td>0.0</td>\n",
       "      <td>0.0</td>\n",
       "      <td>0.0</td>\n",
       "      <td>0.0</td>\n",
       "      <td>0.0</td>\n",
       "      <td>0.0</td>\n",
       "      <td>0.0</td>\n",
       "      <td>0.0</td>\n",
       "    </tr>\n",
       "    <tr>\n",
       "      <th>6</th>\n",
       "      <td>3 wins &amp; 2 nominations.</td>\n",
       "      <td>3.0</td>\n",
       "      <td>0.0</td>\n",
       "      <td>0.0</td>\n",
       "      <td>0.0</td>\n",
       "      <td>0.0</td>\n",
       "      <td>0.0</td>\n",
       "      <td>0.0</td>\n",
       "      <td>0.0</td>\n",
       "      <td>0.0</td>\n",
       "      <td>0.0</td>\n",
       "    </tr>\n",
       "    <tr>\n",
       "      <th>7</th>\n",
       "      <td>1 win &amp; 1 nomination.</td>\n",
       "      <td>1.0</td>\n",
       "      <td>0.0</td>\n",
       "      <td>0.0</td>\n",
       "      <td>0.0</td>\n",
       "      <td>0.0</td>\n",
       "      <td>0.0</td>\n",
       "      <td>0.0</td>\n",
       "      <td>0.0</td>\n",
       "      <td>0.0</td>\n",
       "      <td>0.0</td>\n",
       "    </tr>\n",
       "  </tbody>\n",
       "</table>\n",
       "</div>"
      ],
      "text/plain": [
       "                    Awards  Total_Awards_Won  Total_Awards_Nominated  \\\n",
       "3   1 win & 2 nominations.               1.0                     0.0   \n",
       "4                   1 win.               1.0                     0.0   \n",
       "5            1 nomination.               0.0                     0.0   \n",
       "6  3 wins & 2 nominations.               3.0                     0.0   \n",
       "7    1 win & 1 nomination.               1.0                     0.0   \n",
       "\n",
       "   Prime_Awards_Nominated  Oscar_Awards_Nominated  \\\n",
       "3                     0.0                     0.0   \n",
       "4                     0.0                     0.0   \n",
       "5                     0.0                     0.0   \n",
       "6                     0.0                     0.0   \n",
       "7                     0.0                     0.0   \n",
       "\n",
       "   GoldenGlobeAwards_Nominated  Bafta_Awards_Nominated  Prime_Awards_Won  \\\n",
       "3                          0.0                     0.0               0.0   \n",
       "4                          0.0                     0.0               0.0   \n",
       "5                          0.0                     0.0               0.0   \n",
       "6                          0.0                     0.0               0.0   \n",
       "7                          0.0                     0.0               0.0   \n",
       "\n",
       "   Oscar_Awards_Won  GoldenGlobeAwards_Won  Bafta_Awards_Won  \n",
       "3               0.0                    0.0               0.0  \n",
       "4               0.0                    0.0               0.0  \n",
       "5               0.0                    0.0               0.0  \n",
       "6               0.0                    0.0               0.0  \n",
       "7               0.0                    0.0               0.0  "
      ]
     },
     "execution_count": 73,
     "metadata": {},
     "output_type": "execute_result"
    }
   ],
   "source": [
    "df2.head()"
   ]
  },
  {
   "cell_type": "code",
   "execution_count": 56,
   "metadata": {
    "collapsed": false
   },
   "outputs": [],
   "source": [
    "df2.to_csv('Q4.csv', sep=',')"
   ]
  },
  {
   "cell_type": "code",
   "execution_count": null,
   "metadata": {
    "collapsed": true
   },
   "outputs": [],
   "source": []
  },
  {
   "cell_type": "code",
   "execution_count": null,
   "metadata": {
    "collapsed": true
   },
   "outputs": [],
   "source": []
  },
  {
   "cell_type": "code",
   "execution_count": null,
   "metadata": {
    "collapsed": true
   },
   "outputs": [],
   "source": []
  }
 ],
 "metadata": {
  "anaconda-cloud": {},
  "kernelspec": {
   "display_name": "Python [conda root]",
   "language": "python",
   "name": "conda-root-py"
  },
  "language_info": {
   "codemirror_mode": {
    "name": "ipython",
    "version": 3
   },
   "file_extension": ".py",
   "mimetype": "text/x-python",
   "name": "python",
   "nbconvert_exporter": "python",
   "pygments_lexer": "ipython3",
   "version": "3.5.2"
  }
 },
 "nbformat": 4,
 "nbformat_minor": 1
}
