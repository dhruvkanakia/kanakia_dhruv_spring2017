{
 "cells": [
  {
   "cell_type": "markdown",
   "metadata": {},
   "source": [
    "# # Q1_PART TWO\n",
    "\n",
    "   Use ‘vehicle_collisions’ data set.\n",
    "   For each borough, find out distribution of each collision scale. (One car involved? Two? Three? or more?) (From 2015   to present)\n",
    "   Display a few rows of the outputuse df.head().\n",
    "   Generate a csv output with five columns ('borough', 'one-vehicle', 'two-vehicles', 'three-vehicles', 'more-vehicles')"
   ]
  },
  {
   "cell_type": "code",
   "execution_count": 6,
   "metadata": {
    "collapsed": false
   },
   "outputs": [],
   "source": [
    "import os\n",
    "a=os.getcwd()"
   ]
  },
  {
   "cell_type": "code",
   "execution_count": 7,
   "metadata": {
    "collapsed": true
   },
   "outputs": [],
   "source": [
    "path= a+\"\\\\Data\\\\vehicle_collisions.csv\""
   ]
  },
  {
   "cell_type": "code",
   "execution_count": 37,
   "metadata": {
    "collapsed": false
   },
   "outputs": [],
   "source": [
    "import pandas as pd\n",
    "from pandas import DataFrame\n",
    "import numpy as np\n",
    "import datetime\n",
    "from pandas import Series, DataFrame\n",
    "fields=['BOROUGH', 'VEHICLE 1 TYPE', 'VEHICLE 2 TYPE','VEHICLE 2 TYPE', 'VEHICLE 3 TYPE', 'VEHICLE 4 TYPE', 'VEHICLE 5 TYPE' ]\n",
    "df=pd.read_csv(path, skipinitialspace=True, usecols=fields)\n",
    "#print(df1.head())"
   ]
  },
  {
   "cell_type": "code",
   "execution_count": 38,
   "metadata": {
    "collapsed": false
   },
   "outputs": [],
   "source": [
    "df['VEHICLE 1 TYPE'] = df['VEHICLE 1 TYPE'].apply(lambda x: 0 if pd.isnull(x) else 1)\n",
    "df['VEHICLE 2 TYPE'] = df['VEHICLE 2 TYPE'].apply(lambda x: 0 if pd.isnull(x) else 1)\n",
    "df['VEHICLE 3 TYPE'] = df['VEHICLE 3 TYPE'].apply(lambda x: 0 if pd.isnull(x) else 1)\n",
    "df['VEHICLE 4 TYPE'] = df['VEHICLE 4 TYPE'].apply(lambda x: 0 if pd.isnull(x) else 1)\n",
    "df['VEHICLE 5 TYPE'] = df['VEHICLE 5 TYPE'].apply(lambda x: 0 if pd.isnull(x) else 1)\n",
    "df['TOTAL'] = df['VEHICLE 1 TYPE']+df['VEHICLE 2 TYPE']+df['VEHICLE 3 TYPE']+df['VEHICLE 4 TYPE']+df['VEHICLE 5 TYPE']"
   ]
  },
  {
   "cell_type": "code",
   "execution_count": 39,
   "metadata": {
    "collapsed": true
   },
   "outputs": [],
   "source": [
    "df['1 VEHICLE INVOLVED']= np.where(df['TOTAL'] == 1, 1,0)\n",
    "df['2 VEHICLE INVOLVED']= np.where(df['TOTAL'] == 2, 1,0)\n",
    "df['3 VEHICLE INVOLVED']= np.where(df['TOTAL'] == 3, 1,0)\n",
    "df['MORE VEHICLES INVOLVED']= np.where(df['TOTAL'] >= 4, 1,0)\n",
    "df=df.groupby('BOROUGH').sum()"
   ]
  },
  {
   "cell_type": "code",
   "execution_count": 40,
   "metadata": {
    "collapsed": true
   },
   "outputs": [],
   "source": [
    "df=DataFrame(df,columns=['1 VEHICLE INVOLVED','2 VEHICLE INVOLVED','3 VEHICLE INVOLVED','MORE VEHICLES INVOLVED'])"
   ]
  },
  {
   "cell_type": "code",
   "execution_count": 42,
   "metadata": {
    "collapsed": true
   },
   "outputs": [],
   "source": [
    "df.to_csv('Q1_Part2.csv', sep=',')"
   ]
  },
  {
   "cell_type": "code",
   "execution_count": null,
   "metadata": {
    "collapsed": true
   },
   "outputs": [],
   "source": []
  }
 ],
 "metadata": {
  "anaconda-cloud": {},
  "kernelspec": {
   "display_name": "Python [conda root]",
   "language": "python",
   "name": "conda-root-py"
  },
  "language_info": {
   "codemirror_mode": {
    "name": "ipython",
    "version": 3
   },
   "file_extension": ".py",
   "mimetype": "text/x-python",
   "name": "python",
   "nbconvert_exporter": "python",
   "pygments_lexer": "ipython3",
   "version": "3.5.2"
  }
 },
 "nbformat": 4,
 "nbformat_minor": 1
}
