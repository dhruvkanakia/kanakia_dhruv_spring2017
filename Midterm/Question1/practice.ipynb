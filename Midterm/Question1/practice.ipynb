{
 "cells": [
  {
   "cell_type": "code",
   "execution_count": 2,
   "metadata": {
    "collapsed": true
   },
   "outputs": [],
   "source": [
    "import os\n",
    "import email.parser from parser"
   ]
  },
  {
   "cell_type": "code",
   "execution_count": null,
   "metadata": {
    "collapsed": false
   },
   "outputs": [],
   "source": [
    "path='D:\\enron_mail_20150507\\maildir'"
   ]
  },
  {
   "cell_type": "code",
   "execution_count": null,
   "metadata": {
    "collapsed": true
   },
   "outputs": [],
   "source": [
    "for files in path:\n",
    "    for x in os.listdir(files):\n",
    "        if (x=='sent_items'or x=='sent'):\n",
    "            for y in os.listdir(filename+'/'+x):\n",
    "                ab_path= filename+'/'+x+'/'+y\n",
    "                try:\n",
    "                    f=open(ab_path, \"r\")\n",
    "                    string= f.read()\n",
    "                    email=Parser().parsestr(string)\n",
    "                \n",
    "            \n",
    "            "
   ]
  }
 ],
 "metadata": {
  "anaconda-cloud": {},
  "kernelspec": {
   "display_name": "Python [conda root]",
   "language": "python",
   "name": "conda-root-py"
  },
  "language_info": {
   "codemirror_mode": {
    "name": "ipython",
    "version": 3
   },
   "file_extension": ".py",
   "mimetype": "text/x-python",
   "name": "python",
   "nbconvert_exporter": "python",
   "pygments_lexer": "ipython3",
   "version": "3.5.2"
  }
 },
 "nbformat": 4,
 "nbformat_minor": 1
}
