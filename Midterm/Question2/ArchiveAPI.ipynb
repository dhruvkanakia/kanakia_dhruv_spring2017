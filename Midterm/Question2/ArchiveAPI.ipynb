{
 "cells": [
  {
   "cell_type": "code",
   "execution_count": 2,
   "metadata": {
    "collapsed": true
   },
   "outputs": [],
   "source": [
    "import os\n",
    "import requests\n",
    "import json\n",
    "import time"
   ]
  },
  {
   "cell_type": "code",
   "execution_count": 19,
   "metadata": {
    "collapsed": false,
    "scrolled": true
   },
   "outputs": [
    {
     "data": {
      "text/plain": [
       "[None, None, None, None, None, None, None, None, None, None, None, None]"
      ]
     },
     "execution_count": 19,
     "metadata": {},
     "output_type": "execute_result"
    }
   ],
   "source": [
    "[extractingData(year, month) for year in reversed(range(2006, 2007)) for month in range(1, 13)]"
   ]
  },
  {
   "cell_type": "code",
   "execution_count": 21,
   "metadata": {
    "collapsed": false
   },
   "outputs": [],
   "source": [
    "import os\n",
    "archive= os.getenv('auth_key')\n",
    "#archive"
   ]
  },
  {
   "cell_type": "code",
   "execution_count": 18,
   "metadata": {
    "collapsed": false
   },
   "outputs": [],
   "source": [
    "def extractingData(year, month):\n",
    "    #print(str(archive))\n",
    "    r = requests.get('https://api.nytimes.com/svc/archive/v1/'+str(year)+'/'+str(month)+'.json?'+\"&api-key=\"+str(archive))\n",
    "    if(int(r.status_code) != 200):#Retry if rate limit is reached \n",
    "        print(\"Error:%s %s %s\" %(r.status_code, year, month))\n",
    "        time.sleep(10)#Cool down time\n",
    "        extractingData(year,month)\n",
    "    if not os.path.exists(\"../data/\"+str(year)):\n",
    "        os.makedirs(\"../data/\"+str(year))\n",
    "    target = open(\"../data/\"+str(year)+\"/\"+str(year)+str(month).rjust(2,'0')+'.json', 'w')\n",
    "    json.dump(r.json(), target)"
   ]
  },
  {
   "cell_type": "code",
   "execution_count": 20,
   "metadata": {
    "collapsed": false
   },
   "outputs": [],
   "source": [
    "# print(str(archive))"
   ]
  },
  {
   "cell_type": "code",
   "execution_count": null,
   "metadata": {
    "collapsed": true
   },
   "outputs": [],
   "source": []
  }
 ],
 "metadata": {
  "anaconda-cloud": {},
  "kernelspec": {
   "display_name": "Python [conda root]",
   "language": "python",
   "name": "conda-root-py"
  },
  "language_info": {
   "codemirror_mode": {
    "name": "ipython",
    "version": 3
   },
   "file_extension": ".py",
   "mimetype": "text/x-python",
   "name": "python",
   "nbconvert_exporter": "python",
   "pygments_lexer": "ipython3",
   "version": "3.5.2"
  }
 },
 "nbformat": 4,
 "nbformat_minor": 1
}
