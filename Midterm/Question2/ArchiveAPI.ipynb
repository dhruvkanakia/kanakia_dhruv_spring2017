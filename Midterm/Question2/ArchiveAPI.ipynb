{
 "cells": [
  {
   "cell_type": "code",
   "execution_count": 7,
   "metadata": {
    "collapsed": true
   },
   "outputs": [],
   "source": [
    "import os\n",
    "import requests#used to get NYT api\n",
    "import json#save as json\n",
    "import time#sleep so to not reach rate limit"
   ]
  },
  {
   "cell_type": "code",
   "execution_count": 10,
   "metadata": {
    "collapsed": false
   },
   "outputs": [
    {
     "data": {
      "text/plain": [
       "[None, None, None, None, None, None, None, None, None, None, None, None]"
      ]
     },
     "execution_count": 10,
     "metadata": {},
     "output_type": "execute_result"
    }
   ],
   "source": [
    "[extractingData(year, month) for year in reversed(range(2006, 2007)) for month in range(1, 13)]"
   ]
  },
  {
   "cell_type": "code",
   "execution_count": 11,
   "metadata": {
    "collapsed": true
   },
   "outputs": [],
   "source": [
    "def extractingData(year, month):\n",
    "    r = requests.get('https://api.nytimes.com/svc/archive/v1/'+str(year)+'/'+str(month)+'.json?api-key=cf41c9cd893c461f9df3b68d15a5c061')\n",
    "    if(int(r.status_code) != 200):#Retry if rate limit is reached \n",
    "        print(\"Error:%s %s %s\" %(r.status_code, year, month))\n",
    "        time.sleep(10)#Cool down time\n",
    "        extractigDara(year,month)\n",
    "    if not os.path.exists(\"../data/\"+str(year)):\n",
    "        os.makedirs(\"../data/\"+str(year))\n",
    "    target = open(\"../data/\"+str(year)+\"/\"+str(year)+str(month).rjust(2,'0')+'.json', 'w')\n",
    "    json.dump(r.json(), target)"
   ]
  },
  {
   "cell_type": "code",
   "execution_count": null,
   "metadata": {
    "collapsed": true
   },
   "outputs": [],
   "source": []
  }
 ],
 "metadata": {
  "anaconda-cloud": {},
  "kernelspec": {
   "display_name": "Python [conda root]",
   "language": "python",
   "name": "conda-root-py"
  },
  "language_info": {
   "codemirror_mode": {
    "name": "ipython",
    "version": 3
   },
   "file_extension": ".py",
   "mimetype": "text/x-python",
   "name": "python",
   "nbconvert_exporter": "python",
   "pygments_lexer": "ipython3",
   "version": "3.5.2"
  }
 },
 "nbformat": 4,
 "nbformat_minor": 1
}
