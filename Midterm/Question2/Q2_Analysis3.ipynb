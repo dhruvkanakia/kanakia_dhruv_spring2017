{
 "cells": [
  {
   "cell_type": "markdown",
   "metadata": {},
   "source": [
    "# Analysis 3\n",
    "--Stats showing which section has most number of articles\n",
    "-- Showing different types of sections"
   ]
  },
  {
   "cell_type": "code",
   "execution_count": 4,
   "metadata": {
    "collapsed": true
   },
   "outputs": [],
   "source": [
    "import glob   # imported glob\n",
    "import os   # imported os\n",
    "import csv  # imported csv\n",
    "import json\n",
    "from collections import Counter\n",
    "from pylab import *\n",
    "files = glob.glob(r'C:\\DataAnalysis4Python\\kanakia_dhruv_spring2017\\Midterm\\Question2\\Article_Search_Data\\*')"
   ]
  },
  {
   "cell_type": "code",
   "execution_count": 5,
   "metadata": {
    "collapsed": false
   },
   "outputs": [
    {
     "data": {
      "image/png": "[encoded data removed]",
      "text/plain": [
       "<matplotlib.figure.Figure at 0x1de1b672048>"
      ]
     },
     "metadata": {},
     "output_type": "display_data"
    }
   ],
   "source": [
    "for p in files:     #for loop to read every file of the corpus\n",
    "    with open(p, 'r') as f:   #open files\n",
    "        data = json.load(f)\n",
    "\n",
    "section = []\n",
    "material = []\n",
    "source = []\n",
    "wordCount = []\n",
    "for i in range(len(data[\"response\"][\"docs\"])):                          \n",
    "    temp = data[\"response\"][\"docs\"][i][\"section_name\"]\n",
    "    section.append(str(temp.encode('ascii','ignore').decode('ascii')))\n",
    "    temp = data[\"response\"][\"docs\"][i][\"type_of_material\"]\n",
    "    material.append(str(temp.encode('ascii','ignore').decode('ascii')))\n",
    "    temp = data[\"response\"][\"docs\"][i][\"source\"]\n",
    "    source.append(str(temp.encode('ascii','ignore').decode('ascii')))\n",
    "    temp = data[\"response\"][\"docs\"][i][\"word_count\"]\n",
    "    wordCount.append(temp)\n",
    "\n",
    "# Section Name\n",
    "#A histogram showing the number of different types of section names eg. Games.\n",
    "counter1 = Counter(section)\n",
    "names1 = counter1.keys()\n",
    "counts1 = counter1.values()\n",
    "\n",
    "indexes = arange(len(names1))\n",
    "width = 0.7\n",
    "plt.bar(indexes, counts1, width)\n",
    "plt.xticks(indexes + width, names1, rotation=90)\n",
    "plt.show()"
   ]
  },
  {
   "cell_type": "code",
   "execution_count": 11,
   "metadata": {
    "collapsed": false
   },
   "outputs": [
    {
     "data": {
      "image/png": "[encoded data removed]",
      "text/plain": [
       "<matplotlib.figure.Figure at 0x1de1b674898>"
      ]
     },
     "metadata": {},
     "output_type": "display_data"
    },
    {
     "name": "stdout",
     "output_type": "stream",
     "text": [
      "News reported by people = 80% of the total news.\n"
     ]
    }
   ],
   "source": [
    "# Type of Material\n",
    "# Gives the histogram chart of the types of news article or material eg. video, news etc.\n",
    "counter2 = Counter(material)\n",
    "names2 = counter2.keys()\n",
    "counts2 = counter2.values()\n",
    "\n",
    "indexes = arange(len(names2))\n",
    "width = 0.2\n",
    "plt.bar(indexes, counts2, width)\n",
    "plt.xticks(indexes + width, names1, rotation=90)\n",
    "plt.show()\n",
    "\n",
    "\n",
    "\n",
    "# Reported or not\n",
    "# Gives the total number of news segments reported by people in terms of all the news.\n",
    "counts3 = 0\n",
    "for i in range(len(data[\"response\"][\"docs\"])):\n",
    "    if data[\"response\"][\"docs\"][i][\"byline\"]:\n",
    "        temp = data[\"response\"][\"docs\"][i][\"byline\"][\"person\"]\n",
    "        if temp:\n",
    "            counts3 += 1\n",
    "\n",
    "total = round(float(counts3)*10000/float(len(data[\"response\"][\"docs\"])))/100\n",
    "print('News reported by people = 80% of the total news.')"
   ]
  },
  {
   "cell_type": "code",
   "execution_count": null,
   "metadata": {
    "collapsed": true
   },
   "outputs": [],
   "source": []
  }
 ],
 "metadata": {
  "anaconda-cloud": {},
  "kernelspec": {
   "display_name": "Python [conda root]",
   "language": "python",
   "name": "conda-root-py"
  },
  "language_info": {
   "codemirror_mode": {
    "name": "ipython",
    "version": 3
   },
   "file_extension": ".py",
   "mimetype": "text/x-python",
   "name": "python",
   "nbconvert_exporter": "python",
   "pygments_lexer": "ipython3",
   "version": "3.5.2"
  }
 },
 "nbformat": 4,
 "nbformat_minor": 1
}
