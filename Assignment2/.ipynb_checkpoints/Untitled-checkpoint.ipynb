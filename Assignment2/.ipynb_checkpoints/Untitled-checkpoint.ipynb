{
 "cells": [
  {
   "cell_type": "code",
   "execution_count": 182,
   "metadata": {
    "collapsed": false
   },
   "outputs": [
    {
     "data": {
      "text/plain": [
       "132751"
      ]
     },
     "execution_count": 182,
     "metadata": {},
     "output_type": "execute_result"
    }
   ],
   "source": [
    "import nltk\n",
    "from nltk.corpus import inaugural\n",
    "files=nltk.corpus.inaugural.fileids()\n",
    "#print(files)\n",
    "words= nltk.corpus.inaugural.words(files)\n",
    "\n",
    "#print(len(words))\n",
    "lowercase_words= [i.lower() for i in words]\n",
    "import string\n",
    "lowercase_words_only= [u for u in lowercase_words if u not in string.punctuation]\n",
    "len(lowercase_words_only)\n",
    "#print(lowercase_words)"
   ]
  },
  {
   "cell_type": "code",
   "execution_count": 128,
   "metadata": {
    "collapsed": false
   },
   "outputs": [],
   "source": [
    "def cleaning(lowercase_words_only):\n",
    "    count={}\n",
    "    for i in lowercase_words_only:\n",
    "        if i not in count:\n",
    "            count[i]= 1\n",
    "        else:\n",
    "            count[i]+=1\n",
    "    word_sorting=sorted(count.items(), key=lambda i: i[1], reverse=True)     \n",
    "    #return count;           \n",
    "    return word_sorting;\n",
    "        \n",
    "           \n",
    "           \n",
    "                "
   ]
  },
  {
   "cell_type": "code",
   "execution_count": 154,
   "metadata": {
    "collapsed": false
   },
   "outputs": [],
   "source": [
    "sorted_words= (cleaning(lowercase_words_only))\n",
    "#print(sorted_words)\n",
    "import string\n",
    "keys=[]\n",
    "values=[]\n",
    "for key,val in sorted_words:\n",
    "    keys.append(key)\n",
    "for key,val in sorted_words:\n",
    "    values.append(val)\n",
    "#print(keys)[:10]        \n"
   ]
  },
  {
   "cell_type": "code",
   "execution_count": 167,
   "metadata": {
    "collapsed": false
   },
   "outputs": [],
   "source": [
    "count=1\n",
    "import csv\n",
    "with open('test.csv', 'w')as fp:\n",
    "    a= csv.writer(fp)\n",
    "    #a.writerow(keys,values)\n",
    "    a.writerow(['Word','Count','Frequency'])\n",
    "    for item in sorted_words:\n",
    "        a.writerow([item[0],count,item[1]])\n",
    "        count+=1"
   ]
  },
  {
   "cell_type": "code",
   "execution_count": null,
   "metadata": {
    "collapsed": true
   },
   "outputs": [],
   "source": []
  }
 ],
 "metadata": {
  "anaconda-cloud": {},
  "kernelspec": {
   "display_name": "Python [conda root]",
   "language": "python",
   "name": "conda-root-py"
  },
  "language_info": {
   "codemirror_mode": {
    "name": "ipython",
    "version": 3
   },
   "file_extension": ".py",
   "mimetype": "text/x-python",
   "name": "python",
   "nbconvert_exporter": "python",
   "pygments_lexer": "ipython3",
   "version": "3.5.2"
  }
 },
 "nbformat": 4,
 "nbformat_minor": 1
}
