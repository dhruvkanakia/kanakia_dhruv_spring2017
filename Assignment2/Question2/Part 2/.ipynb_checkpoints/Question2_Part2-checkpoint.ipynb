{
 "cells": [
  {
   "cell_type": "markdown",
   "metadata": {},
   "source": [
    "# Question 2\n",
    "\n",
    "Part 2:\n",
    "Reading the json files with term as 'restaurants' and displaying details of working hours to an excel sheet"
   ]
  },
  {
   "cell_type": "code",
   "execution_count": 28,
   "metadata": {
    "collapsed": true
   },
   "outputs": [],
   "source": [
    "import os #                          Import all library needs\n",
    "import glob\n",
    "import json\n",
    "from shutil import copyfile"
   ]
  },
  {
   "cell_type": "code",
   "execution_count": 29,
   "metadata": {
    "collapsed": false,
    "scrolled": false
   },
   "outputs": [],
   "source": [
    "files = glob.glob('C:\\SpandanDocs\\DataAnalysis4Python_Spring17\\Assignment 2\\Data\\*.json') \n",
    "#print(files)"
   ]
  },
  {
   "cell_type": "code",
   "execution_count": 41,
   "metadata": {
    "collapsed": false
   },
   "outputs": [],
   "source": [
    "def adding_rows(file, details):\n",
    "    rows = []\n",
    "    for detail in details:\n",
    "        row = []\n",
    "        row.append(file[\"name\"])\n",
    "        row.append(' '.join((file[\"location\"][\"city\"]).split()))\n",
    "        row.append(file[\"location\"][\"country\"])\n",
    "        row.append(detail['day'])\n",
    "        row.append(detail['start'][:2])\n",
    "        row.append(detail['start'][2:])\n",
    "        row.append(detail['end'][:2])\n",
    "        row.append(detail['end'][2:])\n",
    "        rows.append(row)\n",
    "    return rows\n",
    "\n",
    "#Function to write data to given csv file\n",
    "def write_to_csv(file_name, restaurant_timings):\n",
    "    \n",
    "    #Use utf-8 encoding because of some restaurant names are not in english letters\n",
    "    with open(file_name, 'w', encoding='utf-8') as csv_output:\n",
    "        \n",
    "        #Use escapechar to separate the delimiter and words\n",
    "        writer = csv.writer(csv_output, delimiter=',', quoting=csv.QUOTE_NONE, lineterminator='\\n',escapechar='\\\\')\n",
    "        \n",
    "        #Title row\n",
    "        writer.writerow((\"Name of Restaurant\", 'City', 'Country Code', 'Day of Week', 'Start Time Hour', 'Start Time Minutes', 'End Time Hour', 'End Time Minutes'))\n",
    "        for row in restaurant_timings:\n",
    "            writer.writerow(row)\n",
    "    \n",
    "        #Close connection\n",
    "        csv_output.close()"
   ]
  },
  {
   "cell_type": "code",
   "execution_count": 43,
   "metadata": {
    "collapsed": true
   },
   "outputs": [],
   "source": [
    "restaurant_timings = []\n",
    "for filename in files:\n",
    "    with open(filename) as f:\n",
    "        \n",
    "        #Load data from json file\n",
    "        data_from_file = json.load(f)\n",
    "        \n",
    "        #Check if the place is a restaurant\n",
    "        if data_from_file[\"term\"] == 'restaurants':\n",
    "            \n",
    "            #Check if there are hours mentioned for a restaurant\n",
    "            try:\n",
    "                details = [value for value in data_from_file[\"hours\"]]\n",
    "            \n",
    "            #Create a dummy row to populate the data in case if it is not present\n",
    "            except:\n",
    "                details = [{\"open\":[{\"day\": \"NA\",\"start\": \"NANA\",\"end\": \"NANA\"}]}]\n",
    "                \n",
    "            #Populate the data in a list\n",
    "            restaurant_timings.extend(adding_rows(data_from_file, details[0][\"open\"]))\n",
    "            \n",
    "write_to_csv('restaurant_timings.csv', restaurant_timings)"
   ]
  },
  {
   "cell_type": "code",
   "execution_count": null,
   "metadata": {
    "collapsed": true
   },
   "outputs": [],
   "source": []
  }
 ],
 "metadata": {
  "anaconda-cloud": {},
  "kernelspec": {
   "display_name": "Python [conda root]",
   "language": "python",
   "name": "conda-root-py"
  },
  "language_info": {
   "codemirror_mode": {
    "name": "ipython",
    "version": 3
   },
   "file_extension": ".py",
   "mimetype": "text/x-python",
   "name": "python",
   "nbconvert_exporter": "python",
   "pygments_lexer": "ipython3",
   "version": "3.5.2"
  }
 },
 "nbformat": 4,
 "nbformat_minor": 1
}
