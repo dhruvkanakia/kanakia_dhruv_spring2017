{
 "cells": [
  {
   "cell_type": "markdown",
   "metadata": {},
   "source": [
    "# Question 2:\n",
    "Part 1:\n",
    "Reading the json files under a directory and sorting them into directories and sub-directories according to Country and term category"
   ]
  },
  {
   "cell_type": "code",
   "execution_count": 1,
   "metadata": {
    "collapsed": true
   },
   "outputs": [],
   "source": [
    "import glob                          #library for glob fucntion\n",
    "import json                          #Library for json file format\n",
    "import os                            #Library for OS file directory structure\n",
    "from shutil import copyfile"
   ]
  },
  {
   "cell_type": "code",
   "execution_count": 2,
   "metadata": {
    "collapsed": false
   },
   "outputs": [
    {
     "name": "stdout",
     "output_type": "stream",
     "text": [
      "11728\n"
     ]
    }
   ],
   "source": [
    "file = glob.glob('C:\\SpandanDocs\\DataAnalysis4Python_Spring17\\Assignment 2\\Data\\*.json')   #Reading data from local drive\n",
    "#file_list\n",
    "print(len(file))                                           "
   ]
  },
  {
   "cell_type": "code",
   "execution_count": 3,
   "metadata": {
    "collapsed": true
   },
   "outputs": [],
   "source": [
    "def checking_path(path):                 # This is defining the check path for ensuring tat path is not previously created\n",
    "    if not os.path.exists(path):     # Check for path\n",
    "        os.makedirs(path)            # Make one if not \n",
    "    return True                      # Return if not tru"
   ]
  },
  {
   "cell_type": "code",
   "execution_count": 4,
   "metadata": {
    "collapsed": true
   },
   "outputs": [],
   "source": [
    "newpath = 'DataProcessed/'"
   ]
  },
  {
   "cell_type": "code",
   "execution_count": 5,
   "metadata": {
    "collapsed": false
   },
   "outputs": [],
   "source": [
    "for f in range(len(file)):           #Looping thorugh each json file\n",
    "    with open (file[f]) as json_file:\n",
    "        data=json.load(json_file)\n",
    "        country_name=data[\"location\"][\"country\"]   \n",
    "        state_name=data[\"location\"][\"state\"]\n",
    "        city_name=data[\"location\"][\"city\"]\n",
    "        term_name=data[\"term\"]\n",
    "        id_1 =data[\"id\"]\n",
    "        folder_name='Data Processed/'+country_name+'/'+state_name+'/'+city_name+'/'+term_name   #Destination folder structure\n",
    "        if checking_path(folder_name): #CHecking for actual path\n",
    "                copyfile(file[f],folder_name+id_1+\".json\") # adding json to folderszx"
   ]
  },
  {
   "cell_type": "code",
   "execution_count": null,
   "metadata": {
    "collapsed": true
   },
   "outputs": [],
   "source": []
  }
 ],
 "metadata": {
  "anaconda-cloud": {},
  "kernelspec": {
   "display_name": "Python [conda root]",
   "language": "python",
   "name": "conda-root-py"
  },
  "language_info": {
   "codemirror_mode": {
    "name": "ipython",
    "version": 3
   },
   "file_extension": ".py",
   "mimetype": "text/x-python",
   "name": "python",
   "nbconvert_exporter": "python",
   "pygments_lexer": "ipython3",
   "version": "3.5.2"
  }
 },
 "nbformat": 4,
 "nbformat_minor": 1
}
