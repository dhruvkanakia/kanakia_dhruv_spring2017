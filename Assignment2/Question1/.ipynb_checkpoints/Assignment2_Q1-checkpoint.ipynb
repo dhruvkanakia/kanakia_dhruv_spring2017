{
 "cells": [
  {
   "cell_type": "markdown",
   "metadata": {},
   "source": [
    "# Question 1\n",
    "\n",
    "Learn and understand Zipf’s Law. Pick any file (or files) in NLTK package. Prove if Zipf’s Law works in Natural Language or not."
   ]
  },
  {
   "cell_type": "code",
   "execution_count": 20,
   "metadata": {
    "collapsed": false
   },
   "outputs": [],
   "source": [
    "#importing all the required libraries\n",
    "from nltk.corpus import inaugural   \n",
    "import glob\n",
    "import csv\n",
    "import math\n",
    "import matplotlib.pyplot as plt"
   ]
  },
  {
   "cell_type": "code",
   "execution_count": 79,
   "metadata": {
    "collapsed": false
   },
   "outputs": [],
   "source": [
    "import os\n",
    "import string\n",
    "import nltk\n",
    "filepath=glob.glob('C:/nltk_data/corpora/inaugural/*') #reading all the files in inaugural\n",
    "def location(filepath):                                #creating a function to find total words\n",
    "    file_disk = [os.path.basename(c) for c in (filepath)]\n",
    "    words= nltk.corpus.inaugural.words(file_disk)\n",
    "    lowercase_words= [i.lower() for i in words]\n",
    "    lowercase_words_only= [u for u in lowercase_words if u not in string.punctuation]\n",
    "    TotalWords= (lowercase_words_only) \n",
    "    return (TotalWords);"
   ]
  },
  {
   "cell_type": "code",
   "execution_count": 80,
   "metadata": {
    "collapsed": false
   },
   "outputs": [],
   "source": [
    "from nltk import FreqDist\n",
    "def freq(TotalWords):                                  #function to calculate count\n",
    "    count={}\n",
    "    for i in TotalWords:\n",
    "        if i not in count:\n",
    "            count[i]= 1\n",
    "        else:\n",
    "            count[i]+=1\n",
    "    word_sorting=sorted(count.items(), key=lambda i: i[1], reverse=True)\n",
    "    freq= FreqDist(word_sorting)\n",
    "    return word_sorting;\n",
    "    #return count;           \n",
    "    \n",
    "        "
   ]
  },
  {
   "cell_type": "code",
   "execution_count": 146,
   "metadata": {
    "collapsed": false
   },
   "outputs": [],
   "source": [
    "Total_Words= location(filepath)                         #passing value to the function\n",
    "#print(Total_Words)"
   ]
  },
  {
   "cell_type": "code",
   "execution_count": 154,
   "metadata": {
    "collapsed": false,
    "scrolled": false
   },
   "outputs": [],
   "source": [
    "Frequency= freq(Total_Words)                            #passing value to the function\n",
    "#print(Frequency)"
   ]
  },
  {
   "cell_type": "code",
   "execution_count": 149,
   "metadata": {
    "collapsed": false
   },
   "outputs": [],
   "source": [
    "def writecsv(Frequency):                                #creating function create csv\n",
    "    \n",
    "    count=1\n",
    "    with open('data.csv', 'w',newline='') as csvfile:\n",
    "        #rows=['Word1','Rank','Frequency']\n",
    "        writer = csv.writer(csvfile,delimiter=',')\n",
    "        writer.writerow(['Word','Rank','Frequency'])\n",
    "        for item in Frequency:\n",
    "            writer.writerow([item[0],count,item[1]])  #sucessfully written sorted data according to rank to csv file \n",
    "            count+=1\n",
    "    return csv\n"
   ]
  },
  {
   "cell_type": "code",
   "execution_count": 153,
   "metadata": {
    "collapsed": false
   },
   "outputs": [
    {
     "data": {
      "image/png": "[encoded data removed]",
      "text/plain": [
       "<matplotlib.figure.Figure at 0x25f3ce50550>"
      ]
     },
     "metadata": {},
     "output_type": "display_data"
    }
   ],
   "source": [
    "import math                                           \n",
    "x=[]\n",
    "y=[]\n",
    "with open('data.csv','r') as file:\n",
    "    reader=csv.reader(file)\n",
    "    next(reader,None)                                #Ignoring the headers from the csv file\n",
    "    for row in reader:\n",
    "        x.append(math.log10(int(row[1])))\n",
    "        y.append(math.log10(int(row[2])))\n",
    "plt.plot(x,y)\n",
    "plt.xlabel('Log-Rank',fontweight='bold')\n",
    "plt.ylabel('Log-Frequency',fontweight='bold')\n",
    "plt.title(\"Zipf's Law for Inaugural corpora\",fontweight='bold')\n",
    "plt.show()"
   ]
  },
  {
   "cell_type": "markdown",
   "metadata": {
    "collapsed": true
   },
   "source": [
    "# Conclusion:\n",
    "The above graph shows that the curve between Log(Frequency) vs Log(Rank) graph is almost a straight line with a slope of -1. Hence, proving the Zipf's Law."
   ]
  },
  {
   "cell_type": "code",
   "execution_count": null,
   "metadata": {
    "collapsed": true
   },
   "outputs": [],
   "source": []
  }
 ],
 "metadata": {
  "anaconda-cloud": {},
  "kernelspec": {
   "display_name": "Python [conda root]",
   "language": "python",
   "name": "conda-root-py"
  },
  "language_info": {
   "codemirror_mode": {
    "name": "ipython",
    "version": 3
   },
   "file_extension": ".py",
   "mimetype": "text/x-python",
   "name": "python",
   "nbconvert_exporter": "python",
   "pygments_lexer": "ipython3",
   "version": "3.5.2"
  }
 },
 "nbformat": 4,
 "nbformat_minor": 1
}
