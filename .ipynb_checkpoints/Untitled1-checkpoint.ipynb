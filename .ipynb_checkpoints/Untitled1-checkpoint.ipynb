{
 "cells": [
  {
   "cell_type": "code",
   "execution_count": 6,
   "metadata": {
    "collapsed": false
   },
   "outputs": [
    {
     "name": "stdout",
     "output_type": "stream",
     "text": [
      "hello\n"
     ]
    }
   ],
   "source": [
    "#Converting String to lowercase\n",
    "s= \"Hello\"\n",
    "print(s.lower())"
   ]
  },
  {
   "cell_type": "code",
   "execution_count": 66,
   "metadata": {
    "collapsed": false
   },
   "outputs": [
    {
     "data": {
      "text/plain": [
       "['hello']"
      ]
     },
     "execution_count": 66,
     "metadata": {},
     "output_type": "execute_result"
    }
   ],
   "source": [
    "#Converting list[string] to lowercase\n",
    "[s.lower() for s in [\"HELLO\"]]"
   ]
  },
  {
   "cell_type": "code",
   "execution_count": 220,
   "metadata": {
    "collapsed": false,
    "scrolled": true
   },
   "outputs": [
    {
     "name": "stdout",
     "output_type": "stream",
     "text": [
      "[1, 3, 5, 7, 9, 11, 13, 15, 17, 19, 21, 23, 25, 27, 29, 31, 33, 35, 37, 39, 41, 43, 45, 47, 49]\n"
     ]
    }
   ],
   "source": [
    "#Printing odd numbers in a list\n",
    "l1=[o for o in range(1,50) if o%2!=0]\n",
    "print(l1)"
   ]
  },
  {
   "cell_type": "code",
   "execution_count": 221,
   "metadata": {
    "collapsed": false
   },
   "outputs": [
    {
     "name": "stdout",
     "output_type": "stream",
     "text": [
      "[0, 5, 10, 15, 20, 25, 30, 35, 40, 45, 50, 55, 60, 65, 70, 75, 80, 85, 90, 95]\n"
     ]
    }
   ],
   "source": [
    "#Printing numbers divisible by 5 \n",
    "l2=[o for o in range(100) if o%5==0]\n",
    "print(l2)"
   ]
  },
  {
   "cell_type": "code",
   "execution_count": 222,
   "metadata": {
    "collapsed": false
   },
   "outputs": [
    {
     "name": "stdout",
     "output_type": "stream",
     "text": [
      "[45, 47, 49, 85, 90, 95]\n"
     ]
    }
   ],
   "source": [
    "#Select last 3 elements from each list and create a new list combining both.\n",
    "l3=l1[-3:]\n",
    "l4= l2[-3:]\n",
    "l5=l3+l4\n",
    "print(l5)"
   ]
  },
  {
   "cell_type": "code",
   "execution_count": 223,
   "metadata": {
    "collapsed": false
   },
   "outputs": [
    {
     "name": "stdout",
     "output_type": "stream",
     "text": [
      "[35, 37, 39, 41, 43]\n"
     ]
    }
   ],
   "source": [
    "#Select last 5 elements but skipping each following element.\n",
    "for x in l5:\n",
    "       if (x in l1):\n",
    "            if(x)\n",
    "        l1.remove(x)\n",
    "l6=print(l1[-5:])"
   ]
  },
  {
   "cell_type": "code",
   "execution_count": 241,
   "metadata": {
    "collapsed": false,
    "scrolled": false
   },
   "outputs": [
    {
     "name": "stdout",
     "output_type": "stream",
     "text": [
      "{'1': {'Name': 'Manav', 'age': '10', 'Gender': 'F'}, '2': {'Name': 'DHruv', 'age': '18', 'Gender': 'M'}, '3': {'Name': 'Yash', 'age': '20', 'Gender': 'F'}}\n"
     ]
    }
   ],
   "source": [
    "#Create a dict D1 which can store the Name,age and Gender of 3 students.\n",
    "D= {\n",
    "    '1':{'Name':'Manav', 'age':'10', 'Gender':'F'} ,'2':{'Name':'DHruv', 'age':'18', 'Gender':'M'},\n",
    "    '3':{'Name':'Yash', 'age':'20', 'Gender':'F'}\n",
    "}\n",
    "print(D)"
   ]
  },
  {
   "cell_type": "code",
   "execution_count": 242,
   "metadata": {
    "collapsed": false
   },
   "outputs": [
    {
     "name": "stdout",
     "output_type": "stream",
     "text": [
      "{'1': {'Name': 'Manav', 'age': '10', 'Gender': 'F', 'Assignment1': '94'}, '2': {'Name': 'DHruv', 'age': '18', 'Gender': 'M'}, '3': {'Name': 'Yash', 'age': '20', 'Gender': 'F'}}\n"
     ]
    }
   ],
   "source": [
    "update= {'1': {'Name':'Manav', 'age':'10', 'Gender':'F', 'Assignment1':'94'}}\n",
    "D.update(update)\n",
    "print(D)"
   ]
  },
  {
   "cell_type": "code",
   "execution_count": 243,
   "metadata": {
    "collapsed": false
   },
   "outputs": [
    {
     "data": {
      "text/plain": [
       "4"
      ]
     },
     "execution_count": 243,
     "metadata": {},
     "output_type": "execute_result"
    }
   ],
   "source": [
    "D.get(1,4)"
   ]
  },
  {
   "cell_type": "code",
   "execution_count": null,
   "metadata": {
    "collapsed": true
   },
   "outputs": [],
   "source": []
  }
 ],
 "metadata": {
  "anaconda-cloud": {},
  "kernelspec": {
   "display_name": "Python [conda root]",
   "language": "python",
   "name": "conda-root-py"
  },
  "language_info": {
   "codemirror_mode": {
    "name": "ipython",
    "version": 3
   },
   "file_extension": ".py",
   "mimetype": "text/x-python",
   "name": "python",
   "nbconvert_exporter": "python",
   "pygments_lexer": "ipython3",
   "version": "3.5.2"
  }
 },
 "nbformat": 4,
 "nbformat_minor": 1
}
